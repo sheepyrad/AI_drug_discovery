{
 "cells": [
  {
   "cell_type": "markdown",
   "id": "f3cf307a",
   "metadata": {},
   "source": [
    "# Welcome to the notebook for AI Drug discovery\n",
    "## In this notebook, you will find the pipeline to perform an AI-based drug discovery process with Dengue NS5 as an example"
   ]
  },
  {
   "cell_type": "markdown",
   "id": "eed9624b-88d2-425d-9d72-3cafa4056d78",
   "metadata": {},
   "source": [
    "### Step 1: Pocket-guided ligand generation using DiffSBDD\n",
    " https://github.com/arneschneuing/DiffSBDD\n",
    " ##### Schneuing, A., Harris, C., Du, Y. et al. Structure-based drug design with equivariant diffusion models. Nat Comput Sci 4, 899–909 (2024). https://doi.org/10.1038/s43588-024-00737-\n"
   ]
  },
  {
   "cell_type": "code",
   "execution_count": 1,
   "id": "fab75a9d-0a24-466a-a3e7-87d5e28ff3a4",
   "metadata": {},
   "outputs": [
    {
     "data": {
      "text/html": [
       "\n",
       "    <h3>Parameter Explanation</h3>\n",
       "    <ul>\n",
       "        <li><b>Checkpoint:</b> Path to the model checkpoint file.</li>\n",
       "        <li><b>PDB File:</b> Path to the input PDB file containing the target structure.</li>\n",
       "        <li><b>Out File:</b> Path to save the generated ligand molecules.</li>\n",
       "        <li><b>Residues:</b> List of residue identifiers in the format 'Chain:ResidueNumber'.</li>\n",
       "        <li><b>N Samples:</b> Number of ligand molecules to generate.</li>\n",
       "        <li><b>Sanitize:</b> Whether to apply sanitization to the generated molecules.</li>\n",
       "    </ul>\n",
       "    "
      ],
      "text/plain": [
       "<IPython.core.display.HTML object>"
      ]
     },
     "metadata": {},
     "output_type": "display_data"
    },
    {
     "data": {
      "application/vnd.jupyter.widget-view+json": {
       "model_id": "b927bc0252ba4993a680a0a503391902",
       "version_major": 2,
       "version_minor": 0
      },
      "text/plain": [
       "Text(value='DiffSBDD/checkpoints/crossdocked_fullatom_cond.ckpt', description='Checkpoint:')"
      ]
     },
     "metadata": {},
     "output_type": "display_data"
    },
    {
     "data": {
      "application/vnd.jupyter.widget-view+json": {
       "model_id": "ada54c3f51074526a38c82c0f27b446e",
       "version_major": 2,
       "version_minor": 0
      },
      "text/plain": [
       "Text(value='input/NS5.pdb', description='PDB File:')"
      ]
     },
     "metadata": {},
     "output_type": "display_data"
    },
    {
     "data": {
      "application/vnd.jupyter.widget-view+json": {
       "model_id": "51e4dc58b29249ebb869558b1f5540ac",
       "version_major": 2,
       "version_minor": 0
      },
      "text/plain": [
       "Text(value='Dengue_tutorial/NS5_mols_20.sdf', description='Out File:')"
      ]
     },
     "metadata": {},
     "output_type": "display_data"
    },
    {
     "data": {
      "application/vnd.jupyter.widget-view+json": {
       "model_id": "eaea3f3c982e438d88ff80b6dab49ea6",
       "version_major": 2,
       "version_minor": 0
      },
      "text/plain": [
       "Text(value='A:719 A:770 A:841 A:856 A:887 A:888', description='Residues:')"
      ]
     },
     "metadata": {},
     "output_type": "display_data"
    },
    {
     "data": {
      "application/vnd.jupyter.widget-view+json": {
       "model_id": "76e8c211676440b792b774e5bebe69df",
       "version_major": 2,
       "version_minor": 0
      },
      "text/plain": [
       "IntText(value=20, description='N Samples:')"
      ]
     },
     "metadata": {},
     "output_type": "display_data"
    },
    {
     "data": {
      "application/vnd.jupyter.widget-view+json": {
       "model_id": "99c8678ff8f34d7d85a2ff31a37e47f7",
       "version_major": 2,
       "version_minor": 0
      },
      "text/plain": [
       "Checkbox(value=True, description='Sanitize')"
      ]
     },
     "metadata": {},
     "output_type": "display_data"
    },
    {
     "data": {
      "application/vnd.jupyter.widget-view+json": {
       "model_id": "49b003b9223f4d688f37e0f7a9f8dca8",
       "version_major": 2,
       "version_minor": 0
      },
      "text/plain": [
       "Button(description='Run', style=ButtonStyle())"
      ]
     },
     "metadata": {},
     "output_type": "display_data"
    },
    {
     "data": {
      "application/vnd.jupyter.widget-view+json": {
       "model_id": "ba6325d9b4fb4dc6bfef5da5d78cdb3a",
       "version_major": 2,
       "version_minor": 0
      },
      "text/plain": [
       "Output()"
      ]
     },
     "metadata": {},
     "output_type": "display_data"
    },
    {
     "name": "stdout",
     "output_type": "stream",
     "text": [
      "Entropy of n_nodes: H[N] 9.266731262207031\n",
      "Lightning automatically upgraded your loaded checkpoint from v1.8.1 to v2.5.0.post0. To apply the upgrade to your files permanently, run `python -m pytorch_lightning.utilities.upgrade_checkpoint DiffSBDD/checkpoints/crossdocked_fullatom_cond.ckpt`\n",
      "/home/conrad/mambaforge/envs/sbdd-env-exp/lib/python3.10/site-packages/openbabel/__init__.py:14: UserWarning: \"import openbabel\" is deprecated, instead use \"from openbabel import openbabel\"\n",
      "  warnings.warn('\"import openbabel\" is deprecated, instead use \"from openbabel import openbabel\"')\n",
      "[15:51:04] Explicit valence for atom # 4 N, 4, is greater than permitted\n",
      "/home/conrad/virtual_screen/Development_modules/DiffSBDD/analysis/molecule_builder.py:184: UserWarning: Sanitization failed. Returning None.\n",
      "  warnings.warn('Sanitization failed. Returning None.')\n",
      "[15:51:04] Both bonds on one end of an atropisomer are on the same side - atoms are: 17 21\n",
      "[15:51:04] Both bonds on one end of an atropisomer are on the same side - atoms are: 10 26\n",
      "[15:51:04] Both bonds on one end of an atropisomer are on the same side - atoms are: 16 39\n",
      "[15:51:04] Both bonds on one end of an atropisomer are on the same side - atoms are: 24 14\n",
      "[15:51:04] Both bonds on one end of an atropisomer are on the same side - atoms are: 25 35\n",
      "[15:51:04] Both bonds on one end of an atropisomer are on the same side - atoms are: 35 18\n",
      "[15:51:04] The 2 defining bonds for an atropisomer are co-planar - atoms are: 8 0\n",
      "[15:51:04] Both bonds on one end of an atropisomer are on the same side - atoms are: 2 0\n",
      "[15:51:04] Both bonds on one end of an atropisomer are on the same side - atoms are: 2 8\n",
      "[15:51:04] Both bonds on one end of an atropisomer are on the same side - atoms are: 8 19\n",
      "[15:51:04] Both bonds on one end of an atropisomer are on the same side - atoms are: 8 64\n",
      "[15:51:04] The 2 defining bonds for an atropisomer are co-planar - atoms are: 19 64\n",
      "[15:51:04] Both bonds on one end of an atropisomer are on the same side - atoms are: 11 5\n",
      "[15:51:04] Both bonds on one end of an atropisomer are on the same side - atoms are: 0 3\n",
      "[15:51:04] Both bonds on one end of an atropisomer are on the same side - atoms are: 1 0\n",
      "Finished generating ligands! (Time taken: 24.06 seconds)\n",
      "\n"
     ]
    }
   ],
   "source": [
    "import ipywidgets as widgets\n",
    "from IPython.display import display, clear_output, HTML\n",
    "import subprocess\n",
    "import threading\n",
    "import time\n",
    "import os\n",
    "from pathlib import Path\n",
    "\n",
    "# Create an output widget for real-time logging\n",
    "output_widget = widgets.Output()\n",
    "\n",
    "# HTML block explaining parameters\n",
    "param_explanation = HTML(\n",
    "    \"\"\"\n",
    "    <h3>Parameter Explanation</h3>\n",
    "    <ul>\n",
    "        <li><b>Checkpoint:</b> Path to the model checkpoint file.</li>\n",
    "        <li><b>PDB File:</b> Path to the input PDB file containing the target structure.</li>\n",
    "        <li><b>Out File:</b> Path to save the generated ligand molecules.</li>\n",
    "        <li><b>Residues:</b> List of residue identifiers in the format 'Chain:ResidueNumber'.</li>\n",
    "        <li><b>N Samples:</b> Number of ligand molecules to generate.</li>\n",
    "        <li><b>Sanitize:</b> Whether to apply sanitization to the generated molecules.</li>\n",
    "    </ul>\n",
    "    \"\"\"\n",
    ")\n",
    "\n",
    "def run_ligand_generation(checkpoint, pdbfile, outfile, resi_list, n_samples, sanitize):\n",
    "    # Create output directory if it doesn't exist\n",
    "    output_dir = os.path.dirname(outfile)\n",
    "    if output_dir:\n",
    "        Path(output_dir).mkdir(parents=True, exist_ok=True)\n",
    "        \n",
    "    # Construct the command to execute\n",
    "    command = (\n",
    "        f\"python ./DiffSBDD/generate_ligands.py {checkpoint} \"\n",
    "        f\"--pdbfile {pdbfile} --outfile {outfile} --resi_list {' '.join(resi_list)} \"\n",
    "        f\"--n_samples {n_samples} {'--sanitize' if sanitize else ''}\"\n",
    "    )\n",
    "\n",
    "    with output_widget:\n",
    "        clear_output(wait=True)  # Clear previous logs\n",
    "        print(f\"Creating output directory: {output_dir}\")\n",
    "        print(f\"Executing: {command}\\n\")  # Display the command being executed\n",
    "        print(f\"Generating {n_samples} ligands...\\n\")\n",
    "\n",
    "    def run_process():\n",
    "        start_time = time.time()\n",
    "        with output_widget:\n",
    "            process = subprocess.Popen(\n",
    "                command, shell=True, stdout=subprocess.PIPE, stderr=subprocess.PIPE, text=True\n",
    "            )\n",
    "\n",
    "            # Capture and display stdout and stderr dynamically\n",
    "            for line in process.stdout:\n",
    "                print(line, end='')\n",
    "\n",
    "            for err in process.stderr:\n",
    "                print(err, end='')\n",
    "\n",
    "            process.wait()  # Ensure process completes before exiting the thread\n",
    "            end_time = time.time()  # Stop tracking time\n",
    "            elapsed_time = end_time - start_time\n",
    "            print(f\"Finished generating ligands! (Time taken: {elapsed_time:.2f} seconds)\\n\")\n",
    "\n",
    "    # Run process in a separate thread to prevent UI blocking\n",
    "    thread = threading.Thread(target=run_process)\n",
    "    thread.start()\n",
    "\n",
    "# Widgets for user input\n",
    "checkpoint_widget = widgets.Text(value=\"DiffSBDD/checkpoints/crossdocked_fullatom_cond.ckpt\", description=\"Checkpoint:\")\n",
    "pdbfile_widget = widgets.Text(value=\"input/NS5.pdb\", description=\"PDB File:\")\n",
    "outfile_widget = widgets.Text(value=\"Dengue_tutorial/NS5_mols_20.sdf\", description=\"Out File:\")\n",
    "resi_list_widget = widgets.Text(value=\"A:719 A:770 A:841 A:856 A:887 A:888\", description=\"Residues:\")\n",
    "n_samples_widget = widgets.IntText(value=20, description=\"N Samples:\")\n",
    "sanitize_widget = widgets.Checkbox(value=True, description=\"Sanitize\")\n",
    "\n",
    "run_button = widgets.Button(description=\"Run\")\n",
    "\n",
    "def on_run_button_clicked(b):\n",
    "    global outfile, pdbfile  # Make variables available across cells\n",
    "    outfile = outfile_widget.value\n",
    "    pdbfile = pdbfile_widget.value\n",
    "    resi_list = resi_list_widget.value.split()\n",
    "\n",
    "    run_ligand_generation(\n",
    "        checkpoint_widget.value,\n",
    "        pdbfile_widget.value,\n",
    "        outfile_widget.value,\n",
    "        resi_list,\n",
    "        n_samples_widget.value,\n",
    "        sanitize_widget.value\n",
    "    )\n",
    "\n",
    "run_button.on_click(on_run_button_clicked)\n",
    "\n",
    "# Display all widgets\n",
    "display(param_explanation, checkpoint_widget, pdbfile_widget, outfile_widget, resi_list_widget, n_samples_widget, sanitize_widget, run_button, output_widget)\n"
   ]
  },
  {
   "cell_type": "markdown",
   "id": "40b51e38-65c1-4057-ae24-6300d209b785",
   "metadata": {},
   "source": [
    "### Step 2: Using OpenMM to perform a fast relax of the generated compounds \n",
    "This step will lead to more realistic stuctures."
   ]
  },
  {
   "cell_type": "code",
   "execution_count": 3,
   "id": "0e3103cd-49ec-43d3-abff-42d84f636368",
   "metadata": {},
   "outputs": [
    {
     "data": {
      "text/html": [
       "\n",
       "    <h3>Energy Minimization Parameters</h3>\n",
       "    <ul>\n",
       "        <li><b>Protein File:</b> Path to the raw protein PDB file.</li>\n",
       "        <li><b>Ligand File:</b> Path to the raw ligand SDF file. If it contains multiple ligands,\n",
       "            check the \"Multiple Ligands in SDF\" box.</li>\n",
       "        <li><b>Output Path:</b>\n",
       "            For a single ligand, specify the output file path.\n",
       "            For multiple ligands, specify the output directory where minimized files will be saved.</li>\n",
       "        <li><b>Cache Directory:</b> Directory for temporary/cache files (used during preparation).</li>\n",
       "        <li><b>Multiple Ligands in SDF:</b> Check if the ligand file contains multiple molecules.</li>\n",
       "        <li><b>Prep Only:</b> If checked, the files will only be prepared and no minimization will be performed.</li>\n",
       "        <li><b>Name:</b> Base identifier for this process (used in caching and naming output files).</li>\n",
       "    </ul>\n",
       "    <p>\n",
       "    <b>Note:</b> The energy minimization function internally calls <code>prep_protein</code> and \n",
       "    <code>prep_ligand</code> to prepare the provided input files before proceeding.\n",
       "    </p>\n",
       "    "
      ],
      "text/plain": [
       "<IPython.core.display.HTML object>"
      ]
     },
     "metadata": {},
     "output_type": "display_data"
    },
    {
     "data": {
      "application/vnd.jupyter.widget-view+json": {
       "model_id": "3bd0e12f9e0e4ba8b73ead752dd144ae",
       "version_major": 2,
       "version_minor": 0
      },
      "text/plain": [
       "Text(value='input/NS5.pdb', description='Protein File:', layout=Layout(width='600px'))"
      ]
     },
     "metadata": {},
     "output_type": "display_data"
    },
    {
     "data": {
      "application/vnd.jupyter.widget-view+json": {
       "model_id": "934f573bccd845658e4ee4953b58a2e5",
       "version_major": 2,
       "version_minor": 0
      },
      "text/plain": [
       "Text(value='Dengue_tutorial/NS5_mols_20.sdf', description='Ligand File:', layout=Layout(width='600px'))"
      ]
     },
     "metadata": {},
     "output_type": "display_data"
    },
    {
     "data": {
      "application/vnd.jupyter.widget-view+json": {
       "model_id": "798a684401524ddab598b63eaac85492",
       "version_major": 2,
       "version_minor": 0
      },
      "text/plain": [
       "Text(value='Dengue_tutorial/minimized_ligands', description='Output Path:', layout=Layout(width='600px'))"
      ]
     },
     "metadata": {},
     "output_type": "display_data"
    },
    {
     "data": {
      "application/vnd.jupyter.widget-view+json": {
       "model_id": "11000b08ddbf41d68b469cd3f663988b",
       "version_major": 2,
       "version_minor": 0
      },
      "text/plain": [
       "Text(value='Dengue_tutorial/cache', description='Cache Dir:', layout=Layout(width='600px'))"
      ]
     },
     "metadata": {},
     "output_type": "display_data"
    },
    {
     "data": {
      "application/vnd.jupyter.widget-view+json": {
       "model_id": "4586544ae4ac45de8826dbef3df7578a",
       "version_major": 2,
       "version_minor": 0
      },
      "text/plain": [
       "Checkbox(value=True, description='Multiple Ligands in SDF')"
      ]
     },
     "metadata": {},
     "output_type": "display_data"
    },
    {
     "data": {
      "application/vnd.jupyter.widget-view+json": {
       "model_id": "dfeafc2a70554f1693663bf915860c8e",
       "version_major": 2,
       "version_minor": 0
      },
      "text/plain": [
       "Checkbox(value=False, description='Prep Only')"
      ]
     },
     "metadata": {},
     "output_type": "display_data"
    },
    {
     "data": {
      "application/vnd.jupyter.widget-view+json": {
       "model_id": "00cdc80de65d49ae94bc7e1731173e35",
       "version_major": 2,
       "version_minor": 0
      },
      "text/plain": [
       "Text(value='NS5', description='Name:', layout=Layout(width='400px'))"
      ]
     },
     "metadata": {},
     "output_type": "display_data"
    },
    {
     "data": {
      "application/vnd.jupyter.widget-view+json": {
       "model_id": "959de2ed7f5946b3b0c07d77ab0463c5",
       "version_major": 2,
       "version_minor": 0
      },
      "text/plain": [
       "Button(button_style='success', description='Run Energy Minimization', style=ButtonStyle())"
      ]
     },
     "metadata": {},
     "output_type": "display_data"
    },
    {
     "data": {
      "application/vnd.jupyter.widget-view+json": {
       "model_id": "6c87823403f44f298478f568dd65958e",
       "version_major": 2,
       "version_minor": 0
      },
      "text/plain": [
       "Output()"
      ]
     },
     "metadata": {},
     "output_type": "display_data"
    },
    {
     "data": {
      "application/vnd.jupyter.widget-view+json": {
       "model_id": "50466de3eefd4864ad7bd804d22b2982",
       "version_major": 2,
       "version_minor": 0
      },
      "text/plain": [
       "VBox(children=(HBox(children=(IntProgress(value=0, bar_style='info', description='Progress:', max=19), Label(v…"
      ]
     },
     "metadata": {},
     "output_type": "display_data"
    },
    {
     "name": "stderr",
     "output_type": "stream",
     "text": [
      "[16:01:39] UFFTYPER: Warning: hybridization set to SP3 for atom 13\n",
      "/home/conrad/virtual_screen/Development_modules/energy_minimization.py:182: UserWarning: Warning! Partial charge method 'am1bcc' is not designed for use on large (i.e. > 150 atoms) molecules and may crash or take hours to run on this molecule (found 158 atoms). For more, see https://docs.openforcefield.org/projects/toolkit/en/stable/faq.html#parameterizing-my-system-which-contains-a-large-molecule-is-taking-forever-whats-wrong\n",
      "  ligand.assign_partial_charges(partial_charge_method=\"am1bcc\")\n",
      "[2025-02-27 16:21:30,873] ERROR: Error processing ligand 12: BondHandler was not able to find parameters for the following valence terms:\n",
      "\n",
      "- Topology indices (1, 3): names and elements (Br1 Br), (O3 O), \n",
      "\n",
      "[16:32:17] UFFTYPER: Unrecognized atom type: S_5+4 (4)\n"
     ]
    }
   ],
   "source": [
    "# %% [code]\n",
    "\"\"\"\n",
    "Integrated Energy Minimization Widget (Multiple Ligands Supported)\n",
    "\n",
    "This cell integrates the energy minimization step into your ligand-generation pipeline.\n",
    "It handles the case where the provided ligand SDF file contains multiple ligands.\n",
    "If \"Multiple Ligands in SDF\" is checked, the code will:\n",
    "  1. Split the multi-ligand SDF into individual single-ligand files.\n",
    "  2. For each ligand, run the preparation (via prep_ligand) and minimization.\n",
    "If \"Prep Only\" is checked, the process will stop after preparation.\n",
    "The fastest available OpenMM platform is used.\n",
    "\"\"\"\n",
    "\n",
    "# %% [imports]\n",
    "import ipywidgets as widgets\n",
    "from IPython.display import display, clear_output, HTML\n",
    "import threading\n",
    "import time\n",
    "from pathlib import Path\n",
    "import traceback\n",
    "import logging\n",
    "\n",
    "from ipywidgets import IntProgress, Label, VBox, HBox\n",
    "from IPython.display import display\n",
    "\n",
    "# Set up a logger for additional debugging information.\n",
    "logger = logging.getLogger(\"EnergyMinimizationWidget\")\n",
    "logger.setLevel(logging.INFO)\n",
    "if not any(isinstance(h, logging.StreamHandler) for h in logger.handlers):\n",
    "    ch = logging.StreamHandler()\n",
    "    ch.setLevel(logging.WARNING)\n",
    "    formatter = logging.Formatter(\"[%(asctime)s] %(levelname)s: %(message)s\")\n",
    "    ch.setFormatter(formatter)\n",
    "    logger.addHandler(ch)\n",
    "\n",
    "# Import the energy minimization function (which internally calls prep_protein and prep_ligand)\n",
    "from energy_minimization import optimize_ligand_in_pocket\n",
    "from openmm.unit import kilojoule, mole  # for unit conversion\n",
    "\n",
    "# For splitting the SDF file, we use RDKit:\n",
    "from rdkit import Chem\n",
    "from rdkit.Chem.rdmolfiles import MolToMolFile\n",
    "\n",
    "# ------------------------------------------------------------------------------\n",
    "# Helper function: Split an SDF file with multiple ligands into separate SDF files.\n",
    "# ------------------------------------------------------------------------------\n",
    "def split_sdf_file(ligand_sdf: Path, output_dir: Path, base_name: str) -> list[Path]:\n",
    "    \"\"\"\n",
    "    Splits a multi-molecule SDF file into individual SDF files, with a failsafe to skip problematic ligands.\n",
    "\n",
    "    Parameters:\n",
    "      ligand_sdf (Path): Path to the multi-ligand SDF file.\n",
    "      output_dir (Path): Directory where the split files will be stored.\n",
    "      base_name (str): Base name for naming the individual ligand files.\n",
    "\n",
    "    Returns:\n",
    "      List[Path]: A list of paths to the individual ligand SDF files.\n",
    "    \"\"\"\n",
    "    logger.info(f\"Splitting SDF file: {ligand_sdf}\")\n",
    "    output_dir.mkdir(parents=True, exist_ok=True)\n",
    "    # Use sanitize=False for splitting (we assume the original file parses correctly).\n",
    "    suppl = Chem.SDMolSupplier(str(ligand_sdf), sanitize=False)\n",
    "    output_paths = []\n",
    "    \n",
    "    for idx, mol in enumerate(suppl):\n",
    "        if mol is None:\n",
    "            logger.warning(f\"Skipping molecule {idx} as it could not be parsed.\")\n",
    "            continue\n",
    "        \n",
    "        try:\n",
    "            ligand_file = output_dir / f\"{base_name}_ligand_{idx}.sdf\"\n",
    "            MolToMolFile(mol, str(ligand_file))\n",
    "            logger.info(f\"Saved split ligand file: {ligand_file}\")\n",
    "            output_paths.append(ligand_file)\n",
    "        except Exception as e:\n",
    "            logger.warning(f\"Error processing molecule {idx}: {e}. Skipping this molecule.\")\n",
    "\n",
    "    logger.info(f\"Finished splitting. Total valid ligands: {len(output_paths)}\")\n",
    "    return output_paths\n",
    "\n",
    "# ------------------------------------------------------------------------------\n",
    "# Widgets for user input\n",
    "# ------------------------------------------------------------------------------\n",
    "energy_min_info = HTML(\n",
    "    \"\"\"\n",
    "    <h3>Energy Minimization Parameters</h3>\n",
    "    <ul>\n",
    "        <li><b>Protein File:</b> Path to the raw protein PDB file.</li>\n",
    "        <li><b>Ligand File:</b> Path to the raw ligand SDF file. If it contains multiple ligands,\n",
    "            check the \"Multiple Ligands in SDF\" box.</li>\n",
    "        <li><b>Output Path:</b>\n",
    "            For a single ligand, specify the output file path.\n",
    "            For multiple ligands, specify the output directory where minimized files will be saved.</li>\n",
    "        <li><b>Cache Directory:</b> Directory for temporary/cache files (used during preparation).</li>\n",
    "        <li><b>Multiple Ligands in SDF:</b> Check if the ligand file contains multiple molecules.</li>\n",
    "        <li><b>Prep Only:</b> If checked, the files will only be prepared and no minimization will be performed.</li>\n",
    "        <li><b>Name:</b> Base identifier for this process (used in caching and naming output files).</li>\n",
    "    </ul>\n",
    "    <p>\n",
    "    <b>Note:</b> The energy minimization function internally calls <code>prep_protein</code> and \n",
    "    <code>prep_ligand</code> to prepare the provided input files before proceeding.\n",
    "    </p>\n",
    "    \"\"\"\n",
    ")\n",
    "\n",
    "protein_file_widget = widgets.Text(\n",
    "    value=\"input/NS5.pdb\",\n",
    "    description=\"Protein File:\",\n",
    "    layout=widgets.Layout(width=\"600px\")\n",
    ")\n",
    "ligand_file_widget = widgets.Text(\n",
    "    value=\"Dengue_tutorial/NS5_mols_20.sdf\",\n",
    "    description=\"Ligand File:\",\n",
    "    layout=widgets.Layout(width=\"600px\")\n",
    ")\n",
    "output_path_widget = widgets.Text(\n",
    "    value=\"Dengue_tutorial/minimized_ligands\",\n",
    "    description=\"Output Path:\",\n",
    "    layout=widgets.Layout(width=\"600px\")\n",
    ")\n",
    "cache_dir_widget = widgets.Text(\n",
    "    value=\"Dengue_tutorial/cache\",\n",
    "    description=\"Cache Dir:\",\n",
    "    layout=widgets.Layout(width=\"600px\")\n",
    ")\n",
    "multiple_ligands_widget = widgets.Checkbox(\n",
    "    value=True,\n",
    "    description=\"Multiple Ligands in SDF\"\n",
    ")\n",
    "prep_only_widget = widgets.Checkbox(\n",
    "    value=False,\n",
    "    description=\"Prep Only\"\n",
    ")\n",
    "name_widget = widgets.Text(\n",
    "    value=\"NS5\",\n",
    "    description=\"Name:\",\n",
    "    layout=widgets.Layout(width=\"400px\")\n",
    ")\n",
    "\n",
    "minimize_button = widgets.Button(\n",
    "    description=\"Run Energy Minimization\",\n",
    "    button_style=\"success\"\n",
    ")\n",
    "\n",
    "# A label widget to show elapsed time and status\n",
    "timer_label = Label(value=\"Elapsed Time: 0 seconds\", layout=widgets.Layout(width='250px'))\n",
    "status_label = Label(value=\"\", layout=widgets.Layout(width='200px'))\n",
    "\n",
    "# ------------------------------------------------------------------------------\n",
    "# Callback function for the minimize button\n",
    "# ------------------------------------------------------------------------------\n",
    "def on_minimize_clicked(b):\n",
    "    with output_energy_widget:\n",
    "        clear_output(wait=True)\n",
    "    logger.info(\"Starting energy minimization process.\")\n",
    "\n",
    "    protein_file = Path(protein_file_widget.value)\n",
    "    ligand_file = Path(ligand_file_widget.value)\n",
    "    output_path = Path(output_path_widget.value)\n",
    "    cache_dir = Path(cache_dir_widget.value)\n",
    "    prep_only = prep_only_widget.value\n",
    "    base_name = name_widget.value if name_widget.value else \"ligand\"\n",
    "    \n",
    "    # Ensure the output folder exists before setting up logging\n",
    "    output_path.mkdir(parents=True, exist_ok=True)\n",
    "    \n",
    "    # Set up file logging in the output folder\n",
    "    log_file_path = output_path / \"energy_minimization.log\"\n",
    "    \n",
    "    # Check if a FileHandler is already attached to avoid duplicates\n",
    "    if not any(isinstance(h, logging.FileHandler) for h in logger.handlers):\n",
    "        file_handler = logging.FileHandler(str(log_file_path), mode='w')\n",
    "        file_handler.setLevel(logging.INFO)\n",
    "        formatter = logging.Formatter(\"[%(asctime)s] %(levelname)s: %(message)s\")\n",
    "        file_handler.setFormatter(formatter)\n",
    "        logger.addHandler(file_handler)\n",
    "\n",
    "    # Define a function to process a single ligand file.\n",
    "    def process_single_ligand(single_ligand_file: Path, ligand_index: int):\n",
    "        logger.info(f\"Processing ligand {ligand_index} from file {single_ligand_file}\")\n",
    "        # Determine the output file for this ligand.\n",
    "        output_file = output_path / f\"{base_name}_ligand_{ligand_index}_minimized.sdf\"\n",
    "        try:\n",
    "            result = optimize_ligand_in_pocket(\n",
    "                protein_file=protein_file,\n",
    "                ligand_file=single_ligand_file,\n",
    "                output_file=output_file,\n",
    "                temp_dir=cache_dir,\n",
    "                prep_only=prep_only,\n",
    "                name=f\"{base_name}_ligand_{ligand_index}\",\n",
    "                platform_name=\"fastest\",\n",
    "                add_solvent=False\n",
    "            )\n",
    "        except Exception as e:\n",
    "            logger.error(f\"Error processing ligand {ligand_index}: {e}\")\n",
    "            return  # Skip this ligand\n",
    "        \n",
    "        if prep_only:\n",
    "            print(f\"Ligand {ligand_index}: Prepared only. Prepared files saved in cache.\")\n",
    "        else:\n",
    "            energy_before = result[\"energy_before\"].value_in_unit(kilojoule/mole)\n",
    "            energy_after = result[\"energy_after\"].value_in_unit(kilojoule/mole)\n",
    "            delta_energy = energy_after - energy_before\n",
    "            msg = (f\"Ligand {ligand_index}:\\n\"\n",
    "                   f\"  Energy before minimization: {energy_before:.2f} kJ/mol\\n\"\n",
    "                   f\"  Energy after minimization:  {energy_after:.2f} kJ/mol\\n\"\n",
    "                   f\"  Energy change (ΔE):         {delta_energy:.2f} kJ/mol\\n\"\n",
    "                   f\"  Minimized ligand saved to: {output_file}\\n\")\n",
    "            \n",
    "            logger.info(msg)\n",
    "    # Run the process in a separate thread\n",
    "    def run_process():\n",
    "        try:\n",
    "            start_time = time.time()\n",
    "            logger.info(\"Ensuring cache directory exists...\")\n",
    "            # Ensure the cache directory exists.\n",
    "            cache_dir.mkdir(parents=True, exist_ok=True)\n",
    "            \n",
    "            if multiple_ligands_widget.value:\n",
    "                logger.info(\"Multiple ligands selected. Treating output as directory.\")\n",
    "                # For multiple ligands, treat output_path_widget as a directory.\n",
    "                output_path.mkdir(parents=True, exist_ok=True)\n",
    "                # Create a temporary subdirectory to hold the split ligand files.\n",
    "                split_dir = cache_dir / f\"{base_name}_split_ligands\"\n",
    "                split_dir.mkdir(parents=True, exist_ok=True)\n",
    "                logger.info(f\"Splitting the SDF file {ligand_file} into individual ligand files...\")\n",
    "                # Split the multi-ligand SDF file.\n",
    "                ligand_files = split_sdf_file(ligand_file, split_dir, base_name)\n",
    "                \n",
    "                \n",
    "                # Create and display progress bar\n",
    "                n_ligands = len(ligand_files)\n",
    "                progress_bar = IntProgress(value=0, min=0, max=n_ligands, description='Progress:', bar_style='info')\n",
    "                progress_label = Label(value=f\"0/{n_ligands}\", layout=widgets.Layout(width=\"80px\"))\n",
    "                progress_row = HBox([progress_bar, progress_label], layout=widgets.Layout(width=\"600px\"))\n",
    "                timer_status_row = HBox([timer_label, status_label])\n",
    "                container = VBox([progress_row, timer_status_row])\n",
    "                display(container)\n",
    "                \n",
    "                # Timer thread: update elapsed time every 10 seconds\n",
    "                def format_elapsed(total_seconds):\n",
    "                    days, remainder = divmod(total_seconds, 86400)\n",
    "                    hours, remainder = divmod(remainder, 3600)\n",
    "                    minutes, seconds = divmod(remainder, 60)\n",
    "                    if days > 0:\n",
    "                        return f\"{days}d {hours}h {minutes}m {seconds}s\"\n",
    "                    elif hours > 0:\n",
    "                        return f\"{hours}h {minutes}m {seconds}s\"\n",
    "                    elif minutes > 0:\n",
    "                        return f\"{minutes}m {seconds}s\"\n",
    "                    else:\n",
    "                        return f\"{seconds}s\"\n",
    "                    \n",
    "                def update_timer():\n",
    "                    while not finished_event.is_set():\n",
    "                        elapsed = int(time.time() - start_time)\n",
    "                        timer_label.value = f\"Elapsed Time: {format_elapsed(elapsed)}\"\n",
    "                        time.sleep(1)\n",
    "                        \n",
    "                finished_event = threading.Event()\n",
    "                start_time = time.time()  # Set start time before starting the timer\n",
    "                timer_thread = threading.Thread(target=update_timer)\n",
    "                timer_thread.daemon = True  # Allow thread to exit when main thread exits\n",
    "                timer_thread.start()\n",
    "                \n",
    "                for idx, single_ligand in enumerate(ligand_files):\n",
    "                    process_single_ligand(single_ligand, idx)\n",
    "                    progress_bar.value = idx + 1\n",
    "                    progress_label.value = f\"{idx + 1}/{n_ligands}\"\n",
    "            else:\n",
    "                logger.info(\"Single ligand mode selected.\")\n",
    "                # Single ligand optimization.\n",
    "                # For single ligand, treat output_path_widget as a file path.\n",
    "                # Ensure the parent directory exists.\n",
    "                output_path.parent.mkdir(parents=True, exist_ok=True)\n",
    "                result = optimize_ligand_in_pocket(\n",
    "                    protein_file=protein_file,\n",
    "                    ligand_file=ligand_file,\n",
    "                    output_file=output_path,\n",
    "                    temp_dir=cache_dir,\n",
    "                    prep_only=prep_only,\n",
    "                    name=base_name,\n",
    "                    platform_name=\"fastest\",  # Always use the fastest available platform.\n",
    "                    add_solvent=False\n",
    "                )\n",
    "                if prep_only:\n",
    "                    msg = (\"Preparation only was selected; the input files have been prepared.\\n\"\n",
    "                           f\"Prepared protein file: {cache_dir / (base_name + '_prepped_protein.pdb')}\\n\"\n",
    "                           f\"Prepared ligand file: {cache_dir / (base_name + '_prepped_ligand.sdf')}\")\n",
    "                    print(msg)\n",
    "                else:\n",
    "                    energy_before = result[\"energy_before\"].value_in_unit(kilojoule/mole)\n",
    "                    energy_after = result[\"energy_after\"].value_in_unit(kilojoule/mole)\n",
    "                    delta_energy = energy_after - energy_before\n",
    "                    msg = (f\"Energy before minimization: {energy_before:.2f} kJ/mol\\n\"\n",
    "                           f\"Energy after minimization:  {energy_after:.2f} kJ/mol\\n\"\n",
    "                           f\"Energy change (ΔE):         {delta_energy:.2f} kJ/mol\\n\"\n",
    "                           f\"Minimized ligand saved to: {output_path}\")\n",
    "            \n",
    "            # Signal completion and update the timer's appearance\n",
    "            finished_event.set()\n",
    "            elapsed = time.time() - start_time\n",
    "            timer_label.value = f\"Elapsed Time: {format_elapsed(int(elapsed))}\"\n",
    "            timer_label.style.font_weight = 'bold'\n",
    "            timer_label.style.color = 'green'\n",
    "            status_label.value = \"✅ Process completed!\"\n",
    "            status_label.style.font_weight = 'bold'\n",
    "            status_label.style.color = 'green'\n",
    "            \n",
    "            logger.info(f\"Total process completed in {elapsed:.2f} seconds.\")\n",
    "        except Exception as e:\n",
    "            # Signal completion even on error\n",
    "            if 'finished_event' in locals():\n",
    "                finished_event.set()\n",
    "            timer_label.style.color = 'red'\n",
    "            status_label.value = \"❌ Error occurred!\"\n",
    "            status_label.style.color = 'red'\n",
    "            \n",
    "            logger.error(\"An error occurred during processing:\")\n",
    "            traceback.print_exc()    \n",
    "    thread = threading.Thread(target=run_process)\n",
    "    thread.daemon = True  # Allow thread to exit when notebook is closed\n",
    "    thread.start()\n",
    "# Attach the callback to the button.\n",
    "minimize_button.on_click(on_minimize_clicked)\n",
    "\n",
    "# ------------------------------------------------------------------------------\n",
    "# Create an output widget for logging\n",
    "# ------------------------------------------------------------------------------\n",
    "output_energy_widget = widgets.Output()\n",
    "\n",
    "# ------------------------------------------------------------------------------\n",
    "# Display all widgets\n",
    "# ------------------------------------------------------------------------------\n",
    "display(\n",
    "    energy_min_info,\n",
    "    protein_file_widget,\n",
    "    ligand_file_widget,\n",
    "    output_path_widget,\n",
    "    cache_dir_widget,\n",
    "    multiple_ligands_widget,\n",
    "    prep_only_widget,\n",
    "    name_widget,\n",
    "    minimize_button,\n",
    "    output_energy_widget\n",
    ")"
   ]
  },
  {
   "cell_type": "markdown",
   "id": "ba9b2cdb",
   "metadata": {},
   "source": [
    "Step 2.1: concatenate the ligands into one file"
   ]
  },
  {
   "cell_type": "code",
   "execution_count": 6,
   "id": "a7e9a435",
   "metadata": {},
   "outputs": [
    {
     "data": {
      "application/vnd.jupyter.widget-view+json": {
       "model_id": "35f097e01c534d1fa229d5a92a26ac5b",
       "version_major": 2,
       "version_minor": 0
      },
      "text/plain": [
       "Text(value='Dengue_tutorial/minimized_ligands', description='Input Folder:', layout=Layout(width='600px'))"
      ]
     },
     "metadata": {},
     "output_type": "display_data"
    },
    {
     "data": {
      "application/vnd.jupyter.widget-view+json": {
       "model_id": "b89be3db7f5f4aa9b671ca5b9c322219",
       "version_major": 2,
       "version_minor": 0
      },
      "text/plain": [
       "Text(value='Dengue_tutorial/concatenated_ligands.sdf', description='Output File:', layout=Layout(width='600px'…"
      ]
     },
     "metadata": {},
     "output_type": "display_data"
    },
    {
     "data": {
      "application/vnd.jupyter.widget-view+json": {
       "model_id": "549a3d89e4c34ee8bec4ce5df67c5803",
       "version_major": 2,
       "version_minor": 0
      },
      "text/plain": [
       "Button(button_style='success', description='Concatenate SDF Files', style=ButtonStyle())"
      ]
     },
     "metadata": {},
     "output_type": "display_data"
    }
   ],
   "source": [
    "import os\n",
    "import glob\n",
    "import re\n",
    "from rdkit import Chem\n",
    "import ipywidgets as widgets\n",
    "from IPython.display import display\n",
    "\n",
    "def extract_ligand_number(fname, pattern=r\"_ligand_(\\d+)_minimized\\.sdf$\"):\n",
    "    \"\"\"\n",
    "    Extract the ligand number from a filename using the specified regex pattern.\n",
    "    If no match is found, returns a large number to sort it last.\n",
    "    \"\"\"\n",
    "    m = re.search(pattern, fname)\n",
    "    if m:\n",
    "        return int(m.group(1))\n",
    "    else:\n",
    "        # If pattern not found, return a large number to push it to the end.\n",
    "        return float('inf')\n",
    "\n",
    "def concatenate_sdf_files_sorted(input_folder, output_file):\n",
    "    \"\"\"\n",
    "    Concatenates all SDF files in 'input_folder' into a single SDF file.\n",
    "    Files are sorted in ascending order based on the ligand number extracted from the filename.\n",
    "    \"\"\"\n",
    "    # Find all SDF files in the input folder.\n",
    "    sdf_files = glob.glob(os.path.join(input_folder, \"*.sdf\"))\n",
    "    if not sdf_files:\n",
    "        print(\"No SDF files found in the specified folder.\")\n",
    "        return None\n",
    "    \n",
    "    # Sort files based on the extracted ligand number.\n",
    "    sdf_files_sorted = sorted(sdf_files, key=lambda f: extract_ligand_number(os.path.basename(f)))\n",
    "    \n",
    "    print(\"Concatenation order:\")\n",
    "    for f in sdf_files_sorted:\n",
    "        print(f\"{os.path.basename(f)} (extracted number: {extract_ligand_number(os.path.basename(f))})\")\n",
    "    \n",
    "    # Create an SDWriter for the output file.\n",
    "    writer = Chem.SDWriter(output_file)\n",
    "    \n",
    "    # Loop over each file in sorted order.\n",
    "    for sdf_file in sdf_files_sorted:\n",
    "        print(f\"Processing file: {sdf_file}\")\n",
    "        supplier = Chem.SDMolSupplier(sdf_file)\n",
    "        for mol in supplier:\n",
    "            if mol is not None:\n",
    "                writer.write(mol)\n",
    "    \n",
    "    writer.close()\n",
    "    print(f\"Concatenated SDF file saved to: {output_file}\")\n",
    "    return output_file\n",
    "\n",
    "# Widgets for user input.\n",
    "folder_widget = widgets.Text(\n",
    "    value=\"Dengue_tutorial/minimized_ligands\", \n",
    "    description=\"Input Folder:\",\n",
    "    layout=widgets.Layout(width=\"600px\")\n",
    ")\n",
    "output_file_widget = widgets.Text(\n",
    "    value=\"Dengue_tutorial/concatenated_ligands.sdf\", \n",
    "    description=\"Output File:\",\n",
    "    layout=widgets.Layout(width=\"600px\")\n",
    ")\n",
    "concat_button = widgets.Button(\n",
    "    description=\"Concatenate SDF Files\",\n",
    "    button_style=\"success\"\n",
    ")\n",
    "\n",
    "def on_concat_button_clicked(b):\n",
    "    input_folder = folder_widget.value\n",
    "    output_file = output_file_widget.value\n",
    "    concatenate_sdf_files_sorted(input_folder, output_file)\n",
    "\n",
    "concat_button.on_click(on_concat_button_clicked)\n",
    "\n",
    "display(folder_widget, output_file_widget, concat_button)\n"
   ]
  },
  {
   "cell_type": "markdown",
   "id": "9d6ce79c-30a4-474a-8cc5-c12fa3210df5",
   "metadata": {},
   "source": [
    "### Step 3: Using PoseBuster to filter chemically/physically implausable ligands\n",
    "This step filters the previously generated ligand compounds using Posebusters.  \n"
   ]
  },
  {
   "cell_type": "code",
   "execution_count": null,
   "id": "bf3937f1-03b8-4fa5-8869-d05c51927861",
   "metadata": {},
   "outputs": [
    {
     "data": {
      "application/vnd.jupyter.widget-view+json": {
       "model_id": "969e6bec01c142a9b2bcba33cd18ef5d",
       "version_major": 2,
       "version_minor": 0
      },
      "text/plain": [
       "Text(value='Dengue_tutorial/concatenated_ligands.sdf', description='SDF File:', layout=Layout(width='600px'))"
      ]
     },
     "metadata": {},
     "output_type": "display_data"
    },
    {
     "data": {
      "application/vnd.jupyter.widget-view+json": {
       "model_id": "3ba84ea6fcbe48cb8edf1f6cd9192913",
       "version_major": 2,
       "version_minor": 0
      },
      "text/plain": [
       "Button(button_style='success', description='Run PoseBuster', style=ButtonStyle())"
      ]
     },
     "metadata": {},
     "output_type": "display_data"
    },
    {
     "data": {
      "application/vnd.jupyter.widget-view+json": {
       "model_id": "eae211bbfc894f3c8a2553e579a360b7",
       "version_major": 2,
       "version_minor": 0
      },
      "text/plain": [
       "Output()"
      ]
     },
     "metadata": {},
     "output_type": "display_data"
    }
   ],
   "source": [
    "import ipywidgets as widgets\n",
    "from IPython.display import display, clear_output\n",
    "from pathlib import Path\n",
    "from posebusters import PoseBusters\n",
    "import pandas as pd\n",
    "\n",
    "# Widget for the user to specify the SDF file path.\n",
    "outfile_widget = widgets.Text(\n",
    "    value=\"Dengue_tutorial/concatenated_ligands.sdf\",\n",
    "    description=\"SDF File:\",\n",
    "    layout=widgets.Layout(width=\"600px\")\n",
    ")\n",
    "\n",
    "# Button to run PoseBuster.\n",
    "run_posebuster_button = widgets.Button(\n",
    "    description=\"Run PoseBuster\",\n",
    "    button_style=\"success\"\n",
    ")\n",
    "\n",
    "# Output widget to display the results.\n",
    "output_df_widget = widgets.Output()\n",
    "\n",
    "def on_run_posebuster_clicked(b):\n",
    "    global df_ligands  # Make the DataFrame available across cells.\n",
    "    with output_df_widget:\n",
    "        clear_output(wait=True)\n",
    "        try:\n",
    "            # Get the file path from the widget.\n",
    "            outfile = outfile_widget.value\n",
    "            # Instantiate PoseBusters.\n",
    "            buster = PoseBusters(config=\"mol\")\n",
    "            # Run bust on the specified file.\n",
    "            df_ligands = buster.bust(outfile, None, None)\n",
    "            # Add a column that indicates if all tests passed.\n",
    "            df_ligands['all_true'] = df_ligands.all(axis=1)\n",
    "            print(f\"DataFrame shape: {df_ligands.shape}\")\n",
    "            display(df_ligands)\n",
    "        except Exception as e:\n",
    "            print(\"Error running PoseBuster:\", e)\n",
    "\n",
    "# Attach the callback to the button.\n",
    "run_posebuster_button.on_click(on_run_posebuster_clicked)\n",
    "\n",
    "# Display the widgets.\n",
    "display(outfile_widget, run_posebuster_button, output_df_widget)\n"
   ]
  },
  {
   "cell_type": "markdown",
   "id": "98e9abd4",
   "metadata": {},
   "source": [
    "Extract the passed ligands"
   ]
  },
  {
   "cell_type": "code",
   "execution_count": 8,
   "id": "50f0ebd2",
   "metadata": {},
   "outputs": [
    {
     "data": {
      "application/vnd.jupyter.widget-view+json": {
       "model_id": "b340401f442a497b9fcf677745884d22",
       "version_major": 2,
       "version_minor": 0
      },
      "text/plain": [
       "Text(value='Dengue_tutorial/minimized_ligands', description='Minimized Ligands Folder:', layout=Layout(width='…"
      ]
     },
     "metadata": {},
     "output_type": "display_data"
    },
    {
     "data": {
      "application/vnd.jupyter.widget-view+json": {
       "model_id": "7242f0cd1c57416aa38f311ea1ff8bde",
       "version_major": 2,
       "version_minor": 0
      },
      "text/plain": [
       "Text(value='Dengue_tutorial/posebuster_pass.sdf', description='Output SDF File:', layout=Layout(width='600px')…"
      ]
     },
     "metadata": {},
     "output_type": "display_data"
    },
    {
     "data": {
      "application/vnd.jupyter.widget-view+json": {
       "model_id": "d2e08084fb7c4e29b956fcbea86b7aa2",
       "version_major": 2,
       "version_minor": 0
      },
      "text/plain": [
       "Button(button_style='success', description='Extract Valid Molecules', style=ButtonStyle())"
      ]
     },
     "metadata": {},
     "output_type": "display_data"
    },
    {
     "data": {
      "application/vnd.jupyter.widget-view+json": {
       "model_id": "45618caf0e6740b491f2e4accbeb1690",
       "version_major": 2,
       "version_minor": 0
      },
      "text/plain": [
       "Output()"
      ]
     },
     "metadata": {},
     "output_type": "display_data"
    }
   ],
   "source": [
    "import os\n",
    "import ipywidgets as widgets\n",
    "from IPython.display import display, clear_output\n",
    "from pathlib import Path\n",
    "from rdkit import Chem\n",
    "\n",
    "# Widgets to specify input/output paths\n",
    "minimized_ligands_folder_widget = widgets.Text(\n",
    "    value=\"Dengue_tutorial/minimized_ligands\",\n",
    "    description=\"Minimized Ligands Folder:\",\n",
    "    layout=widgets.Layout(width=\"600px\")\n",
    ")\n",
    "\n",
    "output_sdf_widget = widgets.Text(\n",
    "    value=\"Dengue_tutorial/posebuster_pass.sdf\",\n",
    "    description=\"Output SDF File:\",\n",
    "    layout=widgets.Layout(width=\"600px\")\n",
    ")\n",
    "\n",
    "extract_button = widgets.Button(\n",
    "    description=\"Extract Valid Molecules\",\n",
    "    button_style=\"success\"\n",
    ")\n",
    "\n",
    "output_widget = widgets.Output()\n",
    "\n",
    "def extract_valid_ligands(b):\n",
    "    global filtered_sdf_file  # Make output file globally accessible\n",
    "    \n",
    "    with output_widget:\n",
    "        clear_output(wait=True)\n",
    "        print(\"Starting extraction of valid molecules...\")\n",
    "\n",
    "    minimized_ligands_folder = Path(minimized_ligands_folder_widget.value)\n",
    "    output_sdf_path = Path(output_sdf_widget.value)\n",
    "    \n",
    "    if not minimized_ligands_folder.exists():\n",
    "        with output_widget:\n",
    "            print(f\"Error: The specified minimized ligands folder does not exist: {minimized_ligands_folder}\")\n",
    "        return\n",
    "\n",
    "    # Ensure df_ligands exists\n",
    "    if \"df_ligands\" not in globals():\n",
    "        with output_widget:\n",
    "            print(\"Error: df_ligands is not available. Run PoseBuster first.\")\n",
    "        return\n",
    "\n",
    "    # Filter for only valid molecules from df_ligands\n",
    "    df_valid = df_ligands[df_ligands[\"all_true\"]]\n",
    "    if df_valid.empty:\n",
    "        with output_widget:\n",
    "            print(\"No valid molecules found after filtering. Nothing to extract.\")\n",
    "        return\n",
    "\n",
    "    # Extract ligand names and sort them in ascending order based on their numeric suffix.\n",
    "    # Assumes ligand names are of the form \"NS5_ligand_X\".\n",
    "    valid_ligand_names = list(df_valid.index.get_level_values(\"molecule\"))\n",
    "    try:\n",
    "        valid_ligand_names = sorted(valid_ligand_names, key=lambda name: int(name.split(\"_\")[-1]))\n",
    "    except Exception as e:\n",
    "        with output_widget:\n",
    "            print(\"Error sorting ligand names:\", e)\n",
    "        return\n",
    "\n",
    "    output_sdf_path.parent.mkdir(parents=True, exist_ok=True)  # Ensure output directory exists\n",
    "    writer = Chem.SDWriter(str(output_sdf_path))\n",
    "    count = 0\n",
    "\n",
    "    # For each valid ligand name, look for the exact matching file.\n",
    "    for ligand_name in valid_ligand_names:\n",
    "        # Construct the expected file name based on the known pattern.\n",
    "        sdf_file = minimized_ligands_folder / f\"{ligand_name}_minimized.sdf\"\n",
    "        if sdf_file.exists():\n",
    "            supplier = Chem.SDMolSupplier(str(sdf_file))\n",
    "            if supplier is None or len(supplier) == 0:\n",
    "                with output_widget:\n",
    "                    print(f\"Warning: No molecules found in file: {sdf_file}\")\n",
    "                continue\n",
    "\n",
    "            # Typically there should be one molecule per file.\n",
    "            mol = supplier[0]\n",
    "            if mol is None:\n",
    "                with output_widget:\n",
    "                    print(f\"Warning: Molecule in file {sdf_file} is None.\")\n",
    "                continue\n",
    "\n",
    "            # Check that the molecule's name exactly matches the expected ligand name.\n",
    "            mol_name = mol.GetProp(\"_Name\").strip() if mol.HasProp(\"_Name\") else None\n",
    "            if mol_name == ligand_name:\n",
    "                writer.write(mol)\n",
    "                count += 1\n",
    "            else:\n",
    "                with output_widget:\n",
    "                    print(f\"Skipping {sdf_file}: Molecule name '{mol_name}' does not match expected '{ligand_name}'.\")\n",
    "        else:\n",
    "            with output_widget:\n",
    "                print(f\"File not found for ligand: {ligand_name}\")\n",
    "\n",
    "    writer.close()\n",
    "    filtered_sdf_file = str(output_sdf_path)  # Store path for later use\n",
    "\n",
    "    with output_widget:\n",
    "        print(f\"Extraction complete! {count} valid molecules written to {filtered_sdf_file}\")\n",
    "\n",
    "# Attach function to button\n",
    "extract_button.on_click(extract_valid_ligands)\n",
    "\n",
    "# Display widgets\n",
    "display(minimized_ligands_folder_widget, output_sdf_widget, extract_button, output_widget)\n"
   ]
  },
  {
   "cell_type": "markdown",
   "id": "5d64a39d",
   "metadata": {},
   "source": [
    "### Visualize using MedChem filters"
   ]
  },
  {
   "cell_type": "code",
   "execution_count": 9,
   "id": "f6364654-ff4d-46f9-af54-99111535c5a9",
   "metadata": {},
   "outputs": [
    {
     "name": "stdout",
     "output_type": "stream",
     "text": [
      "Number of compounds extracted from SDF file: 13\n"
     ]
    },
    {
     "name": "stderr",
     "output_type": "stream",
     "text": [
      "<frozen importlib._bootstrap>:241: RuntimeWarning:\n",
      "\n",
      "to-Python converter for boost::shared_ptr<RDKit::FilterHierarchyMatcher> already registered; second conversion method ignored.\n",
      "\n",
      "<frozen importlib._bootstrap>:241: RuntimeWarning:\n",
      "\n",
      "to-Python converter for boost::shared_ptr<RDKit::FilterCatalogEntry> already registered; second conversion method ignored.\n",
      "\n"
     ]
    },
    {
     "data": {
      "application/vnd.jupyter.widget-view+json": {
       "model_id": "8e657499b98f40169407f98e60c0401b",
       "version_major": 2,
       "version_minor": 0
      },
      "text/plain": [
       "Common alerts filtering:   0%|          | 0/13 [00:00<?, ?it/s]"
      ]
     },
     "metadata": {},
     "output_type": "display_data"
    },
    {
     "data": {
      "application/vnd.jupyter.widget-view+json": {
       "model_id": "22c5bb30487f4e83b9e90407b655a9da",
       "version_major": 2,
       "version_minor": 0
      },
      "text/plain": [
       "Common alerts filtering:   0%|          | 0/13 [00:00<?, ?it/s]"
      ]
     },
     "metadata": {},
     "output_type": "display_data"
    },
    {
     "data": {
      "application/vnd.jupyter.widget-view+json": {
       "model_id": "36db4a1be00b453491f025c946c8ad40",
       "version_major": 2,
       "version_minor": 0
      },
      "text/plain": [
       "Common alerts filtering:   0%|          | 0/13 [00:00<?, ?it/s]"
      ]
     },
     "metadata": {},
     "output_type": "display_data"
    },
    {
     "data": {
      "application/vnd.jupyter.widget-view+json": {
       "model_id": "5ef696f0d6e64a73b2c005300f517002",
       "version_major": 2,
       "version_minor": 0
      },
      "text/plain": [
       "NIBR filtering:   0%|          | 0/13 [00:00<?, ?it/s]"
      ]
     },
     "metadata": {},
     "output_type": "display_data"
    },
    {
     "data": {
      "application/vnd.jupyter.widget-view+json": {
       "model_id": "90f800122ea346f2972c28ead40cf355",
       "version_major": 2,
       "version_minor": 0
      },
      "text/plain": [
       "Complexity Evaluation:   0%|          | 0/13 [00:00<?, ?it/s]"
      ]
     },
     "metadata": {},
     "output_type": "display_data"
    },
    {
     "data": {
      "application/vnd.jupyter.widget-view+json": {
       "model_id": "c7f9a6b61cd4412eaaf6145f8a361fe2",
       "version_major": 2,
       "version_minor": 0
      },
      "text/plain": [
       "To mol:   0%|          | 0/13 [00:00<?, ?it/s]"
      ]
     },
     "metadata": {},
     "output_type": "display_data"
    },
    {
     "data": {
      "application/vnd.jupyter.widget-view+json": {
       "model_id": "65dd9f962a5f4337bda8489fa1f5e359",
       "version_major": 2,
       "version_minor": 0
      },
      "text/plain": [
       "Filtering with catalogs:   0%|          | 0/1 [00:00<?, ?it/s]"
      ]
     },
     "metadata": {},
     "output_type": "display_data"
    },
    {
     "data": {
      "application/vnd.jupyter.widget-view+json": {
       "model_id": "75c4800732044bd394a020344ce5b225",
       "version_major": 2,
       "version_minor": 0
      },
      "text/plain": [
       "Match:   0%|          | 0/13 [00:00<?, ?it/s]"
      ]
     },
     "metadata": {},
     "output_type": "display_data"
    },
    {
     "data": {
      "application/vnd.plotly.v1+json": {
       "config": {
        "plotlyServerURL": "https://plot.ly"
       },
       "data": [
        {
         "colorbar": {
          "tickmode": "array",
          "ticktext": [
           "Don't Pass",
           "Pass"
          ],
          "tickvals": [
           0,
           1
          ],
          "title": {
           "text": "Filter Status"
          }
         },
         "colorscale": [
          [
           0,
           "#EF6262"
          ],
          [
           1,
           "#1D5B79"
          ]
         ],
         "hoverinfo": "text",
         "text": [
          [
           "Compound: NS5_ligand_0<br>Filter: rule_of_five<br>Pass: 1",
           "Compound: NS5_ligand_1<br>Filter: rule_of_five<br>Pass: 1",
           "Compound: NS5_ligand_2<br>Filter: rule_of_five<br>Pass: 1",
           "Compound: NS5_ligand_3<br>Filter: rule_of_five<br>Pass: 1",
           "Compound: NS5_ligand_4<br>Filter: rule_of_five<br>Pass: 1",
           "Compound: NS5_ligand_6<br>Filter: rule_of_five<br>Pass: 0",
           "Compound: NS5_ligand_7<br>Filter: rule_of_five<br>Pass: 1",
           "Compound: NS5_ligand_9<br>Filter: rule_of_five<br>Pass: 1",
           "Compound: NS5_ligand_10<br>Filter: rule_of_five<br>Pass: 1",
           "Compound: NS5_ligand_14<br>Filter: rule_of_five<br>Pass: 1",
           "Compound: NS5_ligand_15<br>Filter: rule_of_five<br>Pass: 1",
           "Compound: NS5_ligand_16<br>Filter: rule_of_five<br>Pass: 1",
           "Compound: NS5_ligand_17<br>Filter: rule_of_five<br>Pass: 1"
          ],
          [
           "Compound: NS5_ligand_0<br>Filter: rule_of_ghose<br>Pass: 0",
           "Compound: NS5_ligand_1<br>Filter: rule_of_ghose<br>Pass: 0",
           "Compound: NS5_ligand_2<br>Filter: rule_of_ghose<br>Pass: 0",
           "Compound: NS5_ligand_3<br>Filter: rule_of_ghose<br>Pass: 1",
           "Compound: NS5_ligand_4<br>Filter: rule_of_ghose<br>Pass: 0",
           "Compound: NS5_ligand_6<br>Filter: rule_of_ghose<br>Pass: 0",
           "Compound: NS5_ligand_7<br>Filter: rule_of_ghose<br>Pass: 0",
           "Compound: NS5_ligand_9<br>Filter: rule_of_ghose<br>Pass: 0",
           "Compound: NS5_ligand_10<br>Filter: rule_of_ghose<br>Pass: 0",
           "Compound: NS5_ligand_14<br>Filter: rule_of_ghose<br>Pass: 0",
           "Compound: NS5_ligand_15<br>Filter: rule_of_ghose<br>Pass: 1",
           "Compound: NS5_ligand_16<br>Filter: rule_of_ghose<br>Pass: 0",
           "Compound: NS5_ligand_17<br>Filter: rule_of_ghose<br>Pass: 0"
          ],
          [
           "Compound: NS5_ligand_0<br>Filter: rule_of_veber<br>Pass: 1",
           "Compound: NS5_ligand_1<br>Filter: rule_of_veber<br>Pass: 1",
           "Compound: NS5_ligand_2<br>Filter: rule_of_veber<br>Pass: 1",
           "Compound: NS5_ligand_3<br>Filter: rule_of_veber<br>Pass: 0",
           "Compound: NS5_ligand_4<br>Filter: rule_of_veber<br>Pass: 1",
           "Compound: NS5_ligand_6<br>Filter: rule_of_veber<br>Pass: 0",
           "Compound: NS5_ligand_7<br>Filter: rule_of_veber<br>Pass: 1",
           "Compound: NS5_ligand_9<br>Filter: rule_of_veber<br>Pass: 1",
           "Compound: NS5_ligand_10<br>Filter: rule_of_veber<br>Pass: 1",
           "Compound: NS5_ligand_14<br>Filter: rule_of_veber<br>Pass: 1",
           "Compound: NS5_ligand_15<br>Filter: rule_of_veber<br>Pass: 1",
           "Compound: NS5_ligand_16<br>Filter: rule_of_veber<br>Pass: 1",
           "Compound: NS5_ligand_17<br>Filter: rule_of_veber<br>Pass: 1"
          ],
          [
           "Compound: NS5_ligand_0<br>Filter: rule_of_reos<br>Pass: 0",
           "Compound: NS5_ligand_1<br>Filter: rule_of_reos<br>Pass: 0",
           "Compound: NS5_ligand_2<br>Filter: rule_of_reos<br>Pass: 0",
           "Compound: NS5_ligand_3<br>Filter: rule_of_reos<br>Pass: 0",
           "Compound: NS5_ligand_4<br>Filter: rule_of_reos<br>Pass: 0",
           "Compound: NS5_ligand_6<br>Filter: rule_of_reos<br>Pass: 0",
           "Compound: NS5_ligand_7<br>Filter: rule_of_reos<br>Pass: 0",
           "Compound: NS5_ligand_9<br>Filter: rule_of_reos<br>Pass: 0",
           "Compound: NS5_ligand_10<br>Filter: rule_of_reos<br>Pass: 0",
           "Compound: NS5_ligand_14<br>Filter: rule_of_reos<br>Pass: 0",
           "Compound: NS5_ligand_15<br>Filter: rule_of_reos<br>Pass: 1",
           "Compound: NS5_ligand_16<br>Filter: rule_of_reos<br>Pass: 0",
           "Compound: NS5_ligand_17<br>Filter: rule_of_reos<br>Pass: 0"
          ],
          [
           "Compound: NS5_ligand_0<br>Filter: rule_of_chemaxon_druglikeness<br>Pass: 1",
           "Compound: NS5_ligand_1<br>Filter: rule_of_chemaxon_druglikeness<br>Pass: 0",
           "Compound: NS5_ligand_2<br>Filter: rule_of_chemaxon_druglikeness<br>Pass: 1",
           "Compound: NS5_ligand_3<br>Filter: rule_of_chemaxon_druglikeness<br>Pass: 0",
           "Compound: NS5_ligand_4<br>Filter: rule_of_chemaxon_druglikeness<br>Pass: 1",
           "Compound: NS5_ligand_6<br>Filter: rule_of_chemaxon_druglikeness<br>Pass: 0",
           "Compound: NS5_ligand_7<br>Filter: rule_of_chemaxon_druglikeness<br>Pass: 1",
           "Compound: NS5_ligand_9<br>Filter: rule_of_chemaxon_druglikeness<br>Pass: 0",
           "Compound: NS5_ligand_10<br>Filter: rule_of_chemaxon_druglikeness<br>Pass: 1",
           "Compound: NS5_ligand_14<br>Filter: rule_of_chemaxon_druglikeness<br>Pass: 1",
           "Compound: NS5_ligand_15<br>Filter: rule_of_chemaxon_druglikeness<br>Pass: 0",
           "Compound: NS5_ligand_16<br>Filter: rule_of_chemaxon_druglikeness<br>Pass: 1",
           "Compound: NS5_ligand_17<br>Filter: rule_of_chemaxon_druglikeness<br>Pass: 1"
          ],
          [
           "Compound: NS5_ligand_0<br>Filter: rule_of_egan<br>Pass: 1",
           "Compound: NS5_ligand_1<br>Filter: rule_of_egan<br>Pass: 1",
           "Compound: NS5_ligand_2<br>Filter: rule_of_egan<br>Pass: 1",
           "Compound: NS5_ligand_3<br>Filter: rule_of_egan<br>Pass: 0",
           "Compound: NS5_ligand_4<br>Filter: rule_of_egan<br>Pass: 1",
           "Compound: NS5_ligand_6<br>Filter: rule_of_egan<br>Pass: 0",
           "Compound: NS5_ligand_7<br>Filter: rule_of_egan<br>Pass: 1",
           "Compound: NS5_ligand_9<br>Filter: rule_of_egan<br>Pass: 0",
           "Compound: NS5_ligand_10<br>Filter: rule_of_egan<br>Pass: 1",
           "Compound: NS5_ligand_14<br>Filter: rule_of_egan<br>Pass: 0",
           "Compound: NS5_ligand_15<br>Filter: rule_of_egan<br>Pass: 1",
           "Compound: NS5_ligand_16<br>Filter: rule_of_egan<br>Pass: 1",
           "Compound: NS5_ligand_17<br>Filter: rule_of_egan<br>Pass: 1"
          ],
          [
           "Compound: NS5_ligand_0<br>Filter: rule_of_pfizer_3_75<br>Pass: 1",
           "Compound: NS5_ligand_1<br>Filter: rule_of_pfizer_3_75<br>Pass: 1",
           "Compound: NS5_ligand_2<br>Filter: rule_of_pfizer_3_75<br>Pass: 1",
           "Compound: NS5_ligand_3<br>Filter: rule_of_pfizer_3_75<br>Pass: 1",
           "Compound: NS5_ligand_4<br>Filter: rule_of_pfizer_3_75<br>Pass: 1",
           "Compound: NS5_ligand_6<br>Filter: rule_of_pfizer_3_75<br>Pass: 1",
           "Compound: NS5_ligand_7<br>Filter: rule_of_pfizer_3_75<br>Pass: 0",
           "Compound: NS5_ligand_9<br>Filter: rule_of_pfizer_3_75<br>Pass: 1",
           "Compound: NS5_ligand_10<br>Filter: rule_of_pfizer_3_75<br>Pass: 1",
           "Compound: NS5_ligand_14<br>Filter: rule_of_pfizer_3_75<br>Pass: 1",
           "Compound: NS5_ligand_15<br>Filter: rule_of_pfizer_3_75<br>Pass: 1",
           "Compound: NS5_ligand_16<br>Filter: rule_of_pfizer_3_75<br>Pass: 1",
           "Compound: NS5_ligand_17<br>Filter: rule_of_pfizer_3_75<br>Pass: 1"
          ],
          [
           "Compound: NS5_ligand_0<br>Filter: rule_of_gsk_4_400<br>Pass: 1",
           "Compound: NS5_ligand_1<br>Filter: rule_of_gsk_4_400<br>Pass: 1",
           "Compound: NS5_ligand_2<br>Filter: rule_of_gsk_4_400<br>Pass: 1",
           "Compound: NS5_ligand_3<br>Filter: rule_of_gsk_4_400<br>Pass: 1",
           "Compound: NS5_ligand_4<br>Filter: rule_of_gsk_4_400<br>Pass: 1",
           "Compound: NS5_ligand_6<br>Filter: rule_of_gsk_4_400<br>Pass: 1",
           "Compound: NS5_ligand_7<br>Filter: rule_of_gsk_4_400<br>Pass: 1",
           "Compound: NS5_ligand_9<br>Filter: rule_of_gsk_4_400<br>Pass: 1",
           "Compound: NS5_ligand_10<br>Filter: rule_of_gsk_4_400<br>Pass: 1",
           "Compound: NS5_ligand_14<br>Filter: rule_of_gsk_4_400<br>Pass: 1",
           "Compound: NS5_ligand_15<br>Filter: rule_of_gsk_4_400<br>Pass: 0",
           "Compound: NS5_ligand_16<br>Filter: rule_of_gsk_4_400<br>Pass: 1",
           "Compound: NS5_ligand_17<br>Filter: rule_of_gsk_4_400<br>Pass: 1"
          ],
          [
           "Compound: NS5_ligand_0<br>Filter: rule_of_oprea<br>Pass: 0",
           "Compound: NS5_ligand_1<br>Filter: rule_of_oprea<br>Pass: 0",
           "Compound: NS5_ligand_2<br>Filter: rule_of_oprea<br>Pass: 0",
           "Compound: NS5_ligand_3<br>Filter: rule_of_oprea<br>Pass: 0",
           "Compound: NS5_ligand_4<br>Filter: rule_of_oprea<br>Pass: 0",
           "Compound: NS5_ligand_6<br>Filter: rule_of_oprea<br>Pass: 0",
           "Compound: NS5_ligand_7<br>Filter: rule_of_oprea<br>Pass: 0",
           "Compound: NS5_ligand_9<br>Filter: rule_of_oprea<br>Pass: 0",
           "Compound: NS5_ligand_10<br>Filter: rule_of_oprea<br>Pass: 1",
           "Compound: NS5_ligand_14<br>Filter: rule_of_oprea<br>Pass: 1",
           "Compound: NS5_ligand_15<br>Filter: rule_of_oprea<br>Pass: 0",
           "Compound: NS5_ligand_16<br>Filter: rule_of_oprea<br>Pass: 0",
           "Compound: NS5_ligand_17<br>Filter: rule_of_oprea<br>Pass: 0"
          ],
          [
           "Compound: NS5_ligand_0<br>Filter: rule_of_xu<br>Pass: 0",
           "Compound: NS5_ligand_1<br>Filter: rule_of_xu<br>Pass: 0",
           "Compound: NS5_ligand_2<br>Filter: rule_of_xu<br>Pass: 0",
           "Compound: NS5_ligand_3<br>Filter: rule_of_xu<br>Pass: 1",
           "Compound: NS5_ligand_4<br>Filter: rule_of_xu<br>Pass: 0",
           "Compound: NS5_ligand_6<br>Filter: rule_of_xu<br>Pass: 0",
           "Compound: NS5_ligand_7<br>Filter: rule_of_xu<br>Pass: 1",
           "Compound: NS5_ligand_9<br>Filter: rule_of_xu<br>Pass: 0",
           "Compound: NS5_ligand_10<br>Filter: rule_of_xu<br>Pass: 1",
           "Compound: NS5_ligand_14<br>Filter: rule_of_xu<br>Pass: 1",
           "Compound: NS5_ligand_15<br>Filter: rule_of_xu<br>Pass: 1",
           "Compound: NS5_ligand_16<br>Filter: rule_of_xu<br>Pass: 0",
           "Compound: NS5_ligand_17<br>Filter: rule_of_xu<br>Pass: 0"
          ],
          [
           "Compound: NS5_ligand_0<br>Filter: rule_of_zinc<br>Pass: 1",
           "Compound: NS5_ligand_1<br>Filter: rule_of_zinc<br>Pass: 1",
           "Compound: NS5_ligand_2<br>Filter: rule_of_zinc<br>Pass: 1",
           "Compound: NS5_ligand_3<br>Filter: rule_of_zinc<br>Pass: 1",
           "Compound: NS5_ligand_4<br>Filter: rule_of_zinc<br>Pass: 1",
           "Compound: NS5_ligand_6<br>Filter: rule_of_zinc<br>Pass: 1",
           "Compound: NS5_ligand_7<br>Filter: rule_of_zinc<br>Pass: 1",
           "Compound: NS5_ligand_9<br>Filter: rule_of_zinc<br>Pass: 1",
           "Compound: NS5_ligand_10<br>Filter: rule_of_zinc<br>Pass: 1",
           "Compound: NS5_ligand_14<br>Filter: rule_of_zinc<br>Pass: 1",
           "Compound: NS5_ligand_15<br>Filter: rule_of_zinc<br>Pass: 1",
           "Compound: NS5_ligand_16<br>Filter: rule_of_zinc<br>Pass: 1",
           "Compound: NS5_ligand_17<br>Filter: rule_of_zinc<br>Pass: 1"
          ],
          [
           "Compound: NS5_ligand_0<br>Filter: rule_of_leadlike_soft<br>Pass: 0",
           "Compound: NS5_ligand_1<br>Filter: rule_of_leadlike_soft<br>Pass: 0",
           "Compound: NS5_ligand_2<br>Filter: rule_of_leadlike_soft<br>Pass: 0",
           "Compound: NS5_ligand_3<br>Filter: rule_of_leadlike_soft<br>Pass: 0",
           "Compound: NS5_ligand_4<br>Filter: rule_of_leadlike_soft<br>Pass: 0",
           "Compound: NS5_ligand_6<br>Filter: rule_of_leadlike_soft<br>Pass: 0",
           "Compound: NS5_ligand_7<br>Filter: rule_of_leadlike_soft<br>Pass: 0",
           "Compound: NS5_ligand_9<br>Filter: rule_of_leadlike_soft<br>Pass: 0",
           "Compound: NS5_ligand_10<br>Filter: rule_of_leadlike_soft<br>Pass: 1",
           "Compound: NS5_ligand_14<br>Filter: rule_of_leadlike_soft<br>Pass: 1",
           "Compound: NS5_ligand_15<br>Filter: rule_of_leadlike_soft<br>Pass: 0",
           "Compound: NS5_ligand_16<br>Filter: rule_of_leadlike_soft<br>Pass: 0",
           "Compound: NS5_ligand_17<br>Filter: rule_of_leadlike_soft<br>Pass: 1"
          ],
          [
           "Compound: NS5_ligand_0<br>Filter: rule_of_druglike_soft<br>Pass: 0",
           "Compound: NS5_ligand_1<br>Filter: rule_of_druglike_soft<br>Pass: 0",
           "Compound: NS5_ligand_2<br>Filter: rule_of_druglike_soft<br>Pass: 0",
           "Compound: NS5_ligand_3<br>Filter: rule_of_druglike_soft<br>Pass: 0",
           "Compound: NS5_ligand_4<br>Filter: rule_of_druglike_soft<br>Pass: 0",
           "Compound: NS5_ligand_6<br>Filter: rule_of_druglike_soft<br>Pass: 0",
           "Compound: NS5_ligand_7<br>Filter: rule_of_druglike_soft<br>Pass: 0",
           "Compound: NS5_ligand_9<br>Filter: rule_of_druglike_soft<br>Pass: 0",
           "Compound: NS5_ligand_10<br>Filter: rule_of_druglike_soft<br>Pass: 0",
           "Compound: NS5_ligand_14<br>Filter: rule_of_druglike_soft<br>Pass: 0",
           "Compound: NS5_ligand_15<br>Filter: rule_of_druglike_soft<br>Pass: 0",
           "Compound: NS5_ligand_16<br>Filter: rule_of_druglike_soft<br>Pass: 0",
           "Compound: NS5_ligand_17<br>Filter: rule_of_druglike_soft<br>Pass: 0"
          ],
          [
           "Compound: NS5_ligand_0<br>Filter: rule_of_generative_design<br>Pass: 0",
           "Compound: NS5_ligand_1<br>Filter: rule_of_generative_design<br>Pass: 0",
           "Compound: NS5_ligand_2<br>Filter: rule_of_generative_design<br>Pass: 0",
           "Compound: NS5_ligand_3<br>Filter: rule_of_generative_design<br>Pass: 1",
           "Compound: NS5_ligand_4<br>Filter: rule_of_generative_design<br>Pass: 0",
           "Compound: NS5_ligand_6<br>Filter: rule_of_generative_design<br>Pass: 1",
           "Compound: NS5_ligand_7<br>Filter: rule_of_generative_design<br>Pass: 0",
           "Compound: NS5_ligand_9<br>Filter: rule_of_generative_design<br>Pass: 0",
           "Compound: NS5_ligand_10<br>Filter: rule_of_generative_design<br>Pass: 1",
           "Compound: NS5_ligand_14<br>Filter: rule_of_generative_design<br>Pass: 1",
           "Compound: NS5_ligand_15<br>Filter: rule_of_generative_design<br>Pass: 1",
           "Compound: NS5_ligand_16<br>Filter: rule_of_generative_design<br>Pass: 0",
           "Compound: NS5_ligand_17<br>Filter: rule_of_generative_design<br>Pass: 0"
          ],
          [
           "Compound: NS5_ligand_0<br>Filter: rule_of_generative_design_strict<br>Pass: 0",
           "Compound: NS5_ligand_1<br>Filter: rule_of_generative_design_strict<br>Pass: 0",
           "Compound: NS5_ligand_2<br>Filter: rule_of_generative_design_strict<br>Pass: 0",
           "Compound: NS5_ligand_3<br>Filter: rule_of_generative_design_strict<br>Pass: 0",
           "Compound: NS5_ligand_4<br>Filter: rule_of_generative_design_strict<br>Pass: 0",
           "Compound: NS5_ligand_6<br>Filter: rule_of_generative_design_strict<br>Pass: 0",
           "Compound: NS5_ligand_7<br>Filter: rule_of_generative_design_strict<br>Pass: 0",
           "Compound: NS5_ligand_9<br>Filter: rule_of_generative_design_strict<br>Pass: 0",
           "Compound: NS5_ligand_10<br>Filter: rule_of_generative_design_strict<br>Pass: 1",
           "Compound: NS5_ligand_14<br>Filter: rule_of_generative_design_strict<br>Pass: 1",
           "Compound: NS5_ligand_15<br>Filter: rule_of_generative_design_strict<br>Pass: 0",
           "Compound: NS5_ligand_16<br>Filter: rule_of_generative_design_strict<br>Pass: 0",
           "Compound: NS5_ligand_17<br>Filter: rule_of_generative_design_strict<br>Pass: 0"
          ],
          [
           "Compound: NS5_ligand_0<br>Filter: alerts_BMS<br>Pass: 1",
           "Compound: NS5_ligand_1<br>Filter: alerts_BMS<br>Pass: 0",
           "Compound: NS5_ligand_2<br>Filter: alerts_BMS<br>Pass: 1",
           "Compound: NS5_ligand_3<br>Filter: alerts_BMS<br>Pass: 0",
           "Compound: NS5_ligand_4<br>Filter: alerts_BMS<br>Pass: 1",
           "Compound: NS5_ligand_6<br>Filter: alerts_BMS<br>Pass: 0",
           "Compound: NS5_ligand_7<br>Filter: alerts_BMS<br>Pass: 1",
           "Compound: NS5_ligand_9<br>Filter: alerts_BMS<br>Pass: 1",
           "Compound: NS5_ligand_10<br>Filter: alerts_BMS<br>Pass: 1",
           "Compound: NS5_ligand_14<br>Filter: alerts_BMS<br>Pass: 1",
           "Compound: NS5_ligand_15<br>Filter: alerts_BMS<br>Pass: 1",
           "Compound: NS5_ligand_16<br>Filter: alerts_BMS<br>Pass: 1",
           "Compound: NS5_ligand_17<br>Filter: alerts_BMS<br>Pass: 1"
          ],
          [
           "Compound: NS5_ligand_0<br>Filter: alerts_PAINS<br>Pass: 1",
           "Compound: NS5_ligand_1<br>Filter: alerts_PAINS<br>Pass: 1",
           "Compound: NS5_ligand_2<br>Filter: alerts_PAINS<br>Pass: 1",
           "Compound: NS5_ligand_3<br>Filter: alerts_PAINS<br>Pass: 1",
           "Compound: NS5_ligand_4<br>Filter: alerts_PAINS<br>Pass: 1",
           "Compound: NS5_ligand_6<br>Filter: alerts_PAINS<br>Pass: 1",
           "Compound: NS5_ligand_7<br>Filter: alerts_PAINS<br>Pass: 1",
           "Compound: NS5_ligand_9<br>Filter: alerts_PAINS<br>Pass: 1",
           "Compound: NS5_ligand_10<br>Filter: alerts_PAINS<br>Pass: 1",
           "Compound: NS5_ligand_14<br>Filter: alerts_PAINS<br>Pass: 1",
           "Compound: NS5_ligand_15<br>Filter: alerts_PAINS<br>Pass: 1",
           "Compound: NS5_ligand_16<br>Filter: alerts_PAINS<br>Pass: 1",
           "Compound: NS5_ligand_17<br>Filter: alerts_PAINS<br>Pass: 1"
          ],
          [
           "Compound: NS5_ligand_0<br>Filter: alerts_SureChEMBL<br>Pass: 1",
           "Compound: NS5_ligand_1<br>Filter: alerts_SureChEMBL<br>Pass: 0",
           "Compound: NS5_ligand_2<br>Filter: alerts_SureChEMBL<br>Pass: 1",
           "Compound: NS5_ligand_3<br>Filter: alerts_SureChEMBL<br>Pass: 0",
           "Compound: NS5_ligand_4<br>Filter: alerts_SureChEMBL<br>Pass: 1",
           "Compound: NS5_ligand_6<br>Filter: alerts_SureChEMBL<br>Pass: 0",
           "Compound: NS5_ligand_7<br>Filter: alerts_SureChEMBL<br>Pass: 0",
           "Compound: NS5_ligand_9<br>Filter: alerts_SureChEMBL<br>Pass: 1",
           "Compound: NS5_ligand_10<br>Filter: alerts_SureChEMBL<br>Pass: 1",
           "Compound: NS5_ligand_14<br>Filter: alerts_SureChEMBL<br>Pass: 1",
           "Compound: NS5_ligand_15<br>Filter: alerts_SureChEMBL<br>Pass: 1",
           "Compound: NS5_ligand_16<br>Filter: alerts_SureChEMBL<br>Pass: 1",
           "Compound: NS5_ligand_17<br>Filter: alerts_SureChEMBL<br>Pass: 1"
          ],
          [
           "Compound: NS5_ligand_0<br>Filter: filters_NIBR<br>Pass: 1",
           "Compound: NS5_ligand_1<br>Filter: filters_NIBR<br>Pass: 1",
           "Compound: NS5_ligand_2<br>Filter: filters_NIBR<br>Pass: 1",
           "Compound: NS5_ligand_3<br>Filter: filters_NIBR<br>Pass: 0",
           "Compound: NS5_ligand_4<br>Filter: filters_NIBR<br>Pass: 1",
           "Compound: NS5_ligand_6<br>Filter: filters_NIBR<br>Pass: 0",
           "Compound: NS5_ligand_7<br>Filter: filters_NIBR<br>Pass: 1",
           "Compound: NS5_ligand_9<br>Filter: filters_NIBR<br>Pass: 1",
           "Compound: NS5_ligand_10<br>Filter: filters_NIBR<br>Pass: 1",
           "Compound: NS5_ligand_14<br>Filter: filters_NIBR<br>Pass: 1",
           "Compound: NS5_ligand_15<br>Filter: filters_NIBR<br>Pass: 0",
           "Compound: NS5_ligand_16<br>Filter: filters_NIBR<br>Pass: 1",
           "Compound: NS5_ligand_17<br>Filter: filters_NIBR<br>Pass: 1"
          ],
          [
           "Compound: NS5_ligand_0<br>Filter: filter_complexity<br>Pass: 1",
           "Compound: NS5_ligand_1<br>Filter: filter_complexity<br>Pass: 1",
           "Compound: NS5_ligand_2<br>Filter: filter_complexity<br>Pass: 1",
           "Compound: NS5_ligand_3<br>Filter: filter_complexity<br>Pass: 1",
           "Compound: NS5_ligand_4<br>Filter: filter_complexity<br>Pass: 1",
           "Compound: NS5_ligand_6<br>Filter: filter_complexity<br>Pass: 1",
           "Compound: NS5_ligand_7<br>Filter: filter_complexity<br>Pass: 1",
           "Compound: NS5_ligand_9<br>Filter: filter_complexity<br>Pass: 1",
           "Compound: NS5_ligand_10<br>Filter: filter_complexity<br>Pass: 1",
           "Compound: NS5_ligand_14<br>Filter: filter_complexity<br>Pass: 1",
           "Compound: NS5_ligand_15<br>Filter: filter_complexity<br>Pass: 1",
           "Compound: NS5_ligand_16<br>Filter: filter_complexity<br>Pass: 1",
           "Compound: NS5_ligand_17<br>Filter: filter_complexity<br>Pass: 1"
          ],
          [
           "Compound: NS5_ligand_0<br>Filter: filter_bredt<br>Pass: 1",
           "Compound: NS5_ligand_1<br>Filter: filter_bredt<br>Pass: 1",
           "Compound: NS5_ligand_2<br>Filter: filter_bredt<br>Pass: 1",
           "Compound: NS5_ligand_3<br>Filter: filter_bredt<br>Pass: 1",
           "Compound: NS5_ligand_4<br>Filter: filter_bredt<br>Pass: 1",
           "Compound: NS5_ligand_6<br>Filter: filter_bredt<br>Pass: 1",
           "Compound: NS5_ligand_7<br>Filter: filter_bredt<br>Pass: 1",
           "Compound: NS5_ligand_9<br>Filter: filter_bredt<br>Pass: 1",
           "Compound: NS5_ligand_10<br>Filter: filter_bredt<br>Pass: 1",
           "Compound: NS5_ligand_14<br>Filter: filter_bredt<br>Pass: 1",
           "Compound: NS5_ligand_15<br>Filter: filter_bredt<br>Pass: 1",
           "Compound: NS5_ligand_16<br>Filter: filter_bredt<br>Pass: 1",
           "Compound: NS5_ligand_17<br>Filter: filter_bredt<br>Pass: 1"
          ],
          [
           "Compound: NS5_ligand_0<br>Filter: filter_molecular_graph<br>Pass: 1",
           "Compound: NS5_ligand_1<br>Filter: filter_molecular_graph<br>Pass: 1",
           "Compound: NS5_ligand_2<br>Filter: filter_molecular_graph<br>Pass: 1",
           "Compound: NS5_ligand_3<br>Filter: filter_molecular_graph<br>Pass: 0",
           "Compound: NS5_ligand_4<br>Filter: filter_molecular_graph<br>Pass: 1",
           "Compound: NS5_ligand_6<br>Filter: filter_molecular_graph<br>Pass: 1",
           "Compound: NS5_ligand_7<br>Filter: filter_molecular_graph<br>Pass: 0",
           "Compound: NS5_ligand_9<br>Filter: filter_molecular_graph<br>Pass: 1",
           "Compound: NS5_ligand_10<br>Filter: filter_molecular_graph<br>Pass: 1",
           "Compound: NS5_ligand_14<br>Filter: filter_molecular_graph<br>Pass: 1",
           "Compound: NS5_ligand_15<br>Filter: filter_molecular_graph<br>Pass: 1",
           "Compound: NS5_ligand_16<br>Filter: filter_molecular_graph<br>Pass: 1",
           "Compound: NS5_ligand_17<br>Filter: filter_molecular_graph<br>Pass: 1"
          ],
          [
           "Compound: NS5_ligand_0<br>Filter: filter_lilly_demerit<br>Pass: 1",
           "Compound: NS5_ligand_1<br>Filter: filter_lilly_demerit<br>Pass: 0",
           "Compound: NS5_ligand_2<br>Filter: filter_lilly_demerit<br>Pass: 1",
           "Compound: NS5_ligand_3<br>Filter: filter_lilly_demerit<br>Pass: 0",
           "Compound: NS5_ligand_4<br>Filter: filter_lilly_demerit<br>Pass: 1",
           "Compound: NS5_ligand_6<br>Filter: filter_lilly_demerit<br>Pass: 0",
           "Compound: NS5_ligand_7<br>Filter: filter_lilly_demerit<br>Pass: 0",
           "Compound: NS5_ligand_9<br>Filter: filter_lilly_demerit<br>Pass: 1",
           "Compound: NS5_ligand_10<br>Filter: filter_lilly_demerit<br>Pass: 1",
           "Compound: NS5_ligand_14<br>Filter: filter_lilly_demerit<br>Pass: 0",
           "Compound: NS5_ligand_15<br>Filter: filter_lilly_demerit<br>Pass: 0",
           "Compound: NS5_ligand_16<br>Filter: filter_lilly_demerit<br>Pass: 1",
           "Compound: NS5_ligand_17<br>Filter: filter_lilly_demerit<br>Pass: 1"
          ]
         ],
         "type": "heatmap",
         "x": [
          "0",
          "1",
          "2",
          "3",
          "4",
          "6",
          "7",
          "9",
          "10",
          "14",
          "15",
          "16",
          "17"
         ],
         "y": [
          "rule_of_five (92%)",
          "rule_of_ghose (15%)",
          "rule_of_veber (85%)",
          "rule_of_reos (8%)",
          "rule_of_chemaxon_druglikeness (62%)",
          "rule_of_egan (69%)",
          "rule_of_pfizer_3_75 (92%)",
          "rule_of_gsk_4_400 (92%)",
          "rule_of_oprea (15%)",
          "rule_of_xu (38%)",
          "rule_of_zinc (100%)",
          "rule_of_leadlike_soft (23%)",
          "rule_of_druglike_soft (0%)",
          "rule_of_generative_design (38%)",
          "rule_of_generative_design_strict (15%)",
          "alerts_BMS (77%)",
          "alerts_PAINS (100%)",
          "alerts_SureChEMBL (69%)",
          "filters_NIBR (77%)",
          "filter_complexity (100%)",
          "filter_bredt (100%)",
          "filter_molecular_graph (85%)",
          "filter_lilly_demerit (54%)"
         ],
         "z": {
          "bdata": "AQEBAQEAAQEBAQEBAQAAAAEAAAAAAAABAAABAQEAAQABAQEBAQEBAAAAAAAAAAAAAAEAAAEAAQABAAEAAQEAAQEBAQEAAQABAAEAAQEBAQEBAQEBAAEBAQEBAQEBAQEBAQEBAQEAAQEAAAAAAAAAAAEBAAAAAAAAAQAAAQABAQEAAAEBAQEBAQEBAQEBAQEAAAAAAAAAAAEBAAABAAAAAAAAAAAAAAAAAAAAAAEAAQAAAQEBAAAAAAAAAAAAAAEBAAAAAQABAAEAAQEBAQEBAQEBAQEBAQEBAQEBAQEBAAEAAQAAAQEBAQEBAQEBAAEAAQEBAQABAQEBAQEBAQEBAQEBAQEBAQEBAQEBAQEBAQEBAQEBAAEBAAEBAQEBAQEAAQABAAABAQAAAQE=",
          "dtype": "i1",
          "shape": "23, 13"
         },
         "zmax": 1,
         "zmin": 0
        }
       ],
       "layout": {
        "height": 700,
        "template": {
         "data": {
          "bar": [
           {
            "error_x": {
             "color": "#2a3f5f"
            },
            "error_y": {
             "color": "#2a3f5f"
            },
            "marker": {
             "line": {
              "color": "#E5ECF6",
              "width": 0.5
             },
             "pattern": {
              "fillmode": "overlay",
              "size": 10,
              "solidity": 0.2
             }
            },
            "type": "bar"
           }
          ],
          "barpolar": [
           {
            "marker": {
             "line": {
              "color": "#E5ECF6",
              "width": 0.5
             },
             "pattern": {
              "fillmode": "overlay",
              "size": 10,
              "solidity": 0.2
             }
            },
            "type": "barpolar"
           }
          ],
          "carpet": [
           {
            "aaxis": {
             "endlinecolor": "#2a3f5f",
             "gridcolor": "white",
             "linecolor": "white",
             "minorgridcolor": "white",
             "startlinecolor": "#2a3f5f"
            },
            "baxis": {
             "endlinecolor": "#2a3f5f",
             "gridcolor": "white",
             "linecolor": "white",
             "minorgridcolor": "white",
             "startlinecolor": "#2a3f5f"
            },
            "type": "carpet"
           }
          ],
          "choropleth": [
           {
            "colorbar": {
             "outlinewidth": 0,
             "ticks": ""
            },
            "type": "choropleth"
           }
          ],
          "contour": [
           {
            "colorbar": {
             "outlinewidth": 0,
             "ticks": ""
            },
            "colorscale": [
             [
              0,
              "#0d0887"
             ],
             [
              0.1111111111111111,
              "#46039f"
             ],
             [
              0.2222222222222222,
              "#7201a8"
             ],
             [
              0.3333333333333333,
              "#9c179e"
             ],
             [
              0.4444444444444444,
              "#bd3786"
             ],
             [
              0.5555555555555556,
              "#d8576b"
             ],
             [
              0.6666666666666666,
              "#ed7953"
             ],
             [
              0.7777777777777778,
              "#fb9f3a"
             ],
             [
              0.8888888888888888,
              "#fdca26"
             ],
             [
              1,
              "#f0f921"
             ]
            ],
            "type": "contour"
           }
          ],
          "contourcarpet": [
           {
            "colorbar": {
             "outlinewidth": 0,
             "ticks": ""
            },
            "type": "contourcarpet"
           }
          ],
          "heatmap": [
           {
            "colorbar": {
             "outlinewidth": 0,
             "ticks": ""
            },
            "colorscale": [
             [
              0,
              "#0d0887"
             ],
             [
              0.1111111111111111,
              "#46039f"
             ],
             [
              0.2222222222222222,
              "#7201a8"
             ],
             [
              0.3333333333333333,
              "#9c179e"
             ],
             [
              0.4444444444444444,
              "#bd3786"
             ],
             [
              0.5555555555555556,
              "#d8576b"
             ],
             [
              0.6666666666666666,
              "#ed7953"
             ],
             [
              0.7777777777777778,
              "#fb9f3a"
             ],
             [
              0.8888888888888888,
              "#fdca26"
             ],
             [
              1,
              "#f0f921"
             ]
            ],
            "type": "heatmap"
           }
          ],
          "histogram": [
           {
            "marker": {
             "pattern": {
              "fillmode": "overlay",
              "size": 10,
              "solidity": 0.2
             }
            },
            "type": "histogram"
           }
          ],
          "histogram2d": [
           {
            "colorbar": {
             "outlinewidth": 0,
             "ticks": ""
            },
            "colorscale": [
             [
              0,
              "#0d0887"
             ],
             [
              0.1111111111111111,
              "#46039f"
             ],
             [
              0.2222222222222222,
              "#7201a8"
             ],
             [
              0.3333333333333333,
              "#9c179e"
             ],
             [
              0.4444444444444444,
              "#bd3786"
             ],
             [
              0.5555555555555556,
              "#d8576b"
             ],
             [
              0.6666666666666666,
              "#ed7953"
             ],
             [
              0.7777777777777778,
              "#fb9f3a"
             ],
             [
              0.8888888888888888,
              "#fdca26"
             ],
             [
              1,
              "#f0f921"
             ]
            ],
            "type": "histogram2d"
           }
          ],
          "histogram2dcontour": [
           {
            "colorbar": {
             "outlinewidth": 0,
             "ticks": ""
            },
            "colorscale": [
             [
              0,
              "#0d0887"
             ],
             [
              0.1111111111111111,
              "#46039f"
             ],
             [
              0.2222222222222222,
              "#7201a8"
             ],
             [
              0.3333333333333333,
              "#9c179e"
             ],
             [
              0.4444444444444444,
              "#bd3786"
             ],
             [
              0.5555555555555556,
              "#d8576b"
             ],
             [
              0.6666666666666666,
              "#ed7953"
             ],
             [
              0.7777777777777778,
              "#fb9f3a"
             ],
             [
              0.8888888888888888,
              "#fdca26"
             ],
             [
              1,
              "#f0f921"
             ]
            ],
            "type": "histogram2dcontour"
           }
          ],
          "mesh3d": [
           {
            "colorbar": {
             "outlinewidth": 0,
             "ticks": ""
            },
            "type": "mesh3d"
           }
          ],
          "parcoords": [
           {
            "line": {
             "colorbar": {
              "outlinewidth": 0,
              "ticks": ""
             }
            },
            "type": "parcoords"
           }
          ],
          "pie": [
           {
            "automargin": true,
            "type": "pie"
           }
          ],
          "scatter": [
           {
            "fillpattern": {
             "fillmode": "overlay",
             "size": 10,
             "solidity": 0.2
            },
            "type": "scatter"
           }
          ],
          "scatter3d": [
           {
            "line": {
             "colorbar": {
              "outlinewidth": 0,
              "ticks": ""
             }
            },
            "marker": {
             "colorbar": {
              "outlinewidth": 0,
              "ticks": ""
             }
            },
            "type": "scatter3d"
           }
          ],
          "scattercarpet": [
           {
            "marker": {
             "colorbar": {
              "outlinewidth": 0,
              "ticks": ""
             }
            },
            "type": "scattercarpet"
           }
          ],
          "scattergeo": [
           {
            "marker": {
             "colorbar": {
              "outlinewidth": 0,
              "ticks": ""
             }
            },
            "type": "scattergeo"
           }
          ],
          "scattergl": [
           {
            "marker": {
             "colorbar": {
              "outlinewidth": 0,
              "ticks": ""
             }
            },
            "type": "scattergl"
           }
          ],
          "scattermap": [
           {
            "marker": {
             "colorbar": {
              "outlinewidth": 0,
              "ticks": ""
             }
            },
            "type": "scattermap"
           }
          ],
          "scattermapbox": [
           {
            "marker": {
             "colorbar": {
              "outlinewidth": 0,
              "ticks": ""
             }
            },
            "type": "scattermapbox"
           }
          ],
          "scatterpolar": [
           {
            "marker": {
             "colorbar": {
              "outlinewidth": 0,
              "ticks": ""
             }
            },
            "type": "scatterpolar"
           }
          ],
          "scatterpolargl": [
           {
            "marker": {
             "colorbar": {
              "outlinewidth": 0,
              "ticks": ""
             }
            },
            "type": "scatterpolargl"
           }
          ],
          "scatterternary": [
           {
            "marker": {
             "colorbar": {
              "outlinewidth": 0,
              "ticks": ""
             }
            },
            "type": "scatterternary"
           }
          ],
          "surface": [
           {
            "colorbar": {
             "outlinewidth": 0,
             "ticks": ""
            },
            "colorscale": [
             [
              0,
              "#0d0887"
             ],
             [
              0.1111111111111111,
              "#46039f"
             ],
             [
              0.2222222222222222,
              "#7201a8"
             ],
             [
              0.3333333333333333,
              "#9c179e"
             ],
             [
              0.4444444444444444,
              "#bd3786"
             ],
             [
              0.5555555555555556,
              "#d8576b"
             ],
             [
              0.6666666666666666,
              "#ed7953"
             ],
             [
              0.7777777777777778,
              "#fb9f3a"
             ],
             [
              0.8888888888888888,
              "#fdca26"
             ],
             [
              1,
              "#f0f921"
             ]
            ],
            "type": "surface"
           }
          ],
          "table": [
           {
            "cells": {
             "fill": {
              "color": "#EBF0F8"
             },
             "line": {
              "color": "white"
             }
            },
            "header": {
             "fill": {
              "color": "#C8D4E3"
             },
             "line": {
              "color": "white"
             }
            },
            "type": "table"
           }
          ]
         },
         "layout": {
          "annotationdefaults": {
           "arrowcolor": "#2a3f5f",
           "arrowhead": 0,
           "arrowwidth": 1
          },
          "autotypenumbers": "strict",
          "coloraxis": {
           "colorbar": {
            "outlinewidth": 0,
            "ticks": ""
           }
          },
          "colorscale": {
           "diverging": [
            [
             0,
             "#8e0152"
            ],
            [
             0.1,
             "#c51b7d"
            ],
            [
             0.2,
             "#de77ae"
            ],
            [
             0.3,
             "#f1b6da"
            ],
            [
             0.4,
             "#fde0ef"
            ],
            [
             0.5,
             "#f7f7f7"
            ],
            [
             0.6,
             "#e6f5d0"
            ],
            [
             0.7,
             "#b8e186"
            ],
            [
             0.8,
             "#7fbc41"
            ],
            [
             0.9,
             "#4d9221"
            ],
            [
             1,
             "#276419"
            ]
           ],
           "sequential": [
            [
             0,
             "#0d0887"
            ],
            [
             0.1111111111111111,
             "#46039f"
            ],
            [
             0.2222222222222222,
             "#7201a8"
            ],
            [
             0.3333333333333333,
             "#9c179e"
            ],
            [
             0.4444444444444444,
             "#bd3786"
            ],
            [
             0.5555555555555556,
             "#d8576b"
            ],
            [
             0.6666666666666666,
             "#ed7953"
            ],
            [
             0.7777777777777778,
             "#fb9f3a"
            ],
            [
             0.8888888888888888,
             "#fdca26"
            ],
            [
             1,
             "#f0f921"
            ]
           ],
           "sequentialminus": [
            [
             0,
             "#0d0887"
            ],
            [
             0.1111111111111111,
             "#46039f"
            ],
            [
             0.2222222222222222,
             "#7201a8"
            ],
            [
             0.3333333333333333,
             "#9c179e"
            ],
            [
             0.4444444444444444,
             "#bd3786"
            ],
            [
             0.5555555555555556,
             "#d8576b"
            ],
            [
             0.6666666666666666,
             "#ed7953"
            ],
            [
             0.7777777777777778,
             "#fb9f3a"
            ],
            [
             0.8888888888888888,
             "#fdca26"
            ],
            [
             1,
             "#f0f921"
            ]
           ]
          },
          "colorway": [
           "#636efa",
           "#EF553B",
           "#00cc96",
           "#ab63fa",
           "#FFA15A",
           "#19d3f3",
           "#FF6692",
           "#B6E880",
           "#FF97FF",
           "#FECB52"
          ],
          "font": {
           "color": "#2a3f5f"
          },
          "geo": {
           "bgcolor": "white",
           "lakecolor": "white",
           "landcolor": "#E5ECF6",
           "showlakes": true,
           "showland": true,
           "subunitcolor": "white"
          },
          "hoverlabel": {
           "align": "left"
          },
          "hovermode": "closest",
          "mapbox": {
           "style": "light"
          },
          "paper_bgcolor": "white",
          "plot_bgcolor": "#E5ECF6",
          "polar": {
           "angularaxis": {
            "gridcolor": "white",
            "linecolor": "white",
            "ticks": ""
           },
           "bgcolor": "#E5ECF6",
           "radialaxis": {
            "gridcolor": "white",
            "linecolor": "white",
            "ticks": ""
           }
          },
          "scene": {
           "xaxis": {
            "backgroundcolor": "#E5ECF6",
            "gridcolor": "white",
            "gridwidth": 2,
            "linecolor": "white",
            "showbackground": true,
            "ticks": "",
            "zerolinecolor": "white"
           },
           "yaxis": {
            "backgroundcolor": "#E5ECF6",
            "gridcolor": "white",
            "gridwidth": 2,
            "linecolor": "white",
            "showbackground": true,
            "ticks": "",
            "zerolinecolor": "white"
           },
           "zaxis": {
            "backgroundcolor": "#E5ECF6",
            "gridcolor": "white",
            "gridwidth": 2,
            "linecolor": "white",
            "showbackground": true,
            "ticks": "",
            "zerolinecolor": "white"
           }
          },
          "shapedefaults": {
           "line": {
            "color": "#2a3f5f"
           }
          },
          "ternary": {
           "aaxis": {
            "gridcolor": "white",
            "linecolor": "white",
            "ticks": ""
           },
           "baxis": {
            "gridcolor": "white",
            "linecolor": "white",
            "ticks": ""
           },
           "bgcolor": "#E5ECF6",
           "caxis": {
            "gridcolor": "white",
            "linecolor": "white",
            "ticks": ""
           }
          },
          "title": {
           "x": 0.05
          },
          "xaxis": {
           "automargin": true,
           "gridcolor": "white",
           "linecolor": "white",
           "ticks": "",
           "title": {
            "standoff": 15
           },
           "zerolinecolor": "white",
           "zerolinewidth": 2
          },
          "yaxis": {
           "automargin": true,
           "gridcolor": "white",
           "linecolor": "white",
           "ticks": "",
           "title": {
            "standoff": 15
           },
           "zerolinecolor": "white",
           "zerolinewidth": 2
          }
         }
        },
        "title": {
         "text": "Interactive MedChem Filter Heatmap (n = 13)"
        },
        "updatemenus": [
         {
          "active": 0,
          "buttons": [
           {
            "args": [
             {
              "text": [
               [
                [
                 "Compound: NS5_ligand_0<br>Filter: rule_of_five<br>Pass: 1",
                 "Compound: NS5_ligand_1<br>Filter: rule_of_five<br>Pass: 1",
                 "Compound: NS5_ligand_2<br>Filter: rule_of_five<br>Pass: 1",
                 "Compound: NS5_ligand_3<br>Filter: rule_of_five<br>Pass: 1",
                 "Compound: NS5_ligand_4<br>Filter: rule_of_five<br>Pass: 1",
                 "Compound: NS5_ligand_6<br>Filter: rule_of_five<br>Pass: 0",
                 "Compound: NS5_ligand_7<br>Filter: rule_of_five<br>Pass: 1",
                 "Compound: NS5_ligand_9<br>Filter: rule_of_five<br>Pass: 1",
                 "Compound: NS5_ligand_10<br>Filter: rule_of_five<br>Pass: 1",
                 "Compound: NS5_ligand_14<br>Filter: rule_of_five<br>Pass: 1",
                 "Compound: NS5_ligand_15<br>Filter: rule_of_five<br>Pass: 1",
                 "Compound: NS5_ligand_16<br>Filter: rule_of_five<br>Pass: 1",
                 "Compound: NS5_ligand_17<br>Filter: rule_of_five<br>Pass: 1"
                ],
                [
                 "Compound: NS5_ligand_0<br>Filter: rule_of_ghose<br>Pass: 0",
                 "Compound: NS5_ligand_1<br>Filter: rule_of_ghose<br>Pass: 0",
                 "Compound: NS5_ligand_2<br>Filter: rule_of_ghose<br>Pass: 0",
                 "Compound: NS5_ligand_3<br>Filter: rule_of_ghose<br>Pass: 1",
                 "Compound: NS5_ligand_4<br>Filter: rule_of_ghose<br>Pass: 0",
                 "Compound: NS5_ligand_6<br>Filter: rule_of_ghose<br>Pass: 0",
                 "Compound: NS5_ligand_7<br>Filter: rule_of_ghose<br>Pass: 0",
                 "Compound: NS5_ligand_9<br>Filter: rule_of_ghose<br>Pass: 0",
                 "Compound: NS5_ligand_10<br>Filter: rule_of_ghose<br>Pass: 0",
                 "Compound: NS5_ligand_14<br>Filter: rule_of_ghose<br>Pass: 0",
                 "Compound: NS5_ligand_15<br>Filter: rule_of_ghose<br>Pass: 1",
                 "Compound: NS5_ligand_16<br>Filter: rule_of_ghose<br>Pass: 0",
                 "Compound: NS5_ligand_17<br>Filter: rule_of_ghose<br>Pass: 0"
                ],
                [
                 "Compound: NS5_ligand_0<br>Filter: rule_of_veber<br>Pass: 1",
                 "Compound: NS5_ligand_1<br>Filter: rule_of_veber<br>Pass: 1",
                 "Compound: NS5_ligand_2<br>Filter: rule_of_veber<br>Pass: 1",
                 "Compound: NS5_ligand_3<br>Filter: rule_of_veber<br>Pass: 0",
                 "Compound: NS5_ligand_4<br>Filter: rule_of_veber<br>Pass: 1",
                 "Compound: NS5_ligand_6<br>Filter: rule_of_veber<br>Pass: 0",
                 "Compound: NS5_ligand_7<br>Filter: rule_of_veber<br>Pass: 1",
                 "Compound: NS5_ligand_9<br>Filter: rule_of_veber<br>Pass: 1",
                 "Compound: NS5_ligand_10<br>Filter: rule_of_veber<br>Pass: 1",
                 "Compound: NS5_ligand_14<br>Filter: rule_of_veber<br>Pass: 1",
                 "Compound: NS5_ligand_15<br>Filter: rule_of_veber<br>Pass: 1",
                 "Compound: NS5_ligand_16<br>Filter: rule_of_veber<br>Pass: 1",
                 "Compound: NS5_ligand_17<br>Filter: rule_of_veber<br>Pass: 1"
                ],
                [
                 "Compound: NS5_ligand_0<br>Filter: rule_of_reos<br>Pass: 0",
                 "Compound: NS5_ligand_1<br>Filter: rule_of_reos<br>Pass: 0",
                 "Compound: NS5_ligand_2<br>Filter: rule_of_reos<br>Pass: 0",
                 "Compound: NS5_ligand_3<br>Filter: rule_of_reos<br>Pass: 0",
                 "Compound: NS5_ligand_4<br>Filter: rule_of_reos<br>Pass: 0",
                 "Compound: NS5_ligand_6<br>Filter: rule_of_reos<br>Pass: 0",
                 "Compound: NS5_ligand_7<br>Filter: rule_of_reos<br>Pass: 0",
                 "Compound: NS5_ligand_9<br>Filter: rule_of_reos<br>Pass: 0",
                 "Compound: NS5_ligand_10<br>Filter: rule_of_reos<br>Pass: 0",
                 "Compound: NS5_ligand_14<br>Filter: rule_of_reos<br>Pass: 0",
                 "Compound: NS5_ligand_15<br>Filter: rule_of_reos<br>Pass: 1",
                 "Compound: NS5_ligand_16<br>Filter: rule_of_reos<br>Pass: 0",
                 "Compound: NS5_ligand_17<br>Filter: rule_of_reos<br>Pass: 0"
                ],
                [
                 "Compound: NS5_ligand_0<br>Filter: rule_of_chemaxon_druglikeness<br>Pass: 1",
                 "Compound: NS5_ligand_1<br>Filter: rule_of_chemaxon_druglikeness<br>Pass: 0",
                 "Compound: NS5_ligand_2<br>Filter: rule_of_chemaxon_druglikeness<br>Pass: 1",
                 "Compound: NS5_ligand_3<br>Filter: rule_of_chemaxon_druglikeness<br>Pass: 0",
                 "Compound: NS5_ligand_4<br>Filter: rule_of_chemaxon_druglikeness<br>Pass: 1",
                 "Compound: NS5_ligand_6<br>Filter: rule_of_chemaxon_druglikeness<br>Pass: 0",
                 "Compound: NS5_ligand_7<br>Filter: rule_of_chemaxon_druglikeness<br>Pass: 1",
                 "Compound: NS5_ligand_9<br>Filter: rule_of_chemaxon_druglikeness<br>Pass: 0",
                 "Compound: NS5_ligand_10<br>Filter: rule_of_chemaxon_druglikeness<br>Pass: 1",
                 "Compound: NS5_ligand_14<br>Filter: rule_of_chemaxon_druglikeness<br>Pass: 1",
                 "Compound: NS5_ligand_15<br>Filter: rule_of_chemaxon_druglikeness<br>Pass: 0",
                 "Compound: NS5_ligand_16<br>Filter: rule_of_chemaxon_druglikeness<br>Pass: 1",
                 "Compound: NS5_ligand_17<br>Filter: rule_of_chemaxon_druglikeness<br>Pass: 1"
                ],
                [
                 "Compound: NS5_ligand_0<br>Filter: rule_of_egan<br>Pass: 1",
                 "Compound: NS5_ligand_1<br>Filter: rule_of_egan<br>Pass: 1",
                 "Compound: NS5_ligand_2<br>Filter: rule_of_egan<br>Pass: 1",
                 "Compound: NS5_ligand_3<br>Filter: rule_of_egan<br>Pass: 0",
                 "Compound: NS5_ligand_4<br>Filter: rule_of_egan<br>Pass: 1",
                 "Compound: NS5_ligand_6<br>Filter: rule_of_egan<br>Pass: 0",
                 "Compound: NS5_ligand_7<br>Filter: rule_of_egan<br>Pass: 1",
                 "Compound: NS5_ligand_9<br>Filter: rule_of_egan<br>Pass: 0",
                 "Compound: NS5_ligand_10<br>Filter: rule_of_egan<br>Pass: 1",
                 "Compound: NS5_ligand_14<br>Filter: rule_of_egan<br>Pass: 0",
                 "Compound: NS5_ligand_15<br>Filter: rule_of_egan<br>Pass: 1",
                 "Compound: NS5_ligand_16<br>Filter: rule_of_egan<br>Pass: 1",
                 "Compound: NS5_ligand_17<br>Filter: rule_of_egan<br>Pass: 1"
                ],
                [
                 "Compound: NS5_ligand_0<br>Filter: rule_of_pfizer_3_75<br>Pass: 1",
                 "Compound: NS5_ligand_1<br>Filter: rule_of_pfizer_3_75<br>Pass: 1",
                 "Compound: NS5_ligand_2<br>Filter: rule_of_pfizer_3_75<br>Pass: 1",
                 "Compound: NS5_ligand_3<br>Filter: rule_of_pfizer_3_75<br>Pass: 1",
                 "Compound: NS5_ligand_4<br>Filter: rule_of_pfizer_3_75<br>Pass: 1",
                 "Compound: NS5_ligand_6<br>Filter: rule_of_pfizer_3_75<br>Pass: 1",
                 "Compound: NS5_ligand_7<br>Filter: rule_of_pfizer_3_75<br>Pass: 0",
                 "Compound: NS5_ligand_9<br>Filter: rule_of_pfizer_3_75<br>Pass: 1",
                 "Compound: NS5_ligand_10<br>Filter: rule_of_pfizer_3_75<br>Pass: 1",
                 "Compound: NS5_ligand_14<br>Filter: rule_of_pfizer_3_75<br>Pass: 1",
                 "Compound: NS5_ligand_15<br>Filter: rule_of_pfizer_3_75<br>Pass: 1",
                 "Compound: NS5_ligand_16<br>Filter: rule_of_pfizer_3_75<br>Pass: 1",
                 "Compound: NS5_ligand_17<br>Filter: rule_of_pfizer_3_75<br>Pass: 1"
                ],
                [
                 "Compound: NS5_ligand_0<br>Filter: rule_of_gsk_4_400<br>Pass: 1",
                 "Compound: NS5_ligand_1<br>Filter: rule_of_gsk_4_400<br>Pass: 1",
                 "Compound: NS5_ligand_2<br>Filter: rule_of_gsk_4_400<br>Pass: 1",
                 "Compound: NS5_ligand_3<br>Filter: rule_of_gsk_4_400<br>Pass: 1",
                 "Compound: NS5_ligand_4<br>Filter: rule_of_gsk_4_400<br>Pass: 1",
                 "Compound: NS5_ligand_6<br>Filter: rule_of_gsk_4_400<br>Pass: 1",
                 "Compound: NS5_ligand_7<br>Filter: rule_of_gsk_4_400<br>Pass: 1",
                 "Compound: NS5_ligand_9<br>Filter: rule_of_gsk_4_400<br>Pass: 1",
                 "Compound: NS5_ligand_10<br>Filter: rule_of_gsk_4_400<br>Pass: 1",
                 "Compound: NS5_ligand_14<br>Filter: rule_of_gsk_4_400<br>Pass: 1",
                 "Compound: NS5_ligand_15<br>Filter: rule_of_gsk_4_400<br>Pass: 0",
                 "Compound: NS5_ligand_16<br>Filter: rule_of_gsk_4_400<br>Pass: 1",
                 "Compound: NS5_ligand_17<br>Filter: rule_of_gsk_4_400<br>Pass: 1"
                ],
                [
                 "Compound: NS5_ligand_0<br>Filter: rule_of_oprea<br>Pass: 0",
                 "Compound: NS5_ligand_1<br>Filter: rule_of_oprea<br>Pass: 0",
                 "Compound: NS5_ligand_2<br>Filter: rule_of_oprea<br>Pass: 0",
                 "Compound: NS5_ligand_3<br>Filter: rule_of_oprea<br>Pass: 0",
                 "Compound: NS5_ligand_4<br>Filter: rule_of_oprea<br>Pass: 0",
                 "Compound: NS5_ligand_6<br>Filter: rule_of_oprea<br>Pass: 0",
                 "Compound: NS5_ligand_7<br>Filter: rule_of_oprea<br>Pass: 0",
                 "Compound: NS5_ligand_9<br>Filter: rule_of_oprea<br>Pass: 0",
                 "Compound: NS5_ligand_10<br>Filter: rule_of_oprea<br>Pass: 1",
                 "Compound: NS5_ligand_14<br>Filter: rule_of_oprea<br>Pass: 1",
                 "Compound: NS5_ligand_15<br>Filter: rule_of_oprea<br>Pass: 0",
                 "Compound: NS5_ligand_16<br>Filter: rule_of_oprea<br>Pass: 0",
                 "Compound: NS5_ligand_17<br>Filter: rule_of_oprea<br>Pass: 0"
                ],
                [
                 "Compound: NS5_ligand_0<br>Filter: rule_of_xu<br>Pass: 0",
                 "Compound: NS5_ligand_1<br>Filter: rule_of_xu<br>Pass: 0",
                 "Compound: NS5_ligand_2<br>Filter: rule_of_xu<br>Pass: 0",
                 "Compound: NS5_ligand_3<br>Filter: rule_of_xu<br>Pass: 1",
                 "Compound: NS5_ligand_4<br>Filter: rule_of_xu<br>Pass: 0",
                 "Compound: NS5_ligand_6<br>Filter: rule_of_xu<br>Pass: 0",
                 "Compound: NS5_ligand_7<br>Filter: rule_of_xu<br>Pass: 1",
                 "Compound: NS5_ligand_9<br>Filter: rule_of_xu<br>Pass: 0",
                 "Compound: NS5_ligand_10<br>Filter: rule_of_xu<br>Pass: 1",
                 "Compound: NS5_ligand_14<br>Filter: rule_of_xu<br>Pass: 1",
                 "Compound: NS5_ligand_15<br>Filter: rule_of_xu<br>Pass: 1",
                 "Compound: NS5_ligand_16<br>Filter: rule_of_xu<br>Pass: 0",
                 "Compound: NS5_ligand_17<br>Filter: rule_of_xu<br>Pass: 0"
                ],
                [
                 "Compound: NS5_ligand_0<br>Filter: rule_of_zinc<br>Pass: 1",
                 "Compound: NS5_ligand_1<br>Filter: rule_of_zinc<br>Pass: 1",
                 "Compound: NS5_ligand_2<br>Filter: rule_of_zinc<br>Pass: 1",
                 "Compound: NS5_ligand_3<br>Filter: rule_of_zinc<br>Pass: 1",
                 "Compound: NS5_ligand_4<br>Filter: rule_of_zinc<br>Pass: 1",
                 "Compound: NS5_ligand_6<br>Filter: rule_of_zinc<br>Pass: 1",
                 "Compound: NS5_ligand_7<br>Filter: rule_of_zinc<br>Pass: 1",
                 "Compound: NS5_ligand_9<br>Filter: rule_of_zinc<br>Pass: 1",
                 "Compound: NS5_ligand_10<br>Filter: rule_of_zinc<br>Pass: 1",
                 "Compound: NS5_ligand_14<br>Filter: rule_of_zinc<br>Pass: 1",
                 "Compound: NS5_ligand_15<br>Filter: rule_of_zinc<br>Pass: 1",
                 "Compound: NS5_ligand_16<br>Filter: rule_of_zinc<br>Pass: 1",
                 "Compound: NS5_ligand_17<br>Filter: rule_of_zinc<br>Pass: 1"
                ],
                [
                 "Compound: NS5_ligand_0<br>Filter: rule_of_leadlike_soft<br>Pass: 0",
                 "Compound: NS5_ligand_1<br>Filter: rule_of_leadlike_soft<br>Pass: 0",
                 "Compound: NS5_ligand_2<br>Filter: rule_of_leadlike_soft<br>Pass: 0",
                 "Compound: NS5_ligand_3<br>Filter: rule_of_leadlike_soft<br>Pass: 0",
                 "Compound: NS5_ligand_4<br>Filter: rule_of_leadlike_soft<br>Pass: 0",
                 "Compound: NS5_ligand_6<br>Filter: rule_of_leadlike_soft<br>Pass: 0",
                 "Compound: NS5_ligand_7<br>Filter: rule_of_leadlike_soft<br>Pass: 0",
                 "Compound: NS5_ligand_9<br>Filter: rule_of_leadlike_soft<br>Pass: 0",
                 "Compound: NS5_ligand_10<br>Filter: rule_of_leadlike_soft<br>Pass: 1",
                 "Compound: NS5_ligand_14<br>Filter: rule_of_leadlike_soft<br>Pass: 1",
                 "Compound: NS5_ligand_15<br>Filter: rule_of_leadlike_soft<br>Pass: 0",
                 "Compound: NS5_ligand_16<br>Filter: rule_of_leadlike_soft<br>Pass: 0",
                 "Compound: NS5_ligand_17<br>Filter: rule_of_leadlike_soft<br>Pass: 1"
                ],
                [
                 "Compound: NS5_ligand_0<br>Filter: rule_of_druglike_soft<br>Pass: 0",
                 "Compound: NS5_ligand_1<br>Filter: rule_of_druglike_soft<br>Pass: 0",
                 "Compound: NS5_ligand_2<br>Filter: rule_of_druglike_soft<br>Pass: 0",
                 "Compound: NS5_ligand_3<br>Filter: rule_of_druglike_soft<br>Pass: 0",
                 "Compound: NS5_ligand_4<br>Filter: rule_of_druglike_soft<br>Pass: 0",
                 "Compound: NS5_ligand_6<br>Filter: rule_of_druglike_soft<br>Pass: 0",
                 "Compound: NS5_ligand_7<br>Filter: rule_of_druglike_soft<br>Pass: 0",
                 "Compound: NS5_ligand_9<br>Filter: rule_of_druglike_soft<br>Pass: 0",
                 "Compound: NS5_ligand_10<br>Filter: rule_of_druglike_soft<br>Pass: 0",
                 "Compound: NS5_ligand_14<br>Filter: rule_of_druglike_soft<br>Pass: 0",
                 "Compound: NS5_ligand_15<br>Filter: rule_of_druglike_soft<br>Pass: 0",
                 "Compound: NS5_ligand_16<br>Filter: rule_of_druglike_soft<br>Pass: 0",
                 "Compound: NS5_ligand_17<br>Filter: rule_of_druglike_soft<br>Pass: 0"
                ],
                [
                 "Compound: NS5_ligand_0<br>Filter: rule_of_generative_design<br>Pass: 0",
                 "Compound: NS5_ligand_1<br>Filter: rule_of_generative_design<br>Pass: 0",
                 "Compound: NS5_ligand_2<br>Filter: rule_of_generative_design<br>Pass: 0",
                 "Compound: NS5_ligand_3<br>Filter: rule_of_generative_design<br>Pass: 1",
                 "Compound: NS5_ligand_4<br>Filter: rule_of_generative_design<br>Pass: 0",
                 "Compound: NS5_ligand_6<br>Filter: rule_of_generative_design<br>Pass: 1",
                 "Compound: NS5_ligand_7<br>Filter: rule_of_generative_design<br>Pass: 0",
                 "Compound: NS5_ligand_9<br>Filter: rule_of_generative_design<br>Pass: 0",
                 "Compound: NS5_ligand_10<br>Filter: rule_of_generative_design<br>Pass: 1",
                 "Compound: NS5_ligand_14<br>Filter: rule_of_generative_design<br>Pass: 1",
                 "Compound: NS5_ligand_15<br>Filter: rule_of_generative_design<br>Pass: 1",
                 "Compound: NS5_ligand_16<br>Filter: rule_of_generative_design<br>Pass: 0",
                 "Compound: NS5_ligand_17<br>Filter: rule_of_generative_design<br>Pass: 0"
                ],
                [
                 "Compound: NS5_ligand_0<br>Filter: rule_of_generative_design_strict<br>Pass: 0",
                 "Compound: NS5_ligand_1<br>Filter: rule_of_generative_design_strict<br>Pass: 0",
                 "Compound: NS5_ligand_2<br>Filter: rule_of_generative_design_strict<br>Pass: 0",
                 "Compound: NS5_ligand_3<br>Filter: rule_of_generative_design_strict<br>Pass: 0",
                 "Compound: NS5_ligand_4<br>Filter: rule_of_generative_design_strict<br>Pass: 0",
                 "Compound: NS5_ligand_6<br>Filter: rule_of_generative_design_strict<br>Pass: 0",
                 "Compound: NS5_ligand_7<br>Filter: rule_of_generative_design_strict<br>Pass: 0",
                 "Compound: NS5_ligand_9<br>Filter: rule_of_generative_design_strict<br>Pass: 0",
                 "Compound: NS5_ligand_10<br>Filter: rule_of_generative_design_strict<br>Pass: 1",
                 "Compound: NS5_ligand_14<br>Filter: rule_of_generative_design_strict<br>Pass: 1",
                 "Compound: NS5_ligand_15<br>Filter: rule_of_generative_design_strict<br>Pass: 0",
                 "Compound: NS5_ligand_16<br>Filter: rule_of_generative_design_strict<br>Pass: 0",
                 "Compound: NS5_ligand_17<br>Filter: rule_of_generative_design_strict<br>Pass: 0"
                ],
                [
                 "Compound: NS5_ligand_0<br>Filter: alerts_BMS<br>Pass: 1",
                 "Compound: NS5_ligand_1<br>Filter: alerts_BMS<br>Pass: 0",
                 "Compound: NS5_ligand_2<br>Filter: alerts_BMS<br>Pass: 1",
                 "Compound: NS5_ligand_3<br>Filter: alerts_BMS<br>Pass: 0",
                 "Compound: NS5_ligand_4<br>Filter: alerts_BMS<br>Pass: 1",
                 "Compound: NS5_ligand_6<br>Filter: alerts_BMS<br>Pass: 0",
                 "Compound: NS5_ligand_7<br>Filter: alerts_BMS<br>Pass: 1",
                 "Compound: NS5_ligand_9<br>Filter: alerts_BMS<br>Pass: 1",
                 "Compound: NS5_ligand_10<br>Filter: alerts_BMS<br>Pass: 1",
                 "Compound: NS5_ligand_14<br>Filter: alerts_BMS<br>Pass: 1",
                 "Compound: NS5_ligand_15<br>Filter: alerts_BMS<br>Pass: 1",
                 "Compound: NS5_ligand_16<br>Filter: alerts_BMS<br>Pass: 1",
                 "Compound: NS5_ligand_17<br>Filter: alerts_BMS<br>Pass: 1"
                ],
                [
                 "Compound: NS5_ligand_0<br>Filter: alerts_PAINS<br>Pass: 1",
                 "Compound: NS5_ligand_1<br>Filter: alerts_PAINS<br>Pass: 1",
                 "Compound: NS5_ligand_2<br>Filter: alerts_PAINS<br>Pass: 1",
                 "Compound: NS5_ligand_3<br>Filter: alerts_PAINS<br>Pass: 1",
                 "Compound: NS5_ligand_4<br>Filter: alerts_PAINS<br>Pass: 1",
                 "Compound: NS5_ligand_6<br>Filter: alerts_PAINS<br>Pass: 1",
                 "Compound: NS5_ligand_7<br>Filter: alerts_PAINS<br>Pass: 1",
                 "Compound: NS5_ligand_9<br>Filter: alerts_PAINS<br>Pass: 1",
                 "Compound: NS5_ligand_10<br>Filter: alerts_PAINS<br>Pass: 1",
                 "Compound: NS5_ligand_14<br>Filter: alerts_PAINS<br>Pass: 1",
                 "Compound: NS5_ligand_15<br>Filter: alerts_PAINS<br>Pass: 1",
                 "Compound: NS5_ligand_16<br>Filter: alerts_PAINS<br>Pass: 1",
                 "Compound: NS5_ligand_17<br>Filter: alerts_PAINS<br>Pass: 1"
                ],
                [
                 "Compound: NS5_ligand_0<br>Filter: alerts_SureChEMBL<br>Pass: 1",
                 "Compound: NS5_ligand_1<br>Filter: alerts_SureChEMBL<br>Pass: 0",
                 "Compound: NS5_ligand_2<br>Filter: alerts_SureChEMBL<br>Pass: 1",
                 "Compound: NS5_ligand_3<br>Filter: alerts_SureChEMBL<br>Pass: 0",
                 "Compound: NS5_ligand_4<br>Filter: alerts_SureChEMBL<br>Pass: 1",
                 "Compound: NS5_ligand_6<br>Filter: alerts_SureChEMBL<br>Pass: 0",
                 "Compound: NS5_ligand_7<br>Filter: alerts_SureChEMBL<br>Pass: 0",
                 "Compound: NS5_ligand_9<br>Filter: alerts_SureChEMBL<br>Pass: 1",
                 "Compound: NS5_ligand_10<br>Filter: alerts_SureChEMBL<br>Pass: 1",
                 "Compound: NS5_ligand_14<br>Filter: alerts_SureChEMBL<br>Pass: 1",
                 "Compound: NS5_ligand_15<br>Filter: alerts_SureChEMBL<br>Pass: 1",
                 "Compound: NS5_ligand_16<br>Filter: alerts_SureChEMBL<br>Pass: 1",
                 "Compound: NS5_ligand_17<br>Filter: alerts_SureChEMBL<br>Pass: 1"
                ],
                [
                 "Compound: NS5_ligand_0<br>Filter: filters_NIBR<br>Pass: 1",
                 "Compound: NS5_ligand_1<br>Filter: filters_NIBR<br>Pass: 1",
                 "Compound: NS5_ligand_2<br>Filter: filters_NIBR<br>Pass: 1",
                 "Compound: NS5_ligand_3<br>Filter: filters_NIBR<br>Pass: 0",
                 "Compound: NS5_ligand_4<br>Filter: filters_NIBR<br>Pass: 1",
                 "Compound: NS5_ligand_6<br>Filter: filters_NIBR<br>Pass: 0",
                 "Compound: NS5_ligand_7<br>Filter: filters_NIBR<br>Pass: 1",
                 "Compound: NS5_ligand_9<br>Filter: filters_NIBR<br>Pass: 1",
                 "Compound: NS5_ligand_10<br>Filter: filters_NIBR<br>Pass: 1",
                 "Compound: NS5_ligand_14<br>Filter: filters_NIBR<br>Pass: 1",
                 "Compound: NS5_ligand_15<br>Filter: filters_NIBR<br>Pass: 0",
                 "Compound: NS5_ligand_16<br>Filter: filters_NIBR<br>Pass: 1",
                 "Compound: NS5_ligand_17<br>Filter: filters_NIBR<br>Pass: 1"
                ],
                [
                 "Compound: NS5_ligand_0<br>Filter: filter_complexity<br>Pass: 1",
                 "Compound: NS5_ligand_1<br>Filter: filter_complexity<br>Pass: 1",
                 "Compound: NS5_ligand_2<br>Filter: filter_complexity<br>Pass: 1",
                 "Compound: NS5_ligand_3<br>Filter: filter_complexity<br>Pass: 1",
                 "Compound: NS5_ligand_4<br>Filter: filter_complexity<br>Pass: 1",
                 "Compound: NS5_ligand_6<br>Filter: filter_complexity<br>Pass: 1",
                 "Compound: NS5_ligand_7<br>Filter: filter_complexity<br>Pass: 1",
                 "Compound: NS5_ligand_9<br>Filter: filter_complexity<br>Pass: 1",
                 "Compound: NS5_ligand_10<br>Filter: filter_complexity<br>Pass: 1",
                 "Compound: NS5_ligand_14<br>Filter: filter_complexity<br>Pass: 1",
                 "Compound: NS5_ligand_15<br>Filter: filter_complexity<br>Pass: 1",
                 "Compound: NS5_ligand_16<br>Filter: filter_complexity<br>Pass: 1",
                 "Compound: NS5_ligand_17<br>Filter: filter_complexity<br>Pass: 1"
                ],
                [
                 "Compound: NS5_ligand_0<br>Filter: filter_bredt<br>Pass: 1",
                 "Compound: NS5_ligand_1<br>Filter: filter_bredt<br>Pass: 1",
                 "Compound: NS5_ligand_2<br>Filter: filter_bredt<br>Pass: 1",
                 "Compound: NS5_ligand_3<br>Filter: filter_bredt<br>Pass: 1",
                 "Compound: NS5_ligand_4<br>Filter: filter_bredt<br>Pass: 1",
                 "Compound: NS5_ligand_6<br>Filter: filter_bredt<br>Pass: 1",
                 "Compound: NS5_ligand_7<br>Filter: filter_bredt<br>Pass: 1",
                 "Compound: NS5_ligand_9<br>Filter: filter_bredt<br>Pass: 1",
                 "Compound: NS5_ligand_10<br>Filter: filter_bredt<br>Pass: 1",
                 "Compound: NS5_ligand_14<br>Filter: filter_bredt<br>Pass: 1",
                 "Compound: NS5_ligand_15<br>Filter: filter_bredt<br>Pass: 1",
                 "Compound: NS5_ligand_16<br>Filter: filter_bredt<br>Pass: 1",
                 "Compound: NS5_ligand_17<br>Filter: filter_bredt<br>Pass: 1"
                ],
                [
                 "Compound: NS5_ligand_0<br>Filter: filter_molecular_graph<br>Pass: 1",
                 "Compound: NS5_ligand_1<br>Filter: filter_molecular_graph<br>Pass: 1",
                 "Compound: NS5_ligand_2<br>Filter: filter_molecular_graph<br>Pass: 1",
                 "Compound: NS5_ligand_3<br>Filter: filter_molecular_graph<br>Pass: 0",
                 "Compound: NS5_ligand_4<br>Filter: filter_molecular_graph<br>Pass: 1",
                 "Compound: NS5_ligand_6<br>Filter: filter_molecular_graph<br>Pass: 1",
                 "Compound: NS5_ligand_7<br>Filter: filter_molecular_graph<br>Pass: 0",
                 "Compound: NS5_ligand_9<br>Filter: filter_molecular_graph<br>Pass: 1",
                 "Compound: NS5_ligand_10<br>Filter: filter_molecular_graph<br>Pass: 1",
                 "Compound: NS5_ligand_14<br>Filter: filter_molecular_graph<br>Pass: 1",
                 "Compound: NS5_ligand_15<br>Filter: filter_molecular_graph<br>Pass: 1",
                 "Compound: NS5_ligand_16<br>Filter: filter_molecular_graph<br>Pass: 1",
                 "Compound: NS5_ligand_17<br>Filter: filter_molecular_graph<br>Pass: 1"
                ],
                [
                 "Compound: NS5_ligand_0<br>Filter: filter_lilly_demerit<br>Pass: 1",
                 "Compound: NS5_ligand_1<br>Filter: filter_lilly_demerit<br>Pass: 0",
                 "Compound: NS5_ligand_2<br>Filter: filter_lilly_demerit<br>Pass: 1",
                 "Compound: NS5_ligand_3<br>Filter: filter_lilly_demerit<br>Pass: 0",
                 "Compound: NS5_ligand_4<br>Filter: filter_lilly_demerit<br>Pass: 1",
                 "Compound: NS5_ligand_6<br>Filter: filter_lilly_demerit<br>Pass: 0",
                 "Compound: NS5_ligand_7<br>Filter: filter_lilly_demerit<br>Pass: 0",
                 "Compound: NS5_ligand_9<br>Filter: filter_lilly_demerit<br>Pass: 1",
                 "Compound: NS5_ligand_10<br>Filter: filter_lilly_demerit<br>Pass: 1",
                 "Compound: NS5_ligand_14<br>Filter: filter_lilly_demerit<br>Pass: 0",
                 "Compound: NS5_ligand_15<br>Filter: filter_lilly_demerit<br>Pass: 0",
                 "Compound: NS5_ligand_16<br>Filter: filter_lilly_demerit<br>Pass: 1",
                 "Compound: NS5_ligand_17<br>Filter: filter_lilly_demerit<br>Pass: 1"
                ]
               ]
              ],
              "x": [
               [
                "0",
                "1",
                "2",
                "3",
                "4",
                "6",
                "7",
                "9",
                "10",
                "14",
                "15",
                "16",
                "17"
               ]
              ],
              "y": [
               [
                "rule_of_five (92%)",
                "rule_of_ghose (15%)",
                "rule_of_veber (85%)",
                "rule_of_reos (8%)",
                "rule_of_chemaxon_druglikeness (62%)",
                "rule_of_egan (69%)",
                "rule_of_pfizer_3_75 (92%)",
                "rule_of_gsk_4_400 (92%)",
                "rule_of_oprea (15%)",
                "rule_of_xu (38%)",
                "rule_of_zinc (100%)",
                "rule_of_leadlike_soft (23%)",
                "rule_of_druglike_soft (0%)",
                "rule_of_generative_design (38%)",
                "rule_of_generative_design_strict (15%)",
                "alerts_BMS (77%)",
                "alerts_PAINS (100%)",
                "alerts_SureChEMBL (69%)",
                "filters_NIBR (77%)",
                "filter_complexity (100%)",
                "filter_bredt (100%)",
                "filter_molecular_graph (85%)",
                "filter_lilly_demerit (54%)"
               ]
              ],
              "z": [
               [
                [
                 1,
                 1,
                 1,
                 1,
                 1,
                 0,
                 1,
                 1,
                 1,
                 1,
                 1,
                 1,
                 1
                ],
                [
                 0,
                 0,
                 0,
                 1,
                 0,
                 0,
                 0,
                 0,
                 0,
                 0,
                 1,
                 0,
                 0
                ],
                [
                 1,
                 1,
                 1,
                 0,
                 1,
                 0,
                 1,
                 1,
                 1,
                 1,
                 1,
                 1,
                 1
                ],
                [
                 0,
                 0,
                 0,
                 0,
                 0,
                 0,
                 0,
                 0,
                 0,
                 0,
                 1,
                 0,
                 0
                ],
                [
                 1,
                 0,
                 1,
                 0,
                 1,
                 0,
                 1,
                 0,
                 1,
                 1,
                 0,
                 1,
                 1
                ],
                [
                 1,
                 1,
                 1,
                 0,
                 1,
                 0,
                 1,
                 0,
                 1,
                 0,
                 1,
                 1,
                 1
                ],
                [
                 1,
                 1,
                 1,
                 1,
                 1,
                 1,
                 0,
                 1,
                 1,
                 1,
                 1,
                 1,
                 1
                ],
                [
                 1,
                 1,
                 1,
                 1,
                 1,
                 1,
                 1,
                 1,
                 1,
                 1,
                 0,
                 1,
                 1
                ],
                [
                 0,
                 0,
                 0,
                 0,
                 0,
                 0,
                 0,
                 0,
                 1,
                 1,
                 0,
                 0,
                 0
                ],
                [
                 0,
                 0,
                 0,
                 1,
                 0,
                 0,
                 1,
                 0,
                 1,
                 1,
                 1,
                 0,
                 0
                ],
                [
                 1,
                 1,
                 1,
                 1,
                 1,
                 1,
                 1,
                 1,
                 1,
                 1,
                 1,
                 1,
                 1
                ],
                [
                 0,
                 0,
                 0,
                 0,
                 0,
                 0,
                 0,
                 0,
                 1,
                 1,
                 0,
                 0,
                 1
                ],
                [
                 0,
                 0,
                 0,
                 0,
                 0,
                 0,
                 0,
                 0,
                 0,
                 0,
                 0,
                 0,
                 0
                ],
                [
                 0,
                 0,
                 0,
                 1,
                 0,
                 1,
                 0,
                 0,
                 1,
                 1,
                 1,
                 0,
                 0
                ],
                [
                 0,
                 0,
                 0,
                 0,
                 0,
                 0,
                 0,
                 0,
                 1,
                 1,
                 0,
                 0,
                 0
                ],
                [
                 1,
                 0,
                 1,
                 0,
                 1,
                 0,
                 1,
                 1,
                 1,
                 1,
                 1,
                 1,
                 1
                ],
                [
                 1,
                 1,
                 1,
                 1,
                 1,
                 1,
                 1,
                 1,
                 1,
                 1,
                 1,
                 1,
                 1
                ],
                [
                 1,
                 0,
                 1,
                 0,
                 1,
                 0,
                 0,
                 1,
                 1,
                 1,
                 1,
                 1,
                 1
                ],
                [
                 1,
                 1,
                 1,
                 0,
                 1,
                 0,
                 1,
                 1,
                 1,
                 1,
                 0,
                 1,
                 1
                ],
                [
                 1,
                 1,
                 1,
                 1,
                 1,
                 1,
                 1,
                 1,
                 1,
                 1,
                 1,
                 1,
                 1
                ],
                [
                 1,
                 1,
                 1,
                 1,
                 1,
                 1,
                 1,
                 1,
                 1,
                 1,
                 1,
                 1,
                 1
                ],
                [
                 1,
                 1,
                 1,
                 0,
                 1,
                 1,
                 0,
                 1,
                 1,
                 1,
                 1,
                 1,
                 1
                ],
                [
                 1,
                 0,
                 1,
                 0,
                 1,
                 0,
                 0,
                 1,
                 1,
                 0,
                 0,
                 1,
                 1
                ]
               ]
              ]
             }
            ],
            "label": "SDF Order (Full)",
            "method": "restyle"
           },
           {
            "args": [
             {
              "text": [
               [
                [
                 "Compound: NS5_ligand_10<br>Filter: rule_of_five<br>Pass: 1",
                 "Compound: NS5_ligand_14<br>Filter: rule_of_five<br>Pass: 1",
                 "Compound: NS5_ligand_17<br>Filter: rule_of_five<br>Pass: 1",
                 "Compound: NS5_ligand_2<br>Filter: rule_of_five<br>Pass: 1",
                 "Compound: NS5_ligand_0<br>Filter: rule_of_five<br>Pass: 1",
                 "Compound: NS5_ligand_16<br>Filter: rule_of_five<br>Pass: 1",
                 "Compound: NS5_ligand_15<br>Filter: rule_of_five<br>Pass: 1",
                 "Compound: NS5_ligand_4<br>Filter: rule_of_five<br>Pass: 1",
                 "Compound: NS5_ligand_9<br>Filter: rule_of_five<br>Pass: 1",
                 "Compound: NS5_ligand_7<br>Filter: rule_of_five<br>Pass: 1",
                 "Compound: NS5_ligand_1<br>Filter: rule_of_five<br>Pass: 1",
                 "Compound: NS5_ligand_3<br>Filter: rule_of_five<br>Pass: 1",
                 "Compound: NS5_ligand_6<br>Filter: rule_of_five<br>Pass: 0"
                ],
                [
                 "Compound: NS5_ligand_10<br>Filter: rule_of_ghose<br>Pass: 0",
                 "Compound: NS5_ligand_14<br>Filter: rule_of_ghose<br>Pass: 0",
                 "Compound: NS5_ligand_17<br>Filter: rule_of_ghose<br>Pass: 0",
                 "Compound: NS5_ligand_2<br>Filter: rule_of_ghose<br>Pass: 0",
                 "Compound: NS5_ligand_0<br>Filter: rule_of_ghose<br>Pass: 0",
                 "Compound: NS5_ligand_16<br>Filter: rule_of_ghose<br>Pass: 0",
                 "Compound: NS5_ligand_15<br>Filter: rule_of_ghose<br>Pass: 1",
                 "Compound: NS5_ligand_4<br>Filter: rule_of_ghose<br>Pass: 0",
                 "Compound: NS5_ligand_9<br>Filter: rule_of_ghose<br>Pass: 0",
                 "Compound: NS5_ligand_7<br>Filter: rule_of_ghose<br>Pass: 0",
                 "Compound: NS5_ligand_1<br>Filter: rule_of_ghose<br>Pass: 0",
                 "Compound: NS5_ligand_3<br>Filter: rule_of_ghose<br>Pass: 1",
                 "Compound: NS5_ligand_6<br>Filter: rule_of_ghose<br>Pass: 0"
                ],
                [
                 "Compound: NS5_ligand_10<br>Filter: rule_of_veber<br>Pass: 1",
                 "Compound: NS5_ligand_14<br>Filter: rule_of_veber<br>Pass: 1",
                 "Compound: NS5_ligand_17<br>Filter: rule_of_veber<br>Pass: 1",
                 "Compound: NS5_ligand_2<br>Filter: rule_of_veber<br>Pass: 1",
                 "Compound: NS5_ligand_0<br>Filter: rule_of_veber<br>Pass: 1",
                 "Compound: NS5_ligand_16<br>Filter: rule_of_veber<br>Pass: 1",
                 "Compound: NS5_ligand_15<br>Filter: rule_of_veber<br>Pass: 1",
                 "Compound: NS5_ligand_4<br>Filter: rule_of_veber<br>Pass: 1",
                 "Compound: NS5_ligand_9<br>Filter: rule_of_veber<br>Pass: 1",
                 "Compound: NS5_ligand_7<br>Filter: rule_of_veber<br>Pass: 1",
                 "Compound: NS5_ligand_1<br>Filter: rule_of_veber<br>Pass: 1",
                 "Compound: NS5_ligand_3<br>Filter: rule_of_veber<br>Pass: 0",
                 "Compound: NS5_ligand_6<br>Filter: rule_of_veber<br>Pass: 0"
                ],
                [
                 "Compound: NS5_ligand_10<br>Filter: rule_of_reos<br>Pass: 0",
                 "Compound: NS5_ligand_14<br>Filter: rule_of_reos<br>Pass: 0",
                 "Compound: NS5_ligand_17<br>Filter: rule_of_reos<br>Pass: 0",
                 "Compound: NS5_ligand_2<br>Filter: rule_of_reos<br>Pass: 0",
                 "Compound: NS5_ligand_0<br>Filter: rule_of_reos<br>Pass: 0",
                 "Compound: NS5_ligand_16<br>Filter: rule_of_reos<br>Pass: 0",
                 "Compound: NS5_ligand_15<br>Filter: rule_of_reos<br>Pass: 1",
                 "Compound: NS5_ligand_4<br>Filter: rule_of_reos<br>Pass: 0",
                 "Compound: NS5_ligand_9<br>Filter: rule_of_reos<br>Pass: 0",
                 "Compound: NS5_ligand_7<br>Filter: rule_of_reos<br>Pass: 0",
                 "Compound: NS5_ligand_1<br>Filter: rule_of_reos<br>Pass: 0",
                 "Compound: NS5_ligand_3<br>Filter: rule_of_reos<br>Pass: 0",
                 "Compound: NS5_ligand_6<br>Filter: rule_of_reos<br>Pass: 0"
                ],
                [
                 "Compound: NS5_ligand_10<br>Filter: rule_of_chemaxon_druglikeness<br>Pass: 1",
                 "Compound: NS5_ligand_14<br>Filter: rule_of_chemaxon_druglikeness<br>Pass: 1",
                 "Compound: NS5_ligand_17<br>Filter: rule_of_chemaxon_druglikeness<br>Pass: 1",
                 "Compound: NS5_ligand_2<br>Filter: rule_of_chemaxon_druglikeness<br>Pass: 1",
                 "Compound: NS5_ligand_0<br>Filter: rule_of_chemaxon_druglikeness<br>Pass: 1",
                 "Compound: NS5_ligand_16<br>Filter: rule_of_chemaxon_druglikeness<br>Pass: 1",
                 "Compound: NS5_ligand_15<br>Filter: rule_of_chemaxon_druglikeness<br>Pass: 0",
                 "Compound: NS5_ligand_4<br>Filter: rule_of_chemaxon_druglikeness<br>Pass: 1",
                 "Compound: NS5_ligand_9<br>Filter: rule_of_chemaxon_druglikeness<br>Pass: 0",
                 "Compound: NS5_ligand_7<br>Filter: rule_of_chemaxon_druglikeness<br>Pass: 1",
                 "Compound: NS5_ligand_1<br>Filter: rule_of_chemaxon_druglikeness<br>Pass: 0",
                 "Compound: NS5_ligand_3<br>Filter: rule_of_chemaxon_druglikeness<br>Pass: 0",
                 "Compound: NS5_ligand_6<br>Filter: rule_of_chemaxon_druglikeness<br>Pass: 0"
                ],
                [
                 "Compound: NS5_ligand_10<br>Filter: rule_of_egan<br>Pass: 1",
                 "Compound: NS5_ligand_14<br>Filter: rule_of_egan<br>Pass: 0",
                 "Compound: NS5_ligand_17<br>Filter: rule_of_egan<br>Pass: 1",
                 "Compound: NS5_ligand_2<br>Filter: rule_of_egan<br>Pass: 1",
                 "Compound: NS5_ligand_0<br>Filter: rule_of_egan<br>Pass: 1",
                 "Compound: NS5_ligand_16<br>Filter: rule_of_egan<br>Pass: 1",
                 "Compound: NS5_ligand_15<br>Filter: rule_of_egan<br>Pass: 1",
                 "Compound: NS5_ligand_4<br>Filter: rule_of_egan<br>Pass: 1",
                 "Compound: NS5_ligand_9<br>Filter: rule_of_egan<br>Pass: 0",
                 "Compound: NS5_ligand_7<br>Filter: rule_of_egan<br>Pass: 1",
                 "Compound: NS5_ligand_1<br>Filter: rule_of_egan<br>Pass: 1",
                 "Compound: NS5_ligand_3<br>Filter: rule_of_egan<br>Pass: 0",
                 "Compound: NS5_ligand_6<br>Filter: rule_of_egan<br>Pass: 0"
                ],
                [
                 "Compound: NS5_ligand_10<br>Filter: rule_of_pfizer_3_75<br>Pass: 1",
                 "Compound: NS5_ligand_14<br>Filter: rule_of_pfizer_3_75<br>Pass: 1",
                 "Compound: NS5_ligand_17<br>Filter: rule_of_pfizer_3_75<br>Pass: 1",
                 "Compound: NS5_ligand_2<br>Filter: rule_of_pfizer_3_75<br>Pass: 1",
                 "Compound: NS5_ligand_0<br>Filter: rule_of_pfizer_3_75<br>Pass: 1",
                 "Compound: NS5_ligand_16<br>Filter: rule_of_pfizer_3_75<br>Pass: 1",
                 "Compound: NS5_ligand_15<br>Filter: rule_of_pfizer_3_75<br>Pass: 1",
                 "Compound: NS5_ligand_4<br>Filter: rule_of_pfizer_3_75<br>Pass: 1",
                 "Compound: NS5_ligand_9<br>Filter: rule_of_pfizer_3_75<br>Pass: 1",
                 "Compound: NS5_ligand_7<br>Filter: rule_of_pfizer_3_75<br>Pass: 0",
                 "Compound: NS5_ligand_1<br>Filter: rule_of_pfizer_3_75<br>Pass: 1",
                 "Compound: NS5_ligand_3<br>Filter: rule_of_pfizer_3_75<br>Pass: 1",
                 "Compound: NS5_ligand_6<br>Filter: rule_of_pfizer_3_75<br>Pass: 1"
                ],
                [
                 "Compound: NS5_ligand_10<br>Filter: rule_of_gsk_4_400<br>Pass: 1",
                 "Compound: NS5_ligand_14<br>Filter: rule_of_gsk_4_400<br>Pass: 1",
                 "Compound: NS5_ligand_17<br>Filter: rule_of_gsk_4_400<br>Pass: 1",
                 "Compound: NS5_ligand_2<br>Filter: rule_of_gsk_4_400<br>Pass: 1",
                 "Compound: NS5_ligand_0<br>Filter: rule_of_gsk_4_400<br>Pass: 1",
                 "Compound: NS5_ligand_16<br>Filter: rule_of_gsk_4_400<br>Pass: 1",
                 "Compound: NS5_ligand_15<br>Filter: rule_of_gsk_4_400<br>Pass: 0",
                 "Compound: NS5_ligand_4<br>Filter: rule_of_gsk_4_400<br>Pass: 1",
                 "Compound: NS5_ligand_9<br>Filter: rule_of_gsk_4_400<br>Pass: 1",
                 "Compound: NS5_ligand_7<br>Filter: rule_of_gsk_4_400<br>Pass: 1",
                 "Compound: NS5_ligand_1<br>Filter: rule_of_gsk_4_400<br>Pass: 1",
                 "Compound: NS5_ligand_3<br>Filter: rule_of_gsk_4_400<br>Pass: 1",
                 "Compound: NS5_ligand_6<br>Filter: rule_of_gsk_4_400<br>Pass: 1"
                ],
                [
                 "Compound: NS5_ligand_10<br>Filter: rule_of_oprea<br>Pass: 1",
                 "Compound: NS5_ligand_14<br>Filter: rule_of_oprea<br>Pass: 1",
                 "Compound: NS5_ligand_17<br>Filter: rule_of_oprea<br>Pass: 0",
                 "Compound: NS5_ligand_2<br>Filter: rule_of_oprea<br>Pass: 0",
                 "Compound: NS5_ligand_0<br>Filter: rule_of_oprea<br>Pass: 0",
                 "Compound: NS5_ligand_16<br>Filter: rule_of_oprea<br>Pass: 0",
                 "Compound: NS5_ligand_15<br>Filter: rule_of_oprea<br>Pass: 0",
                 "Compound: NS5_ligand_4<br>Filter: rule_of_oprea<br>Pass: 0",
                 "Compound: NS5_ligand_9<br>Filter: rule_of_oprea<br>Pass: 0",
                 "Compound: NS5_ligand_7<br>Filter: rule_of_oprea<br>Pass: 0",
                 "Compound: NS5_ligand_1<br>Filter: rule_of_oprea<br>Pass: 0",
                 "Compound: NS5_ligand_3<br>Filter: rule_of_oprea<br>Pass: 0",
                 "Compound: NS5_ligand_6<br>Filter: rule_of_oprea<br>Pass: 0"
                ],
                [
                 "Compound: NS5_ligand_10<br>Filter: rule_of_xu<br>Pass: 1",
                 "Compound: NS5_ligand_14<br>Filter: rule_of_xu<br>Pass: 1",
                 "Compound: NS5_ligand_17<br>Filter: rule_of_xu<br>Pass: 0",
                 "Compound: NS5_ligand_2<br>Filter: rule_of_xu<br>Pass: 0",
                 "Compound: NS5_ligand_0<br>Filter: rule_of_xu<br>Pass: 0",
                 "Compound: NS5_ligand_16<br>Filter: rule_of_xu<br>Pass: 0",
                 "Compound: NS5_ligand_15<br>Filter: rule_of_xu<br>Pass: 1",
                 "Compound: NS5_ligand_4<br>Filter: rule_of_xu<br>Pass: 0",
                 "Compound: NS5_ligand_9<br>Filter: rule_of_xu<br>Pass: 0",
                 "Compound: NS5_ligand_7<br>Filter: rule_of_xu<br>Pass: 1",
                 "Compound: NS5_ligand_1<br>Filter: rule_of_xu<br>Pass: 0",
                 "Compound: NS5_ligand_3<br>Filter: rule_of_xu<br>Pass: 1",
                 "Compound: NS5_ligand_6<br>Filter: rule_of_xu<br>Pass: 0"
                ],
                [
                 "Compound: NS5_ligand_10<br>Filter: rule_of_zinc<br>Pass: 1",
                 "Compound: NS5_ligand_14<br>Filter: rule_of_zinc<br>Pass: 1",
                 "Compound: NS5_ligand_17<br>Filter: rule_of_zinc<br>Pass: 1",
                 "Compound: NS5_ligand_2<br>Filter: rule_of_zinc<br>Pass: 1",
                 "Compound: NS5_ligand_0<br>Filter: rule_of_zinc<br>Pass: 1",
                 "Compound: NS5_ligand_16<br>Filter: rule_of_zinc<br>Pass: 1",
                 "Compound: NS5_ligand_15<br>Filter: rule_of_zinc<br>Pass: 1",
                 "Compound: NS5_ligand_4<br>Filter: rule_of_zinc<br>Pass: 1",
                 "Compound: NS5_ligand_9<br>Filter: rule_of_zinc<br>Pass: 1",
                 "Compound: NS5_ligand_7<br>Filter: rule_of_zinc<br>Pass: 1",
                 "Compound: NS5_ligand_1<br>Filter: rule_of_zinc<br>Pass: 1",
                 "Compound: NS5_ligand_3<br>Filter: rule_of_zinc<br>Pass: 1",
                 "Compound: NS5_ligand_6<br>Filter: rule_of_zinc<br>Pass: 1"
                ],
                [
                 "Compound: NS5_ligand_10<br>Filter: rule_of_leadlike_soft<br>Pass: 1",
                 "Compound: NS5_ligand_14<br>Filter: rule_of_leadlike_soft<br>Pass: 1",
                 "Compound: NS5_ligand_17<br>Filter: rule_of_leadlike_soft<br>Pass: 1",
                 "Compound: NS5_ligand_2<br>Filter: rule_of_leadlike_soft<br>Pass: 0",
                 "Compound: NS5_ligand_0<br>Filter: rule_of_leadlike_soft<br>Pass: 0",
                 "Compound: NS5_ligand_16<br>Filter: rule_of_leadlike_soft<br>Pass: 0",
                 "Compound: NS5_ligand_15<br>Filter: rule_of_leadlike_soft<br>Pass: 0",
                 "Compound: NS5_ligand_4<br>Filter: rule_of_leadlike_soft<br>Pass: 0",
                 "Compound: NS5_ligand_9<br>Filter: rule_of_leadlike_soft<br>Pass: 0",
                 "Compound: NS5_ligand_7<br>Filter: rule_of_leadlike_soft<br>Pass: 0",
                 "Compound: NS5_ligand_1<br>Filter: rule_of_leadlike_soft<br>Pass: 0",
                 "Compound: NS5_ligand_3<br>Filter: rule_of_leadlike_soft<br>Pass: 0",
                 "Compound: NS5_ligand_6<br>Filter: rule_of_leadlike_soft<br>Pass: 0"
                ],
                [
                 "Compound: NS5_ligand_10<br>Filter: rule_of_druglike_soft<br>Pass: 0",
                 "Compound: NS5_ligand_14<br>Filter: rule_of_druglike_soft<br>Pass: 0",
                 "Compound: NS5_ligand_17<br>Filter: rule_of_druglike_soft<br>Pass: 0",
                 "Compound: NS5_ligand_2<br>Filter: rule_of_druglike_soft<br>Pass: 0",
                 "Compound: NS5_ligand_0<br>Filter: rule_of_druglike_soft<br>Pass: 0",
                 "Compound: NS5_ligand_16<br>Filter: rule_of_druglike_soft<br>Pass: 0",
                 "Compound: NS5_ligand_15<br>Filter: rule_of_druglike_soft<br>Pass: 0",
                 "Compound: NS5_ligand_4<br>Filter: rule_of_druglike_soft<br>Pass: 0",
                 "Compound: NS5_ligand_9<br>Filter: rule_of_druglike_soft<br>Pass: 0",
                 "Compound: NS5_ligand_7<br>Filter: rule_of_druglike_soft<br>Pass: 0",
                 "Compound: NS5_ligand_1<br>Filter: rule_of_druglike_soft<br>Pass: 0",
                 "Compound: NS5_ligand_3<br>Filter: rule_of_druglike_soft<br>Pass: 0",
                 "Compound: NS5_ligand_6<br>Filter: rule_of_druglike_soft<br>Pass: 0"
                ],
                [
                 "Compound: NS5_ligand_10<br>Filter: rule_of_generative_design<br>Pass: 1",
                 "Compound: NS5_ligand_14<br>Filter: rule_of_generative_design<br>Pass: 1",
                 "Compound: NS5_ligand_17<br>Filter: rule_of_generative_design<br>Pass: 0",
                 "Compound: NS5_ligand_2<br>Filter: rule_of_generative_design<br>Pass: 0",
                 "Compound: NS5_ligand_0<br>Filter: rule_of_generative_design<br>Pass: 0",
                 "Compound: NS5_ligand_16<br>Filter: rule_of_generative_design<br>Pass: 0",
                 "Compound: NS5_ligand_15<br>Filter: rule_of_generative_design<br>Pass: 1",
                 "Compound: NS5_ligand_4<br>Filter: rule_of_generative_design<br>Pass: 0",
                 "Compound: NS5_ligand_9<br>Filter: rule_of_generative_design<br>Pass: 0",
                 "Compound: NS5_ligand_7<br>Filter: rule_of_generative_design<br>Pass: 0",
                 "Compound: NS5_ligand_1<br>Filter: rule_of_generative_design<br>Pass: 0",
                 "Compound: NS5_ligand_3<br>Filter: rule_of_generative_design<br>Pass: 1",
                 "Compound: NS5_ligand_6<br>Filter: rule_of_generative_design<br>Pass: 1"
                ],
                [
                 "Compound: NS5_ligand_10<br>Filter: rule_of_generative_design_strict<br>Pass: 1",
                 "Compound: NS5_ligand_14<br>Filter: rule_of_generative_design_strict<br>Pass: 1",
                 "Compound: NS5_ligand_17<br>Filter: rule_of_generative_design_strict<br>Pass: 0",
                 "Compound: NS5_ligand_2<br>Filter: rule_of_generative_design_strict<br>Pass: 0",
                 "Compound: NS5_ligand_0<br>Filter: rule_of_generative_design_strict<br>Pass: 0",
                 "Compound: NS5_ligand_16<br>Filter: rule_of_generative_design_strict<br>Pass: 0",
                 "Compound: NS5_ligand_15<br>Filter: rule_of_generative_design_strict<br>Pass: 0",
                 "Compound: NS5_ligand_4<br>Filter: rule_of_generative_design_strict<br>Pass: 0",
                 "Compound: NS5_ligand_9<br>Filter: rule_of_generative_design_strict<br>Pass: 0",
                 "Compound: NS5_ligand_7<br>Filter: rule_of_generative_design_strict<br>Pass: 0",
                 "Compound: NS5_ligand_1<br>Filter: rule_of_generative_design_strict<br>Pass: 0",
                 "Compound: NS5_ligand_3<br>Filter: rule_of_generative_design_strict<br>Pass: 0",
                 "Compound: NS5_ligand_6<br>Filter: rule_of_generative_design_strict<br>Pass: 0"
                ],
                [
                 "Compound: NS5_ligand_10<br>Filter: alerts_BMS<br>Pass: 1",
                 "Compound: NS5_ligand_14<br>Filter: alerts_BMS<br>Pass: 1",
                 "Compound: NS5_ligand_17<br>Filter: alerts_BMS<br>Pass: 1",
                 "Compound: NS5_ligand_2<br>Filter: alerts_BMS<br>Pass: 1",
                 "Compound: NS5_ligand_0<br>Filter: alerts_BMS<br>Pass: 1",
                 "Compound: NS5_ligand_16<br>Filter: alerts_BMS<br>Pass: 1",
                 "Compound: NS5_ligand_15<br>Filter: alerts_BMS<br>Pass: 1",
                 "Compound: NS5_ligand_4<br>Filter: alerts_BMS<br>Pass: 1",
                 "Compound: NS5_ligand_9<br>Filter: alerts_BMS<br>Pass: 1",
                 "Compound: NS5_ligand_7<br>Filter: alerts_BMS<br>Pass: 1",
                 "Compound: NS5_ligand_1<br>Filter: alerts_BMS<br>Pass: 0",
                 "Compound: NS5_ligand_3<br>Filter: alerts_BMS<br>Pass: 0",
                 "Compound: NS5_ligand_6<br>Filter: alerts_BMS<br>Pass: 0"
                ],
                [
                 "Compound: NS5_ligand_10<br>Filter: alerts_PAINS<br>Pass: 1",
                 "Compound: NS5_ligand_14<br>Filter: alerts_PAINS<br>Pass: 1",
                 "Compound: NS5_ligand_17<br>Filter: alerts_PAINS<br>Pass: 1",
                 "Compound: NS5_ligand_2<br>Filter: alerts_PAINS<br>Pass: 1",
                 "Compound: NS5_ligand_0<br>Filter: alerts_PAINS<br>Pass: 1",
                 "Compound: NS5_ligand_16<br>Filter: alerts_PAINS<br>Pass: 1",
                 "Compound: NS5_ligand_15<br>Filter: alerts_PAINS<br>Pass: 1",
                 "Compound: NS5_ligand_4<br>Filter: alerts_PAINS<br>Pass: 1",
                 "Compound: NS5_ligand_9<br>Filter: alerts_PAINS<br>Pass: 1",
                 "Compound: NS5_ligand_7<br>Filter: alerts_PAINS<br>Pass: 1",
                 "Compound: NS5_ligand_1<br>Filter: alerts_PAINS<br>Pass: 1",
                 "Compound: NS5_ligand_3<br>Filter: alerts_PAINS<br>Pass: 1",
                 "Compound: NS5_ligand_6<br>Filter: alerts_PAINS<br>Pass: 1"
                ],
                [
                 "Compound: NS5_ligand_10<br>Filter: alerts_SureChEMBL<br>Pass: 1",
                 "Compound: NS5_ligand_14<br>Filter: alerts_SureChEMBL<br>Pass: 1",
                 "Compound: NS5_ligand_17<br>Filter: alerts_SureChEMBL<br>Pass: 1",
                 "Compound: NS5_ligand_2<br>Filter: alerts_SureChEMBL<br>Pass: 1",
                 "Compound: NS5_ligand_0<br>Filter: alerts_SureChEMBL<br>Pass: 1",
                 "Compound: NS5_ligand_16<br>Filter: alerts_SureChEMBL<br>Pass: 1",
                 "Compound: NS5_ligand_15<br>Filter: alerts_SureChEMBL<br>Pass: 1",
                 "Compound: NS5_ligand_4<br>Filter: alerts_SureChEMBL<br>Pass: 1",
                 "Compound: NS5_ligand_9<br>Filter: alerts_SureChEMBL<br>Pass: 1",
                 "Compound: NS5_ligand_7<br>Filter: alerts_SureChEMBL<br>Pass: 0",
                 "Compound: NS5_ligand_1<br>Filter: alerts_SureChEMBL<br>Pass: 0",
                 "Compound: NS5_ligand_3<br>Filter: alerts_SureChEMBL<br>Pass: 0",
                 "Compound: NS5_ligand_6<br>Filter: alerts_SureChEMBL<br>Pass: 0"
                ],
                [
                 "Compound: NS5_ligand_10<br>Filter: filters_NIBR<br>Pass: 1",
                 "Compound: NS5_ligand_14<br>Filter: filters_NIBR<br>Pass: 1",
                 "Compound: NS5_ligand_17<br>Filter: filters_NIBR<br>Pass: 1",
                 "Compound: NS5_ligand_2<br>Filter: filters_NIBR<br>Pass: 1",
                 "Compound: NS5_ligand_0<br>Filter: filters_NIBR<br>Pass: 1",
                 "Compound: NS5_ligand_16<br>Filter: filters_NIBR<br>Pass: 1",
                 "Compound: NS5_ligand_15<br>Filter: filters_NIBR<br>Pass: 0",
                 "Compound: NS5_ligand_4<br>Filter: filters_NIBR<br>Pass: 1",
                 "Compound: NS5_ligand_9<br>Filter: filters_NIBR<br>Pass: 1",
                 "Compound: NS5_ligand_7<br>Filter: filters_NIBR<br>Pass: 1",
                 "Compound: NS5_ligand_1<br>Filter: filters_NIBR<br>Pass: 1",
                 "Compound: NS5_ligand_3<br>Filter: filters_NIBR<br>Pass: 0",
                 "Compound: NS5_ligand_6<br>Filter: filters_NIBR<br>Pass: 0"
                ],
                [
                 "Compound: NS5_ligand_10<br>Filter: filter_complexity<br>Pass: 1",
                 "Compound: NS5_ligand_14<br>Filter: filter_complexity<br>Pass: 1",
                 "Compound: NS5_ligand_17<br>Filter: filter_complexity<br>Pass: 1",
                 "Compound: NS5_ligand_2<br>Filter: filter_complexity<br>Pass: 1",
                 "Compound: NS5_ligand_0<br>Filter: filter_complexity<br>Pass: 1",
                 "Compound: NS5_ligand_16<br>Filter: filter_complexity<br>Pass: 1",
                 "Compound: NS5_ligand_15<br>Filter: filter_complexity<br>Pass: 1",
                 "Compound: NS5_ligand_4<br>Filter: filter_complexity<br>Pass: 1",
                 "Compound: NS5_ligand_9<br>Filter: filter_complexity<br>Pass: 1",
                 "Compound: NS5_ligand_7<br>Filter: filter_complexity<br>Pass: 1",
                 "Compound: NS5_ligand_1<br>Filter: filter_complexity<br>Pass: 1",
                 "Compound: NS5_ligand_3<br>Filter: filter_complexity<br>Pass: 1",
                 "Compound: NS5_ligand_6<br>Filter: filter_complexity<br>Pass: 1"
                ],
                [
                 "Compound: NS5_ligand_10<br>Filter: filter_bredt<br>Pass: 1",
                 "Compound: NS5_ligand_14<br>Filter: filter_bredt<br>Pass: 1",
                 "Compound: NS5_ligand_17<br>Filter: filter_bredt<br>Pass: 1",
                 "Compound: NS5_ligand_2<br>Filter: filter_bredt<br>Pass: 1",
                 "Compound: NS5_ligand_0<br>Filter: filter_bredt<br>Pass: 1",
                 "Compound: NS5_ligand_16<br>Filter: filter_bredt<br>Pass: 1",
                 "Compound: NS5_ligand_15<br>Filter: filter_bredt<br>Pass: 1",
                 "Compound: NS5_ligand_4<br>Filter: filter_bredt<br>Pass: 1",
                 "Compound: NS5_ligand_9<br>Filter: filter_bredt<br>Pass: 1",
                 "Compound: NS5_ligand_7<br>Filter: filter_bredt<br>Pass: 1",
                 "Compound: NS5_ligand_1<br>Filter: filter_bredt<br>Pass: 1",
                 "Compound: NS5_ligand_3<br>Filter: filter_bredt<br>Pass: 1",
                 "Compound: NS5_ligand_6<br>Filter: filter_bredt<br>Pass: 1"
                ],
                [
                 "Compound: NS5_ligand_10<br>Filter: filter_molecular_graph<br>Pass: 1",
                 "Compound: NS5_ligand_14<br>Filter: filter_molecular_graph<br>Pass: 1",
                 "Compound: NS5_ligand_17<br>Filter: filter_molecular_graph<br>Pass: 1",
                 "Compound: NS5_ligand_2<br>Filter: filter_molecular_graph<br>Pass: 1",
                 "Compound: NS5_ligand_0<br>Filter: filter_molecular_graph<br>Pass: 1",
                 "Compound: NS5_ligand_16<br>Filter: filter_molecular_graph<br>Pass: 1",
                 "Compound: NS5_ligand_15<br>Filter: filter_molecular_graph<br>Pass: 1",
                 "Compound: NS5_ligand_4<br>Filter: filter_molecular_graph<br>Pass: 1",
                 "Compound: NS5_ligand_9<br>Filter: filter_molecular_graph<br>Pass: 1",
                 "Compound: NS5_ligand_7<br>Filter: filter_molecular_graph<br>Pass: 0",
                 "Compound: NS5_ligand_1<br>Filter: filter_molecular_graph<br>Pass: 1",
                 "Compound: NS5_ligand_3<br>Filter: filter_molecular_graph<br>Pass: 0",
                 "Compound: NS5_ligand_6<br>Filter: filter_molecular_graph<br>Pass: 1"
                ],
                [
                 "Compound: NS5_ligand_10<br>Filter: filter_lilly_demerit<br>Pass: 1",
                 "Compound: NS5_ligand_14<br>Filter: filter_lilly_demerit<br>Pass: 0",
                 "Compound: NS5_ligand_17<br>Filter: filter_lilly_demerit<br>Pass: 1",
                 "Compound: NS5_ligand_2<br>Filter: filter_lilly_demerit<br>Pass: 1",
                 "Compound: NS5_ligand_0<br>Filter: filter_lilly_demerit<br>Pass: 1",
                 "Compound: NS5_ligand_16<br>Filter: filter_lilly_demerit<br>Pass: 1",
                 "Compound: NS5_ligand_15<br>Filter: filter_lilly_demerit<br>Pass: 0",
                 "Compound: NS5_ligand_4<br>Filter: filter_lilly_demerit<br>Pass: 1",
                 "Compound: NS5_ligand_9<br>Filter: filter_lilly_demerit<br>Pass: 1",
                 "Compound: NS5_ligand_7<br>Filter: filter_lilly_demerit<br>Pass: 0",
                 "Compound: NS5_ligand_1<br>Filter: filter_lilly_demerit<br>Pass: 0",
                 "Compound: NS5_ligand_3<br>Filter: filter_lilly_demerit<br>Pass: 0",
                 "Compound: NS5_ligand_6<br>Filter: filter_lilly_demerit<br>Pass: 0"
                ]
               ]
              ],
              "x": [
               [
                "10",
                "14",
                "17",
                "2",
                "0",
                "16",
                "15",
                "4",
                "9",
                "7",
                "1",
                "3",
                "6"
               ]
              ],
              "y": [
               [
                "rule_of_five (92%)",
                "rule_of_ghose (15%)",
                "rule_of_veber (85%)",
                "rule_of_reos (8%)",
                "rule_of_chemaxon_druglikeness (62%)",
                "rule_of_egan (69%)",
                "rule_of_pfizer_3_75 (92%)",
                "rule_of_gsk_4_400 (92%)",
                "rule_of_oprea (15%)",
                "rule_of_xu (38%)",
                "rule_of_zinc (100%)",
                "rule_of_leadlike_soft (23%)",
                "rule_of_druglike_soft (0%)",
                "rule_of_generative_design (38%)",
                "rule_of_generative_design_strict (15%)",
                "alerts_BMS (77%)",
                "alerts_PAINS (100%)",
                "alerts_SureChEMBL (69%)",
                "filters_NIBR (77%)",
                "filter_complexity (100%)",
                "filter_bredt (100%)",
                "filter_molecular_graph (85%)",
                "filter_lilly_demerit (54%)"
               ]
              ],
              "z": [
               [
                [
                 1,
                 1,
                 1,
                 1,
                 1,
                 1,
                 1,
                 1,
                 1,
                 1,
                 1,
                 1,
                 0
                ],
                [
                 0,
                 0,
                 0,
                 0,
                 0,
                 0,
                 1,
                 0,
                 0,
                 0,
                 0,
                 1,
                 0
                ],
                [
                 1,
                 1,
                 1,
                 1,
                 1,
                 1,
                 1,
                 1,
                 1,
                 1,
                 1,
                 0,
                 0
                ],
                [
                 0,
                 0,
                 0,
                 0,
                 0,
                 0,
                 1,
                 0,
                 0,
                 0,
                 0,
                 0,
                 0
                ],
                [
                 1,
                 1,
                 1,
                 1,
                 1,
                 1,
                 0,
                 1,
                 0,
                 1,
                 0,
                 0,
                 0
                ],
                [
                 1,
                 0,
                 1,
                 1,
                 1,
                 1,
                 1,
                 1,
                 0,
                 1,
                 1,
                 0,
                 0
                ],
                [
                 1,
                 1,
                 1,
                 1,
                 1,
                 1,
                 1,
                 1,
                 1,
                 0,
                 1,
                 1,
                 1
                ],
                [
                 1,
                 1,
                 1,
                 1,
                 1,
                 1,
                 0,
                 1,
                 1,
                 1,
                 1,
                 1,
                 1
                ],
                [
                 1,
                 1,
                 0,
                 0,
                 0,
                 0,
                 0,
                 0,
                 0,
                 0,
                 0,
                 0,
                 0
                ],
                [
                 1,
                 1,
                 0,
                 0,
                 0,
                 0,
                 1,
                 0,
                 0,
                 1,
                 0,
                 1,
                 0
                ],
                [
                 1,
                 1,
                 1,
                 1,
                 1,
                 1,
                 1,
                 1,
                 1,
                 1,
                 1,
                 1,
                 1
                ],
                [
                 1,
                 1,
                 1,
                 0,
                 0,
                 0,
                 0,
                 0,
                 0,
                 0,
                 0,
                 0,
                 0
                ],
                [
                 0,
                 0,
                 0,
                 0,
                 0,
                 0,
                 0,
                 0,
                 0,
                 0,
                 0,
                 0,
                 0
                ],
                [
                 1,
                 1,
                 0,
                 0,
                 0,
                 0,
                 1,
                 0,
                 0,
                 0,
                 0,
                 1,
                 1
                ],
                [
                 1,
                 1,
                 0,
                 0,
                 0,
                 0,
                 0,
                 0,
                 0,
                 0,
                 0,
                 0,
                 0
                ],
                [
                 1,
                 1,
                 1,
                 1,
                 1,
                 1,
                 1,
                 1,
                 1,
                 1,
                 0,
                 0,
                 0
                ],
                [
                 1,
                 1,
                 1,
                 1,
                 1,
                 1,
                 1,
                 1,
                 1,
                 1,
                 1,
                 1,
                 1
                ],
                [
                 1,
                 1,
                 1,
                 1,
                 1,
                 1,
                 1,
                 1,
                 1,
                 0,
                 0,
                 0,
                 0
                ],
                [
                 1,
                 1,
                 1,
                 1,
                 1,
                 1,
                 0,
                 1,
                 1,
                 1,
                 1,
                 0,
                 0
                ],
                [
                 1,
                 1,
                 1,
                 1,
                 1,
                 1,
                 1,
                 1,
                 1,
                 1,
                 1,
                 1,
                 1
                ],
                [
                 1,
                 1,
                 1,
                 1,
                 1,
                 1,
                 1,
                 1,
                 1,
                 1,
                 1,
                 1,
                 1
                ],
                [
                 1,
                 1,
                 1,
                 1,
                 1,
                 1,
                 1,
                 1,
                 1,
                 0,
                 1,
                 0,
                 1
                ],
                [
                 1,
                 0,
                 1,
                 1,
                 1,
                 1,
                 0,
                 1,
                 1,
                 0,
                 0,
                 0,
                 0
                ]
               ]
              ]
             }
            ],
            "label": "Most Filters Passed (Full)",
            "method": "restyle"
           },
           {
            "args": [
             {
              "text": [
               [
                [
                 "Compound: NS5_ligand_10<br>Filter: rule_of_generative_design<br>Pass: 1",
                 "Compound: NS5_ligand_14<br>Filter: rule_of_generative_design<br>Pass: 1",
                 "Compound: NS5_ligand_15<br>Filter: rule_of_generative_design<br>Pass: 1",
                 "Compound: NS5_ligand_3<br>Filter: rule_of_generative_design<br>Pass: 1",
                 "Compound: NS5_ligand_6<br>Filter: rule_of_generative_design<br>Pass: 1",
                 "Compound: NS5_ligand_17<br>Filter: rule_of_generative_design<br>Pass: 0",
                 "Compound: NS5_ligand_0<br>Filter: rule_of_generative_design<br>Pass: 0",
                 "Compound: NS5_ligand_2<br>Filter: rule_of_generative_design<br>Pass: 0",
                 "Compound: NS5_ligand_4<br>Filter: rule_of_generative_design<br>Pass: 0",
                 "Compound: NS5_ligand_16<br>Filter: rule_of_generative_design<br>Pass: 0",
                 "Compound: NS5_ligand_9<br>Filter: rule_of_generative_design<br>Pass: 0",
                 "Compound: NS5_ligand_7<br>Filter: rule_of_generative_design<br>Pass: 0",
                 "Compound: NS5_ligand_1<br>Filter: rule_of_generative_design<br>Pass: 0"
                ],
                [
                 "Compound: NS5_ligand_10<br>Filter: rule_of_generative_design_strict<br>Pass: 1",
                 "Compound: NS5_ligand_14<br>Filter: rule_of_generative_design_strict<br>Pass: 1",
                 "Compound: NS5_ligand_15<br>Filter: rule_of_generative_design_strict<br>Pass: 0",
                 "Compound: NS5_ligand_3<br>Filter: rule_of_generative_design_strict<br>Pass: 0",
                 "Compound: NS5_ligand_6<br>Filter: rule_of_generative_design_strict<br>Pass: 0",
                 "Compound: NS5_ligand_17<br>Filter: rule_of_generative_design_strict<br>Pass: 0",
                 "Compound: NS5_ligand_0<br>Filter: rule_of_generative_design_strict<br>Pass: 0",
                 "Compound: NS5_ligand_2<br>Filter: rule_of_generative_design_strict<br>Pass: 0",
                 "Compound: NS5_ligand_4<br>Filter: rule_of_generative_design_strict<br>Pass: 0",
                 "Compound: NS5_ligand_16<br>Filter: rule_of_generative_design_strict<br>Pass: 0",
                 "Compound: NS5_ligand_9<br>Filter: rule_of_generative_design_strict<br>Pass: 0",
                 "Compound: NS5_ligand_7<br>Filter: rule_of_generative_design_strict<br>Pass: 0",
                 "Compound: NS5_ligand_1<br>Filter: rule_of_generative_design_strict<br>Pass: 0"
                ],
                [
                 "Compound: NS5_ligand_10<br>Filter: rule_of_five<br>Pass: 1",
                 "Compound: NS5_ligand_14<br>Filter: rule_of_five<br>Pass: 1",
                 "Compound: NS5_ligand_15<br>Filter: rule_of_five<br>Pass: 1",
                 "Compound: NS5_ligand_3<br>Filter: rule_of_five<br>Pass: 1",
                 "Compound: NS5_ligand_6<br>Filter: rule_of_five<br>Pass: 0",
                 "Compound: NS5_ligand_17<br>Filter: rule_of_five<br>Pass: 1",
                 "Compound: NS5_ligand_0<br>Filter: rule_of_five<br>Pass: 1",
                 "Compound: NS5_ligand_2<br>Filter: rule_of_five<br>Pass: 1",
                 "Compound: NS5_ligand_4<br>Filter: rule_of_five<br>Pass: 1",
                 "Compound: NS5_ligand_16<br>Filter: rule_of_five<br>Pass: 1",
                 "Compound: NS5_ligand_9<br>Filter: rule_of_five<br>Pass: 1",
                 "Compound: NS5_ligand_7<br>Filter: rule_of_five<br>Pass: 1",
                 "Compound: NS5_ligand_1<br>Filter: rule_of_five<br>Pass: 1"
                ],
                [
                 "Compound: NS5_ligand_10<br>Filter: rule_of_ghose<br>Pass: 0",
                 "Compound: NS5_ligand_14<br>Filter: rule_of_ghose<br>Pass: 0",
                 "Compound: NS5_ligand_15<br>Filter: rule_of_ghose<br>Pass: 1",
                 "Compound: NS5_ligand_3<br>Filter: rule_of_ghose<br>Pass: 1",
                 "Compound: NS5_ligand_6<br>Filter: rule_of_ghose<br>Pass: 0",
                 "Compound: NS5_ligand_17<br>Filter: rule_of_ghose<br>Pass: 0",
                 "Compound: NS5_ligand_0<br>Filter: rule_of_ghose<br>Pass: 0",
                 "Compound: NS5_ligand_2<br>Filter: rule_of_ghose<br>Pass: 0",
                 "Compound: NS5_ligand_4<br>Filter: rule_of_ghose<br>Pass: 0",
                 "Compound: NS5_ligand_16<br>Filter: rule_of_ghose<br>Pass: 0",
                 "Compound: NS5_ligand_9<br>Filter: rule_of_ghose<br>Pass: 0",
                 "Compound: NS5_ligand_7<br>Filter: rule_of_ghose<br>Pass: 0",
                 "Compound: NS5_ligand_1<br>Filter: rule_of_ghose<br>Pass: 0"
                ],
                [
                 "Compound: NS5_ligand_10<br>Filter: rule_of_veber<br>Pass: 1",
                 "Compound: NS5_ligand_14<br>Filter: rule_of_veber<br>Pass: 1",
                 "Compound: NS5_ligand_15<br>Filter: rule_of_veber<br>Pass: 1",
                 "Compound: NS5_ligand_3<br>Filter: rule_of_veber<br>Pass: 0",
                 "Compound: NS5_ligand_6<br>Filter: rule_of_veber<br>Pass: 0",
                 "Compound: NS5_ligand_17<br>Filter: rule_of_veber<br>Pass: 1",
                 "Compound: NS5_ligand_0<br>Filter: rule_of_veber<br>Pass: 1",
                 "Compound: NS5_ligand_2<br>Filter: rule_of_veber<br>Pass: 1",
                 "Compound: NS5_ligand_4<br>Filter: rule_of_veber<br>Pass: 1",
                 "Compound: NS5_ligand_16<br>Filter: rule_of_veber<br>Pass: 1",
                 "Compound: NS5_ligand_9<br>Filter: rule_of_veber<br>Pass: 1",
                 "Compound: NS5_ligand_7<br>Filter: rule_of_veber<br>Pass: 1",
                 "Compound: NS5_ligand_1<br>Filter: rule_of_veber<br>Pass: 1"
                ],
                [
                 "Compound: NS5_ligand_10<br>Filter: rule_of_reos<br>Pass: 0",
                 "Compound: NS5_ligand_14<br>Filter: rule_of_reos<br>Pass: 0",
                 "Compound: NS5_ligand_15<br>Filter: rule_of_reos<br>Pass: 1",
                 "Compound: NS5_ligand_3<br>Filter: rule_of_reos<br>Pass: 0",
                 "Compound: NS5_ligand_6<br>Filter: rule_of_reos<br>Pass: 0",
                 "Compound: NS5_ligand_17<br>Filter: rule_of_reos<br>Pass: 0",
                 "Compound: NS5_ligand_0<br>Filter: rule_of_reos<br>Pass: 0",
                 "Compound: NS5_ligand_2<br>Filter: rule_of_reos<br>Pass: 0",
                 "Compound: NS5_ligand_4<br>Filter: rule_of_reos<br>Pass: 0",
                 "Compound: NS5_ligand_16<br>Filter: rule_of_reos<br>Pass: 0",
                 "Compound: NS5_ligand_9<br>Filter: rule_of_reos<br>Pass: 0",
                 "Compound: NS5_ligand_7<br>Filter: rule_of_reos<br>Pass: 0",
                 "Compound: NS5_ligand_1<br>Filter: rule_of_reos<br>Pass: 0"
                ],
                [
                 "Compound: NS5_ligand_10<br>Filter: rule_of_chemaxon_druglikeness<br>Pass: 1",
                 "Compound: NS5_ligand_14<br>Filter: rule_of_chemaxon_druglikeness<br>Pass: 1",
                 "Compound: NS5_ligand_15<br>Filter: rule_of_chemaxon_druglikeness<br>Pass: 0",
                 "Compound: NS5_ligand_3<br>Filter: rule_of_chemaxon_druglikeness<br>Pass: 0",
                 "Compound: NS5_ligand_6<br>Filter: rule_of_chemaxon_druglikeness<br>Pass: 0",
                 "Compound: NS5_ligand_17<br>Filter: rule_of_chemaxon_druglikeness<br>Pass: 1",
                 "Compound: NS5_ligand_0<br>Filter: rule_of_chemaxon_druglikeness<br>Pass: 1",
                 "Compound: NS5_ligand_2<br>Filter: rule_of_chemaxon_druglikeness<br>Pass: 1",
                 "Compound: NS5_ligand_4<br>Filter: rule_of_chemaxon_druglikeness<br>Pass: 1",
                 "Compound: NS5_ligand_16<br>Filter: rule_of_chemaxon_druglikeness<br>Pass: 1",
                 "Compound: NS5_ligand_9<br>Filter: rule_of_chemaxon_druglikeness<br>Pass: 0",
                 "Compound: NS5_ligand_7<br>Filter: rule_of_chemaxon_druglikeness<br>Pass: 1",
                 "Compound: NS5_ligand_1<br>Filter: rule_of_chemaxon_druglikeness<br>Pass: 0"
                ],
                [
                 "Compound: NS5_ligand_10<br>Filter: rule_of_egan<br>Pass: 1",
                 "Compound: NS5_ligand_14<br>Filter: rule_of_egan<br>Pass: 0",
                 "Compound: NS5_ligand_15<br>Filter: rule_of_egan<br>Pass: 1",
                 "Compound: NS5_ligand_3<br>Filter: rule_of_egan<br>Pass: 0",
                 "Compound: NS5_ligand_6<br>Filter: rule_of_egan<br>Pass: 0",
                 "Compound: NS5_ligand_17<br>Filter: rule_of_egan<br>Pass: 1",
                 "Compound: NS5_ligand_0<br>Filter: rule_of_egan<br>Pass: 1",
                 "Compound: NS5_ligand_2<br>Filter: rule_of_egan<br>Pass: 1",
                 "Compound: NS5_ligand_4<br>Filter: rule_of_egan<br>Pass: 1",
                 "Compound: NS5_ligand_16<br>Filter: rule_of_egan<br>Pass: 1",
                 "Compound: NS5_ligand_9<br>Filter: rule_of_egan<br>Pass: 0",
                 "Compound: NS5_ligand_7<br>Filter: rule_of_egan<br>Pass: 1",
                 "Compound: NS5_ligand_1<br>Filter: rule_of_egan<br>Pass: 1"
                ],
                [
                 "Compound: NS5_ligand_10<br>Filter: rule_of_pfizer_3_75<br>Pass: 1",
                 "Compound: NS5_ligand_14<br>Filter: rule_of_pfizer_3_75<br>Pass: 1",
                 "Compound: NS5_ligand_15<br>Filter: rule_of_pfizer_3_75<br>Pass: 1",
                 "Compound: NS5_ligand_3<br>Filter: rule_of_pfizer_3_75<br>Pass: 1",
                 "Compound: NS5_ligand_6<br>Filter: rule_of_pfizer_3_75<br>Pass: 1",
                 "Compound: NS5_ligand_17<br>Filter: rule_of_pfizer_3_75<br>Pass: 1",
                 "Compound: NS5_ligand_0<br>Filter: rule_of_pfizer_3_75<br>Pass: 1",
                 "Compound: NS5_ligand_2<br>Filter: rule_of_pfizer_3_75<br>Pass: 1",
                 "Compound: NS5_ligand_4<br>Filter: rule_of_pfizer_3_75<br>Pass: 1",
                 "Compound: NS5_ligand_16<br>Filter: rule_of_pfizer_3_75<br>Pass: 1",
                 "Compound: NS5_ligand_9<br>Filter: rule_of_pfizer_3_75<br>Pass: 1",
                 "Compound: NS5_ligand_7<br>Filter: rule_of_pfizer_3_75<br>Pass: 0",
                 "Compound: NS5_ligand_1<br>Filter: rule_of_pfizer_3_75<br>Pass: 1"
                ],
                [
                 "Compound: NS5_ligand_10<br>Filter: rule_of_gsk_4_400<br>Pass: 1",
                 "Compound: NS5_ligand_14<br>Filter: rule_of_gsk_4_400<br>Pass: 1",
                 "Compound: NS5_ligand_15<br>Filter: rule_of_gsk_4_400<br>Pass: 0",
                 "Compound: NS5_ligand_3<br>Filter: rule_of_gsk_4_400<br>Pass: 1",
                 "Compound: NS5_ligand_6<br>Filter: rule_of_gsk_4_400<br>Pass: 1",
                 "Compound: NS5_ligand_17<br>Filter: rule_of_gsk_4_400<br>Pass: 1",
                 "Compound: NS5_ligand_0<br>Filter: rule_of_gsk_4_400<br>Pass: 1",
                 "Compound: NS5_ligand_2<br>Filter: rule_of_gsk_4_400<br>Pass: 1",
                 "Compound: NS5_ligand_4<br>Filter: rule_of_gsk_4_400<br>Pass: 1",
                 "Compound: NS5_ligand_16<br>Filter: rule_of_gsk_4_400<br>Pass: 1",
                 "Compound: NS5_ligand_9<br>Filter: rule_of_gsk_4_400<br>Pass: 1",
                 "Compound: NS5_ligand_7<br>Filter: rule_of_gsk_4_400<br>Pass: 1",
                 "Compound: NS5_ligand_1<br>Filter: rule_of_gsk_4_400<br>Pass: 1"
                ],
                [
                 "Compound: NS5_ligand_10<br>Filter: rule_of_oprea<br>Pass: 1",
                 "Compound: NS5_ligand_14<br>Filter: rule_of_oprea<br>Pass: 1",
                 "Compound: NS5_ligand_15<br>Filter: rule_of_oprea<br>Pass: 0",
                 "Compound: NS5_ligand_3<br>Filter: rule_of_oprea<br>Pass: 0",
                 "Compound: NS5_ligand_6<br>Filter: rule_of_oprea<br>Pass: 0",
                 "Compound: NS5_ligand_17<br>Filter: rule_of_oprea<br>Pass: 0",
                 "Compound: NS5_ligand_0<br>Filter: rule_of_oprea<br>Pass: 0",
                 "Compound: NS5_ligand_2<br>Filter: rule_of_oprea<br>Pass: 0",
                 "Compound: NS5_ligand_4<br>Filter: rule_of_oprea<br>Pass: 0",
                 "Compound: NS5_ligand_16<br>Filter: rule_of_oprea<br>Pass: 0",
                 "Compound: NS5_ligand_9<br>Filter: rule_of_oprea<br>Pass: 0",
                 "Compound: NS5_ligand_7<br>Filter: rule_of_oprea<br>Pass: 0",
                 "Compound: NS5_ligand_1<br>Filter: rule_of_oprea<br>Pass: 0"
                ],
                [
                 "Compound: NS5_ligand_10<br>Filter: rule_of_xu<br>Pass: 1",
                 "Compound: NS5_ligand_14<br>Filter: rule_of_xu<br>Pass: 1",
                 "Compound: NS5_ligand_15<br>Filter: rule_of_xu<br>Pass: 1",
                 "Compound: NS5_ligand_3<br>Filter: rule_of_xu<br>Pass: 1",
                 "Compound: NS5_ligand_6<br>Filter: rule_of_xu<br>Pass: 0",
                 "Compound: NS5_ligand_17<br>Filter: rule_of_xu<br>Pass: 0",
                 "Compound: NS5_ligand_0<br>Filter: rule_of_xu<br>Pass: 0",
                 "Compound: NS5_ligand_2<br>Filter: rule_of_xu<br>Pass: 0",
                 "Compound: NS5_ligand_4<br>Filter: rule_of_xu<br>Pass: 0",
                 "Compound: NS5_ligand_16<br>Filter: rule_of_xu<br>Pass: 0",
                 "Compound: NS5_ligand_9<br>Filter: rule_of_xu<br>Pass: 0",
                 "Compound: NS5_ligand_7<br>Filter: rule_of_xu<br>Pass: 1",
                 "Compound: NS5_ligand_1<br>Filter: rule_of_xu<br>Pass: 0"
                ],
                [
                 "Compound: NS5_ligand_10<br>Filter: rule_of_zinc<br>Pass: 1",
                 "Compound: NS5_ligand_14<br>Filter: rule_of_zinc<br>Pass: 1",
                 "Compound: NS5_ligand_15<br>Filter: rule_of_zinc<br>Pass: 1",
                 "Compound: NS5_ligand_3<br>Filter: rule_of_zinc<br>Pass: 1",
                 "Compound: NS5_ligand_6<br>Filter: rule_of_zinc<br>Pass: 1",
                 "Compound: NS5_ligand_17<br>Filter: rule_of_zinc<br>Pass: 1",
                 "Compound: NS5_ligand_0<br>Filter: rule_of_zinc<br>Pass: 1",
                 "Compound: NS5_ligand_2<br>Filter: rule_of_zinc<br>Pass: 1",
                 "Compound: NS5_ligand_4<br>Filter: rule_of_zinc<br>Pass: 1",
                 "Compound: NS5_ligand_16<br>Filter: rule_of_zinc<br>Pass: 1",
                 "Compound: NS5_ligand_9<br>Filter: rule_of_zinc<br>Pass: 1",
                 "Compound: NS5_ligand_7<br>Filter: rule_of_zinc<br>Pass: 1",
                 "Compound: NS5_ligand_1<br>Filter: rule_of_zinc<br>Pass: 1"
                ],
                [
                 "Compound: NS5_ligand_10<br>Filter: rule_of_leadlike_soft<br>Pass: 1",
                 "Compound: NS5_ligand_14<br>Filter: rule_of_leadlike_soft<br>Pass: 1",
                 "Compound: NS5_ligand_15<br>Filter: rule_of_leadlike_soft<br>Pass: 0",
                 "Compound: NS5_ligand_3<br>Filter: rule_of_leadlike_soft<br>Pass: 0",
                 "Compound: NS5_ligand_6<br>Filter: rule_of_leadlike_soft<br>Pass: 0",
                 "Compound: NS5_ligand_17<br>Filter: rule_of_leadlike_soft<br>Pass: 1",
                 "Compound: NS5_ligand_0<br>Filter: rule_of_leadlike_soft<br>Pass: 0",
                 "Compound: NS5_ligand_2<br>Filter: rule_of_leadlike_soft<br>Pass: 0",
                 "Compound: NS5_ligand_4<br>Filter: rule_of_leadlike_soft<br>Pass: 0",
                 "Compound: NS5_ligand_16<br>Filter: rule_of_leadlike_soft<br>Pass: 0",
                 "Compound: NS5_ligand_9<br>Filter: rule_of_leadlike_soft<br>Pass: 0",
                 "Compound: NS5_ligand_7<br>Filter: rule_of_leadlike_soft<br>Pass: 0",
                 "Compound: NS5_ligand_1<br>Filter: rule_of_leadlike_soft<br>Pass: 0"
                ],
                [
                 "Compound: NS5_ligand_10<br>Filter: rule_of_druglike_soft<br>Pass: 0",
                 "Compound: NS5_ligand_14<br>Filter: rule_of_druglike_soft<br>Pass: 0",
                 "Compound: NS5_ligand_15<br>Filter: rule_of_druglike_soft<br>Pass: 0",
                 "Compound: NS5_ligand_3<br>Filter: rule_of_druglike_soft<br>Pass: 0",
                 "Compound: NS5_ligand_6<br>Filter: rule_of_druglike_soft<br>Pass: 0",
                 "Compound: NS5_ligand_17<br>Filter: rule_of_druglike_soft<br>Pass: 0",
                 "Compound: NS5_ligand_0<br>Filter: rule_of_druglike_soft<br>Pass: 0",
                 "Compound: NS5_ligand_2<br>Filter: rule_of_druglike_soft<br>Pass: 0",
                 "Compound: NS5_ligand_4<br>Filter: rule_of_druglike_soft<br>Pass: 0",
                 "Compound: NS5_ligand_16<br>Filter: rule_of_druglike_soft<br>Pass: 0",
                 "Compound: NS5_ligand_9<br>Filter: rule_of_druglike_soft<br>Pass: 0",
                 "Compound: NS5_ligand_7<br>Filter: rule_of_druglike_soft<br>Pass: 0",
                 "Compound: NS5_ligand_1<br>Filter: rule_of_druglike_soft<br>Pass: 0"
                ],
                [
                 "Compound: NS5_ligand_10<br>Filter: alerts_BMS<br>Pass: 1",
                 "Compound: NS5_ligand_14<br>Filter: alerts_BMS<br>Pass: 1",
                 "Compound: NS5_ligand_15<br>Filter: alerts_BMS<br>Pass: 1",
                 "Compound: NS5_ligand_3<br>Filter: alerts_BMS<br>Pass: 0",
                 "Compound: NS5_ligand_6<br>Filter: alerts_BMS<br>Pass: 0",
                 "Compound: NS5_ligand_17<br>Filter: alerts_BMS<br>Pass: 1",
                 "Compound: NS5_ligand_0<br>Filter: alerts_BMS<br>Pass: 1",
                 "Compound: NS5_ligand_2<br>Filter: alerts_BMS<br>Pass: 1",
                 "Compound: NS5_ligand_4<br>Filter: alerts_BMS<br>Pass: 1",
                 "Compound: NS5_ligand_16<br>Filter: alerts_BMS<br>Pass: 1",
                 "Compound: NS5_ligand_9<br>Filter: alerts_BMS<br>Pass: 1",
                 "Compound: NS5_ligand_7<br>Filter: alerts_BMS<br>Pass: 1",
                 "Compound: NS5_ligand_1<br>Filter: alerts_BMS<br>Pass: 0"
                ],
                [
                 "Compound: NS5_ligand_10<br>Filter: alerts_PAINS<br>Pass: 1",
                 "Compound: NS5_ligand_14<br>Filter: alerts_PAINS<br>Pass: 1",
                 "Compound: NS5_ligand_15<br>Filter: alerts_PAINS<br>Pass: 1",
                 "Compound: NS5_ligand_3<br>Filter: alerts_PAINS<br>Pass: 1",
                 "Compound: NS5_ligand_6<br>Filter: alerts_PAINS<br>Pass: 1",
                 "Compound: NS5_ligand_17<br>Filter: alerts_PAINS<br>Pass: 1",
                 "Compound: NS5_ligand_0<br>Filter: alerts_PAINS<br>Pass: 1",
                 "Compound: NS5_ligand_2<br>Filter: alerts_PAINS<br>Pass: 1",
                 "Compound: NS5_ligand_4<br>Filter: alerts_PAINS<br>Pass: 1",
                 "Compound: NS5_ligand_16<br>Filter: alerts_PAINS<br>Pass: 1",
                 "Compound: NS5_ligand_9<br>Filter: alerts_PAINS<br>Pass: 1",
                 "Compound: NS5_ligand_7<br>Filter: alerts_PAINS<br>Pass: 1",
                 "Compound: NS5_ligand_1<br>Filter: alerts_PAINS<br>Pass: 1"
                ],
                [
                 "Compound: NS5_ligand_10<br>Filter: alerts_SureChEMBL<br>Pass: 1",
                 "Compound: NS5_ligand_14<br>Filter: alerts_SureChEMBL<br>Pass: 1",
                 "Compound: NS5_ligand_15<br>Filter: alerts_SureChEMBL<br>Pass: 1",
                 "Compound: NS5_ligand_3<br>Filter: alerts_SureChEMBL<br>Pass: 0",
                 "Compound: NS5_ligand_6<br>Filter: alerts_SureChEMBL<br>Pass: 0",
                 "Compound: NS5_ligand_17<br>Filter: alerts_SureChEMBL<br>Pass: 1",
                 "Compound: NS5_ligand_0<br>Filter: alerts_SureChEMBL<br>Pass: 1",
                 "Compound: NS5_ligand_2<br>Filter: alerts_SureChEMBL<br>Pass: 1",
                 "Compound: NS5_ligand_4<br>Filter: alerts_SureChEMBL<br>Pass: 1",
                 "Compound: NS5_ligand_16<br>Filter: alerts_SureChEMBL<br>Pass: 1",
                 "Compound: NS5_ligand_9<br>Filter: alerts_SureChEMBL<br>Pass: 1",
                 "Compound: NS5_ligand_7<br>Filter: alerts_SureChEMBL<br>Pass: 0",
                 "Compound: NS5_ligand_1<br>Filter: alerts_SureChEMBL<br>Pass: 0"
                ],
                [
                 "Compound: NS5_ligand_10<br>Filter: filters_NIBR<br>Pass: 1",
                 "Compound: NS5_ligand_14<br>Filter: filters_NIBR<br>Pass: 1",
                 "Compound: NS5_ligand_15<br>Filter: filters_NIBR<br>Pass: 0",
                 "Compound: NS5_ligand_3<br>Filter: filters_NIBR<br>Pass: 0",
                 "Compound: NS5_ligand_6<br>Filter: filters_NIBR<br>Pass: 0",
                 "Compound: NS5_ligand_17<br>Filter: filters_NIBR<br>Pass: 1",
                 "Compound: NS5_ligand_0<br>Filter: filters_NIBR<br>Pass: 1",
                 "Compound: NS5_ligand_2<br>Filter: filters_NIBR<br>Pass: 1",
                 "Compound: NS5_ligand_4<br>Filter: filters_NIBR<br>Pass: 1",
                 "Compound: NS5_ligand_16<br>Filter: filters_NIBR<br>Pass: 1",
                 "Compound: NS5_ligand_9<br>Filter: filters_NIBR<br>Pass: 1",
                 "Compound: NS5_ligand_7<br>Filter: filters_NIBR<br>Pass: 1",
                 "Compound: NS5_ligand_1<br>Filter: filters_NIBR<br>Pass: 1"
                ],
                [
                 "Compound: NS5_ligand_10<br>Filter: filter_complexity<br>Pass: 1",
                 "Compound: NS5_ligand_14<br>Filter: filter_complexity<br>Pass: 1",
                 "Compound: NS5_ligand_15<br>Filter: filter_complexity<br>Pass: 1",
                 "Compound: NS5_ligand_3<br>Filter: filter_complexity<br>Pass: 1",
                 "Compound: NS5_ligand_6<br>Filter: filter_complexity<br>Pass: 1",
                 "Compound: NS5_ligand_17<br>Filter: filter_complexity<br>Pass: 1",
                 "Compound: NS5_ligand_0<br>Filter: filter_complexity<br>Pass: 1",
                 "Compound: NS5_ligand_2<br>Filter: filter_complexity<br>Pass: 1",
                 "Compound: NS5_ligand_4<br>Filter: filter_complexity<br>Pass: 1",
                 "Compound: NS5_ligand_16<br>Filter: filter_complexity<br>Pass: 1",
                 "Compound: NS5_ligand_9<br>Filter: filter_complexity<br>Pass: 1",
                 "Compound: NS5_ligand_7<br>Filter: filter_complexity<br>Pass: 1",
                 "Compound: NS5_ligand_1<br>Filter: filter_complexity<br>Pass: 1"
                ],
                [
                 "Compound: NS5_ligand_10<br>Filter: filter_bredt<br>Pass: 1",
                 "Compound: NS5_ligand_14<br>Filter: filter_bredt<br>Pass: 1",
                 "Compound: NS5_ligand_15<br>Filter: filter_bredt<br>Pass: 1",
                 "Compound: NS5_ligand_3<br>Filter: filter_bredt<br>Pass: 1",
                 "Compound: NS5_ligand_6<br>Filter: filter_bredt<br>Pass: 1",
                 "Compound: NS5_ligand_17<br>Filter: filter_bredt<br>Pass: 1",
                 "Compound: NS5_ligand_0<br>Filter: filter_bredt<br>Pass: 1",
                 "Compound: NS5_ligand_2<br>Filter: filter_bredt<br>Pass: 1",
                 "Compound: NS5_ligand_4<br>Filter: filter_bredt<br>Pass: 1",
                 "Compound: NS5_ligand_16<br>Filter: filter_bredt<br>Pass: 1",
                 "Compound: NS5_ligand_9<br>Filter: filter_bredt<br>Pass: 1",
                 "Compound: NS5_ligand_7<br>Filter: filter_bredt<br>Pass: 1",
                 "Compound: NS5_ligand_1<br>Filter: filter_bredt<br>Pass: 1"
                ],
                [
                 "Compound: NS5_ligand_10<br>Filter: filter_molecular_graph<br>Pass: 1",
                 "Compound: NS5_ligand_14<br>Filter: filter_molecular_graph<br>Pass: 1",
                 "Compound: NS5_ligand_15<br>Filter: filter_molecular_graph<br>Pass: 1",
                 "Compound: NS5_ligand_3<br>Filter: filter_molecular_graph<br>Pass: 0",
                 "Compound: NS5_ligand_6<br>Filter: filter_molecular_graph<br>Pass: 1",
                 "Compound: NS5_ligand_17<br>Filter: filter_molecular_graph<br>Pass: 1",
                 "Compound: NS5_ligand_0<br>Filter: filter_molecular_graph<br>Pass: 1",
                 "Compound: NS5_ligand_2<br>Filter: filter_molecular_graph<br>Pass: 1",
                 "Compound: NS5_ligand_4<br>Filter: filter_molecular_graph<br>Pass: 1",
                 "Compound: NS5_ligand_16<br>Filter: filter_molecular_graph<br>Pass: 1",
                 "Compound: NS5_ligand_9<br>Filter: filter_molecular_graph<br>Pass: 1",
                 "Compound: NS5_ligand_7<br>Filter: filter_molecular_graph<br>Pass: 0",
                 "Compound: NS5_ligand_1<br>Filter: filter_molecular_graph<br>Pass: 1"
                ],
                [
                 "Compound: NS5_ligand_10<br>Filter: filter_lilly_demerit<br>Pass: 1",
                 "Compound: NS5_ligand_14<br>Filter: filter_lilly_demerit<br>Pass: 0",
                 "Compound: NS5_ligand_15<br>Filter: filter_lilly_demerit<br>Pass: 0",
                 "Compound: NS5_ligand_3<br>Filter: filter_lilly_demerit<br>Pass: 0",
                 "Compound: NS5_ligand_6<br>Filter: filter_lilly_demerit<br>Pass: 0",
                 "Compound: NS5_ligand_17<br>Filter: filter_lilly_demerit<br>Pass: 1",
                 "Compound: NS5_ligand_0<br>Filter: filter_lilly_demerit<br>Pass: 1",
                 "Compound: NS5_ligand_2<br>Filter: filter_lilly_demerit<br>Pass: 1",
                 "Compound: NS5_ligand_4<br>Filter: filter_lilly_demerit<br>Pass: 1",
                 "Compound: NS5_ligand_16<br>Filter: filter_lilly_demerit<br>Pass: 1",
                 "Compound: NS5_ligand_9<br>Filter: filter_lilly_demerit<br>Pass: 1",
                 "Compound: NS5_ligand_7<br>Filter: filter_lilly_demerit<br>Pass: 0",
                 "Compound: NS5_ligand_1<br>Filter: filter_lilly_demerit<br>Pass: 0"
                ]
               ]
              ],
              "x": [
               [
                "10",
                "14",
                "15",
                "3",
                "6",
                "17",
                "0",
                "2",
                "4",
                "16",
                "9",
                "7",
                "1"
               ]
              ],
              "y": [
               [
                "rule_of_generative_design (38%)",
                "rule_of_generative_design_strict (15%)",
                "rule_of_five (92%)",
                "rule_of_ghose (15%)",
                "rule_of_veber (85%)",
                "rule_of_reos (8%)",
                "rule_of_chemaxon_druglikeness (62%)",
                "rule_of_egan (69%)",
                "rule_of_pfizer_3_75 (92%)",
                "rule_of_gsk_4_400 (92%)",
                "rule_of_oprea (15%)",
                "rule_of_xu (38%)",
                "rule_of_zinc (100%)",
                "rule_of_leadlike_soft (23%)",
                "rule_of_druglike_soft (0%)",
                "alerts_BMS (77%)",
                "alerts_PAINS (100%)",
                "alerts_SureChEMBL (69%)",
                "filters_NIBR (77%)",
                "filter_complexity (100%)",
                "filter_bredt (100%)",
                "filter_molecular_graph (85%)",
                "filter_lilly_demerit (54%)"
               ]
              ],
              "z": [
               [
                [
                 1,
                 1,
                 1,
                 1,
                 1,
                 0,
                 0,
                 0,
                 0,
                 0,
                 0,
                 0,
                 0
                ],
                [
                 1,
                 1,
                 0,
                 0,
                 0,
                 0,
                 0,
                 0,
                 0,
                 0,
                 0,
                 0,
                 0
                ],
                [
                 1,
                 1,
                 1,
                 1,
                 0,
                 1,
                 1,
                 1,
                 1,
                 1,
                 1,
                 1,
                 1
                ],
                [
                 0,
                 0,
                 1,
                 1,
                 0,
                 0,
                 0,
                 0,
                 0,
                 0,
                 0,
                 0,
                 0
                ],
                [
                 1,
                 1,
                 1,
                 0,
                 0,
                 1,
                 1,
                 1,
                 1,
                 1,
                 1,
                 1,
                 1
                ],
                [
                 0,
                 0,
                 1,
                 0,
                 0,
                 0,
                 0,
                 0,
                 0,
                 0,
                 0,
                 0,
                 0
                ],
                [
                 1,
                 1,
                 0,
                 0,
                 0,
                 1,
                 1,
                 1,
                 1,
                 1,
                 0,
                 1,
                 0
                ],
                [
                 1,
                 0,
                 1,
                 0,
                 0,
                 1,
                 1,
                 1,
                 1,
                 1,
                 0,
                 1,
                 1
                ],
                [
                 1,
                 1,
                 1,
                 1,
                 1,
                 1,
                 1,
                 1,
                 1,
                 1,
                 1,
                 0,
                 1
                ],
                [
                 1,
                 1,
                 0,
                 1,
                 1,
                 1,
                 1,
                 1,
                 1,
                 1,
                 1,
                 1,
                 1
                ],
                [
                 1,
                 1,
                 0,
                 0,
                 0,
                 0,
                 0,
                 0,
                 0,
                 0,
                 0,
                 0,
                 0
                ],
                [
                 1,
                 1,
                 1,
                 1,
                 0,
                 0,
                 0,
                 0,
                 0,
                 0,
                 0,
                 1,
                 0
                ],
                [
                 1,
                 1,
                 1,
                 1,
                 1,
                 1,
                 1,
                 1,
                 1,
                 1,
                 1,
                 1,
                 1
                ],
                [
                 1,
                 1,
                 0,
                 0,
                 0,
                 1,
                 0,
                 0,
                 0,
                 0,
                 0,
                 0,
                 0
                ],
                [
                 0,
                 0,
                 0,
                 0,
                 0,
                 0,
                 0,
                 0,
                 0,
                 0,
                 0,
                 0,
                 0
                ],
                [
                 1,
                 1,
                 1,
                 0,
                 0,
                 1,
                 1,
                 1,
                 1,
                 1,
                 1,
                 1,
                 0
                ],
                [
                 1,
                 1,
                 1,
                 1,
                 1,
                 1,
                 1,
                 1,
                 1,
                 1,
                 1,
                 1,
                 1
                ],
                [
                 1,
                 1,
                 1,
                 0,
                 0,
                 1,
                 1,
                 1,
                 1,
                 1,
                 1,
                 0,
                 0
                ],
                [
                 1,
                 1,
                 0,
                 0,
                 0,
                 1,
                 1,
                 1,
                 1,
                 1,
                 1,
                 1,
                 1
                ],
                [
                 1,
                 1,
                 1,
                 1,
                 1,
                 1,
                 1,
                 1,
                 1,
                 1,
                 1,
                 1,
                 1
                ],
                [
                 1,
                 1,
                 1,
                 1,
                 1,
                 1,
                 1,
                 1,
                 1,
                 1,
                 1,
                 1,
                 1
                ],
                [
                 1,
                 1,
                 1,
                 0,
                 1,
                 1,
                 1,
                 1,
                 1,
                 1,
                 1,
                 0,
                 1
                ],
                [
                 1,
                 0,
                 0,
                 0,
                 0,
                 1,
                 1,
                 1,
                 1,
                 1,
                 1,
                 0,
                 0
                ]
               ]
              ]
             }
            ],
            "label": "Generative Focus (Full)",
            "method": "restyle"
           },
           {
            "args": [
             {
              "text": [
               [
                [
                 "Compound: NS5_ligand_10<br>Filter: rule_of_generative_design<br>Pass: 1",
                 "Compound: NS5_ligand_14<br>Filter: rule_of_generative_design<br>Pass: 1",
                 "Compound: NS5_ligand_15<br>Filter: rule_of_generative_design<br>Pass: 1",
                 "Compound: NS5_ligand_3<br>Filter: rule_of_generative_design<br>Pass: 1",
                 "Compound: NS5_ligand_6<br>Filter: rule_of_generative_design<br>Pass: 1",
                 "Compound: NS5_ligand_17<br>Filter: rule_of_generative_design<br>Pass: 0",
                 "Compound: NS5_ligand_0<br>Filter: rule_of_generative_design<br>Pass: 0",
                 "Compound: NS5_ligand_2<br>Filter: rule_of_generative_design<br>Pass: 0",
                 "Compound: NS5_ligand_4<br>Filter: rule_of_generative_design<br>Pass: 0",
                 "Compound: NS5_ligand_16<br>Filter: rule_of_generative_design<br>Pass: 0",
                 "Compound: NS5_ligand_9<br>Filter: rule_of_generative_design<br>Pass: 0",
                 "Compound: NS5_ligand_7<br>Filter: rule_of_generative_design<br>Pass: 0",
                 "Compound: NS5_ligand_1<br>Filter: rule_of_generative_design<br>Pass: 0"
                ],
                [
                 "Compound: NS5_ligand_10<br>Filter: rule_of_generative_design_strict<br>Pass: 1",
                 "Compound: NS5_ligand_14<br>Filter: rule_of_generative_design_strict<br>Pass: 1",
                 "Compound: NS5_ligand_15<br>Filter: rule_of_generative_design_strict<br>Pass: 0",
                 "Compound: NS5_ligand_3<br>Filter: rule_of_generative_design_strict<br>Pass: 0",
                 "Compound: NS5_ligand_6<br>Filter: rule_of_generative_design_strict<br>Pass: 0",
                 "Compound: NS5_ligand_17<br>Filter: rule_of_generative_design_strict<br>Pass: 0",
                 "Compound: NS5_ligand_0<br>Filter: rule_of_generative_design_strict<br>Pass: 0",
                 "Compound: NS5_ligand_2<br>Filter: rule_of_generative_design_strict<br>Pass: 0",
                 "Compound: NS5_ligand_4<br>Filter: rule_of_generative_design_strict<br>Pass: 0",
                 "Compound: NS5_ligand_16<br>Filter: rule_of_generative_design_strict<br>Pass: 0",
                 "Compound: NS5_ligand_9<br>Filter: rule_of_generative_design_strict<br>Pass: 0",
                 "Compound: NS5_ligand_7<br>Filter: rule_of_generative_design_strict<br>Pass: 0",
                 "Compound: NS5_ligand_1<br>Filter: rule_of_generative_design_strict<br>Pass: 0"
                ]
               ]
              ],
              "x": [
               [
                "10",
                "14",
                "15",
                "3",
                "6",
                "17",
                "0",
                "2",
                "4",
                "16",
                "9",
                "7",
                "1"
               ]
              ],
              "y": [
               [
                "rule_of_generative_design (38%)",
                "rule_of_generative_design_strict (15%)"
               ]
              ],
              "z": [
               [
                [
                 1,
                 1,
                 1,
                 1,
                 1,
                 0,
                 0,
                 0,
                 0,
                 0,
                 0,
                 0,
                 0
                ],
                [
                 1,
                 1,
                 0,
                 0,
                 0,
                 0,
                 0,
                 0,
                 0,
                 0,
                 0,
                 0,
                 0
                ]
               ]
              ]
             }
            ],
            "label": "Generative Only (2 rows)",
            "method": "restyle"
           }
          ],
          "direction": "down",
          "showactive": true,
          "type": "dropdown",
          "x": 1.02,
          "y": 1.1
         }
        ],
        "width": 1400,
        "xaxis": {
         "automargin": true,
         "showgrid": false,
         "tickangle": 45,
         "title": {
          "text": "Compound (File:Index)"
         }
        },
        "yaxis": {
         "automargin": true,
         "title": {
          "text": "MedChem Filters"
         }
        }
       }
      }
     },
     "metadata": {},
     "output_type": "display_data"
    }
   ],
   "source": [
    "import os\n",
    "import re\n",
    "import pandas as pd\n",
    "import numpy as np\n",
    "from rdkit import Chem\n",
    "import datamol as dm\n",
    "import medchem as mc\n",
    "import plotly.graph_objects as go\n",
    "import plotly.io as pio\n",
    "import warnings\n",
    "\n",
    "# Suppress medchem FutureWarnings\n",
    "warnings.filterwarnings(\"ignore\", category=FutureWarning, module=\"medchem\")\n",
    "\n",
    "# ------------------------------------------------------------------------------\n",
    "# 1. Set the Plotly renderer (using \"vscode\" for VSCode)\n",
    "# ------------------------------------------------------------------------------\n",
    "pio.renderers.default = \"vscode\"  # or \"notebook_connected\", etc.\n",
    "\n",
    "# ------------------------------------------------------------------------------\n",
    "# Define a helper function to extract the numeric portion from a string.\n",
    "# It returns the last group of digits found in the string.\n",
    "# ------------------------------------------------------------------------------\n",
    "def extract_number_from_string(s):\n",
    "    numbers = re.findall(r'\\d+', s)\n",
    "    return int(numbers[-1]) if numbers else 0\n",
    "\n",
    "# ------------------------------------------------------------------------------\n",
    "# 2. Load valid ligands from the global PoseBuster SDF file.\n",
    "#    Use the global variable filtered_sdf_file if it exists.\n",
    "# ------------------------------------------------------------------------------\n",
    "try:\n",
    "    sdf_file = filtered_sdf_file  # this global variable is set in the extraction cell\n",
    "except NameError:\n",
    "    # Fallback in case the global variable doesn't exist\n",
    "    sdf_file = \"./Dengue_example/posebuster_pass.sdf\"\n",
    "\n",
    "supplier = Chem.SDMolSupplier(sdf_file)\n",
    "if supplier is None or len(supplier) == 0:\n",
    "    raise ValueError(\"No molecules were loaded from the SDF file. Check the file content.\")\n",
    "\n",
    "compounds = []\n",
    "for i, mol in enumerate(supplier):\n",
    "    if mol is None:\n",
    "        continue\n",
    "    # Retrieve the compound's ID from its _Name property if available.\n",
    "    compound_id = mol.GetProp(\"_Name\") if mol.HasProp(\"_Name\") else f\"compound_{i}\"\n",
    "    # Extract the numeric portion for ordering.\n",
    "    file_num = extract_number_from_string(compound_id)\n",
    "    smiles = Chem.MolToSmiles(mol)\n",
    "    compounds.append({\n",
    "        \"mol\": mol,\n",
    "        \"smiles\": smiles,\n",
    "        \"compound_id\": compound_id,\n",
    "        \"filename\": os.path.basename(sdf_file),\n",
    "        \"mol_index\": file_num  # Using the numeric suffix for ordering.\n",
    "    })\n",
    "\n",
    "if not compounds:\n",
    "    raise ValueError(\"No molecules were loaded from the SDF file. Check the file and its contents.\")\n",
    "\n",
    "df = pd.DataFrame(compounds)\n",
    "print(f\"Number of compounds extracted from SDF file: {len(df)}\")\n",
    "\n",
    "# Create a display label using the extracted numeric index.\n",
    "df[\"file_index\"] = df[\"mol_index\"].astype(str)\n",
    "\n",
    "# ------------------------------------------------------------------------------\n",
    "# 3. Apply medchem rule-based and functional filters.\n",
    "# Each function returns 0/1 or booleans.\n",
    "# ------------------------------------------------------------------------------\n",
    "df[\"rule_of_five\"]                = df[\"smiles\"].apply(mc.rules.basic_rules.rule_of_five)\n",
    "df[\"rule_of_ghose\"]               = df[\"smiles\"].apply(mc.rules.basic_rules.rule_of_ghose)\n",
    "df[\"rule_of_veber\"]               = df[\"smiles\"].apply(mc.rules.basic_rules.rule_of_veber)\n",
    "df[\"rule_of_reos\"]                = df[\"smiles\"].apply(mc.rules.basic_rules.rule_of_reos)\n",
    "df[\"rule_of_chemaxon_druglikeness\"] = df[\"smiles\"].apply(mc.rules.basic_rules.rule_of_chemaxon_druglikeness)\n",
    "df[\"rule_of_egan\"]                = df[\"smiles\"].apply(mc.rules.basic_rules.rule_of_egan)\n",
    "df[\"rule_of_pfizer_3_75\"]         = df[\"smiles\"].apply(mc.rules.basic_rules.rule_of_pfizer_3_75)\n",
    "df[\"rule_of_gsk_4_400\"]           = df[\"smiles\"].apply(mc.rules.basic_rules.rule_of_gsk_4_400)\n",
    "df[\"rule_of_oprea\"]               = df[\"smiles\"].apply(mc.rules.basic_rules.rule_of_oprea)\n",
    "df[\"rule_of_xu\"]                  = df[\"smiles\"].apply(mc.rules.basic_rules.rule_of_xu)\n",
    "df[\"rule_of_zinc\"]                = df[\"smiles\"].apply(mc.rules.basic_rules.rule_of_zinc)\n",
    "df[\"rule_of_leadlike_soft\"]       = df[\"smiles\"].apply(mc.rules.basic_rules.rule_of_leadlike_soft)\n",
    "df[\"rule_of_druglike_soft\"]       = df[\"smiles\"].apply(mc.rules.basic_rules.rule_of_druglike_soft)\n",
    "df[\"rule_of_generative_design\"]   = df[\"smiles\"].apply(mc.rules.basic_rules.rule_of_generative_design)\n",
    "df[\"rule_of_generative_design_strict\"] = df[\"smiles\"].apply(mc.rules.basic_rules.rule_of_generative_design_strict)\n",
    "\n",
    "df[\"alerts_BMS\"] = mc.functional.alert_filter(mols=df[\"mol\"].tolist(), alerts=[\"BMS\"], n_jobs=-1, progress=True, return_idx=False)\n",
    "df[\"alerts_PAINS\"] = mc.functional.alert_filter(mols=df[\"mol\"].tolist(), alerts=[\"PAINS\"], n_jobs=-1, progress=True, return_idx=False)\n",
    "df[\"alerts_SureChEMBL\"] = mc.functional.alert_filter(mols=df[\"mol\"].tolist(), alerts=[\"SureChEMBL\"], n_jobs=-1, progress=True, return_idx=False)\n",
    "df[\"filters_NIBR\"] = mc.functional.nibr_filter(mols=df[\"mol\"].tolist(), n_jobs=-1, progress=True, return_idx=False)\n",
    "df[\"filter_complexity\"] = mc.functional.complexity_filter(mols=df[\"mol\"].tolist(), complexity_metric=\"bertz\", threshold_stats_file=\"zinc_15_available\", n_jobs=-1, progress=True, return_idx=False)\n",
    "df[\"filter_bredt\"] = mc.functional.bredt_filter(mols=df[\"mol\"].tolist(), n_jobs=-1, progress=True, return_idx=False)\n",
    "df[\"filter_molecular_graph\"] = mc.functional.molecular_graph_filter(mols=df[\"mol\"].tolist(), max_severity=5, n_jobs=-1, progress=True, return_idx=False)\n",
    "df[\"filter_lilly_demerit\"] = mc.functional.lilly_demerit_filter(mols=df[\"mol\"].tolist(), n_jobs=-1, progress=True, return_idx=False)\n",
    "\n",
    "# ------------------------------------------------------------------------------\n",
    "# 3a. Coerce each filter column to numeric 0/1.\n",
    "# ------------------------------------------------------------------------------\n",
    "filter_columns = [\n",
    "    \"rule_of_five\",\n",
    "    \"rule_of_ghose\",\n",
    "    \"rule_of_veber\",\n",
    "    \"rule_of_reos\",\n",
    "    \"rule_of_chemaxon_druglikeness\",\n",
    "    \"rule_of_egan\",\n",
    "    \"rule_of_pfizer_3_75\",\n",
    "    \"rule_of_gsk_4_400\",\n",
    "    \"rule_of_oprea\",\n",
    "    \"rule_of_xu\",\n",
    "    \"rule_of_zinc\",\n",
    "    \"rule_of_leadlike_soft\",\n",
    "    \"rule_of_druglike_soft\",\n",
    "    \"rule_of_generative_design\",\n",
    "    \"rule_of_generative_design_strict\",\n",
    "    \"alerts_BMS\",\n",
    "    \"alerts_PAINS\",\n",
    "    \"alerts_SureChEMBL\",\n",
    "    \"filters_NIBR\",\n",
    "    \"filter_complexity\",\n",
    "    \"filter_bredt\",\n",
    "    \"filter_molecular_graph\",\n",
    "    \"filter_lilly_demerit\",\n",
    "]\n",
    "for col in filter_columns:\n",
    "    df[col] = df[col].apply(lambda x: 1 if x else 0)\n",
    "\n",
    "df[\"n_filters_pass\"] = df[filter_columns].sum(axis=1)\n",
    "df[\"gen_design_score\"] = df[\"rule_of_generative_design\"] + df[\"rule_of_generative_design_strict\"]\n",
    "\n",
    "# ------------------------------------------------------------------------------\n",
    "# 4b. Prepare sorted DataFrame views:\n",
    "#      (a) SDF Order view: sort by mol_index.\n",
    "#      (b) Most Filters Passed view: sort by n_filters_pass (descending).\n",
    "#      (c) Generative Focus view: sort by gen_design_score then n_filters_pass (descending).\n",
    "# ------------------------------------------------------------------------------\n",
    "df_sorted_sdf = df.sort_values(\"mol_index\", ascending=True)\n",
    "df_sorted_filters = df.sort_values(\"n_filters_pass\", ascending=False)\n",
    "df_sorted_gen = df.sort_values([\"gen_design_score\", \"n_filters_pass\"], ascending=[False, False])\n",
    "\n",
    "# For each view, use \"file_index\" as x-axis labels.\n",
    "x_sdf = df_sorted_sdf[\"file_index\"].tolist()\n",
    "x_filters = df_sorted_filters[\"file_index\"].tolist()\n",
    "x_gen = df_sorted_gen[\"file_index\"].tolist()\n",
    "\n",
    "# ------------------------------------------------------------------------------\n",
    "# 4c. Create a helper function to generate heatmap data.\n",
    "# ------------------------------------------------------------------------------\n",
    "def get_heatmap_data(df_view, filter_list):\n",
    "    z = df_view[filter_list].T.values\n",
    "    z = np.where(z >= 0.5, 1, 0)\n",
    "    hover_text = []\n",
    "    for filt in filter_list:\n",
    "        row_hover = []\n",
    "        for _, row in df_view.iterrows():\n",
    "            row_hover.append(f\"Compound: {row['compound_id']}<br>Filter: {filt}<br>Pass: {row[filt]}\")\n",
    "        hover_text.append(row_hover)\n",
    "    return z, hover_text\n",
    "\n",
    "# For full views, use the original filter_columns.\n",
    "z_sdf, hover_text_sdf = get_heatmap_data(df_sorted_sdf, filter_columns)\n",
    "z_filters, hover_text_filters = get_heatmap_data(df_sorted_filters, filter_columns)\n",
    "\n",
    "# For the generative focus view, re-order filters to show generative ones first.\n",
    "gen_filters_list = [\"rule_of_generative_design\", \"rule_of_generative_design_strict\"]\n",
    "other_filters = [f for f in filter_columns if f not in gen_filters_list]\n",
    "filter_columns_gen = gen_filters_list + other_filters\n",
    "z_gen, hover_text_gen = get_heatmap_data(df_sorted_gen, filter_columns_gen)\n",
    "\n",
    "# ------------------------------------------------------------------------------\n",
    "# 4d. Create y-axis labels (with percentage pass info).\n",
    "# ------------------------------------------------------------------------------\n",
    "def get_y_labels(filter_list):\n",
    "    labels = []\n",
    "    for filt in filter_list:\n",
    "        perc = df[filt].sum() / len(df) * 100\n",
    "        labels.append(f\"{filt} ({perc:.0f}%)\")\n",
    "    return labels\n",
    "\n",
    "y_full_labels = get_y_labels(filter_columns)\n",
    "y_gen_labels = get_y_labels(filter_columns_gen)\n",
    "\n",
    "# ------------------------------------------------------------------------------\n",
    "# 4e. Create a view that shows ONLY the two generative filter rows.\n",
    "# ------------------------------------------------------------------------------\n",
    "filter_columns_gen_only = [\"rule_of_generative_design\", \"rule_of_generative_design_strict\"]\n",
    "z_gen_only, hover_text_gen_only = get_heatmap_data(df_sorted_gen, filter_columns_gen_only)\n",
    "y_gen_only = get_y_labels(filter_columns_gen_only)\n",
    "x_gen_only = x_gen  # using the same x-axis as in the generative focus view\n",
    "\n",
    "# ------------------------------------------------------------------------------\n",
    "# 5. Create the interactive heatmap with Plotly (initially SDF Order full view)\n",
    "# ------------------------------------------------------------------------------\n",
    "fig = go.Figure(data=go.Heatmap(\n",
    "    z=z_sdf,\n",
    "    x=x_sdf,\n",
    "    y=y_full_labels,\n",
    "    colorscale=[[0, \"#EF6262\"], [1, \"#1D5B79\"]],\n",
    "    zmin=0,\n",
    "    zmax=1,\n",
    "    text=hover_text_sdf,\n",
    "    hoverinfo=\"text\",\n",
    "    colorbar=dict(\n",
    "        tickmode=\"array\",\n",
    "        tickvals=[0, 1],\n",
    "        ticktext=[\"Don't Pass\", \"Pass\"],\n",
    "        title=\"Filter Status\"\n",
    "    )\n",
    "))\n",
    "\n",
    "fig.update_layout(\n",
    "    title=f\"Interactive MedChem Filter Heatmap (n = {len(df)})\",\n",
    "    xaxis=dict(\n",
    "        title=\"Compound (File:Index)\",\n",
    "        tickangle=45,\n",
    "        automargin=True,\n",
    "        showgrid=False\n",
    "    ),\n",
    "    yaxis=dict(\n",
    "        title=\"MedChem Filters\",\n",
    "        automargin=True\n",
    "    ),\n",
    "    width=1400,\n",
    "    height=700\n",
    ")\n",
    "\n",
    "# ------------------------------------------------------------------------------\n",
    "# 6. Add a dropdown menu to toggle between views:\n",
    "#     - SDF Order (Full)\n",
    "#     - Most Filters Passed (Full)\n",
    "#     - Generative Focus (Full) [with generative filters at top]\n",
    "#     - Generative Only (2 rows)\n",
    "# ------------------------------------------------------------------------------\n",
    "fig.update_layout(\n",
    "    updatemenus=[\n",
    "        dict(\n",
    "            type=\"dropdown\",\n",
    "            direction=\"down\",\n",
    "            active=0,\n",
    "            x=1.02,\n",
    "            y=1.1,\n",
    "            showactive=True,\n",
    "            buttons=list([\n",
    "                dict(\n",
    "                    label=\"SDF Order (Full)\",\n",
    "                    method=\"restyle\",\n",
    "                    args=[{\"x\": [x_sdf],\n",
    "                           \"z\": [z_sdf],\n",
    "                           \"text\": [hover_text_sdf],\n",
    "                           \"y\": [y_full_labels]}]\n",
    "                ),\n",
    "                dict(\n",
    "                    label=\"Most Filters Passed (Full)\",\n",
    "                    method=\"restyle\",\n",
    "                    args=[{\"x\": [x_filters],\n",
    "                           \"z\": [z_filters],\n",
    "                           \"text\": [hover_text_filters],\n",
    "                           \"y\": [y_full_labels]}]\n",
    "                ),\n",
    "                dict(\n",
    "                    label=\"Generative Focus (Full)\",\n",
    "                    method=\"restyle\",\n",
    "                    args=[{\"x\": [x_gen],\n",
    "                           \"z\": [z_gen],\n",
    "                           \"text\": [hover_text_gen],\n",
    "                           \"y\": [y_gen_labels]}]\n",
    "                ),\n",
    "                dict(\n",
    "                    label=\"Generative Only (2 rows)\",\n",
    "                    method=\"restyle\",\n",
    "                    args=[{\"x\": [x_gen_only],\n",
    "                           \"z\": [z_gen_only],\n",
    "                           \"text\": [hover_text_gen_only],\n",
    "                           \"y\": [y_gen_only]}]\n",
    "                )\n",
    "            ])\n",
    "        )\n",
    "    ]\n",
    ")\n",
    "\n",
    "# ------------------------------------------------------------------------------\n",
    "# 7. Show the interactive plot in VSCode's interactive window\n",
    "# ------------------------------------------------------------------------------\n",
    "fig.show()\n"
   ]
  },
  {
   "cell_type": "markdown",
   "id": "e3673097",
   "metadata": {},
   "source": [
    "### Visualize the ones top in the generative filters"
   ]
  },
  {
   "cell_type": "code",
   "execution_count": 10,
   "id": "a7abe2f4",
   "metadata": {},
   "outputs": [
    {
     "data": {
      "text/html": [
       "<table border=\"1\" class=\"dataframe\">\n",
       "  <thead>\n",
       "    <tr style=\"text-align: right;\">\n",
       "      <th>compound_id</th>\n",
       "      <th>smiles</th>\n",
       "      <th>Molecule Image</th>\n",
       "      <th>Generative Test Passed</th>\n",
       "    </tr>\n",
       "  </thead>\n",
       "  <tbody>\n",
       "    <tr>\n",
       "      <td>NS5_ligand_10</td>\n",
       "      <td>O=C(O)[C@@H](CO)C[C@@H]1CCCOCC1</td>\n",
       "      <td><img src=\"data:image/png;base64,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\" style=\"width:200px;height:200px;\"></td>\n",
       "      <td>Both</td>\n",
       "    </tr>\n",
       "    <tr>\n",
       "      <td>NS5_ligand_14</td>\n",
       "      <td>CS(=O)(=O)NC(=O)CC1=C[C@H](N)CO1</td>\n",
       "      <td><img src=\"data:image/png;base64,iVBORw0KGgoAAAANSUhEUgAAAMgAAADICAIAAAAiOjnJAAAUtklEQVR4nO3de1xUdf7H8fcZBAZm5Bqo4IUU80aWpiStqSlr5sMe7tribhra1srmrnddcR/bRmkWGT2c3PWXtK556af9aL2kkRcyMczrYCYXAf0pIJcBA7kPzDDn8/vjILqmMAznO2z9Ps+HfzA68/0e5cWZc2a+Z5SICIypTdPVG8B+mjgsJgSHxYTgsJgQHBYTgsNiQnBYTAgOiwnBYTEhOCwmBIfFhOCwmBAcFhOCw2JCcFhMCA6LCcFhMSE4LCYEh8WE4LCYEBwWE4LDYkJwWEwIDosJwWExITgsJgSHxYTgsJgQHBYTgsNiQnBYTAgOiwnBYTEhOCwmBIfFhOCwmBAcFhOCw2JCcFhMCA6LCcFhMSE4LCYEh8WE4LCYEBwWE4LDYkJwWEwIDosJwWExITgsJgSHxYTgsJgQHBYTgsNiQnBYTAgOiwnBYTEhOCwmBIfFhOCwmBAcFhOCw2JCcFhMCA6LCcFhMSE4LCYEh8WE4LCYEBwWE4LDYkJwWEwIDosJwWExITgsJkS3rt4AMcxmbN2K3Fz07Yu5c+Hv39Ub9P9OV++xTp7Eli04cgRWq2pjNjdjwgRUVuLXv4ZWiyeeQEWFaoMz+0hE1GWTR0ejsRFPP42LF3HuHL78EjqdCsN+8gn278fOnS03X3sN3brhtddUGLkr2Gy2wsLC06dPz5gxw93dvas3x15d91R49CiKi/HVVy03ly7FBx9gxQoVRs7MxOjRt2+Gh2P7dhWGdUBREU6fbtlr+vm1e/fm5ubCwsKr/+7SpUsNDQ06nW7BggUFBQV6vd4JG955XRfW2bOYNOn2zchIbNumzsju7rBYbt9saoJWq87IHbJ7N1avRnQ0zGasXInt2zFq1O0/tViQn48rV3D5Mq5cwZUrVTZbYGqq9QeHBJIk9enTp7i4uL6+ftOmTStU+dkTr+vCstng4nLHhnRDc7M6I48Zg3XrEBvbcjMlBWPGqDOy/SwWLFuGkycRHAwATzyBZcuwYwfeeUfJCIWFsNnufIS3r6/VavX19R06dOiwYcP63zJo0CC9Xv/RRx+99NJLH3zwwZIlS7p1+xGccnXdMdZnn2HrVuzd23LzjTdAhNdfV2fw2bPR3IzJk5GejuxsHD4MJx+d5OZi1iykp7fclGX4+uLcOQwa1PI73bqhXz8MGIDQUISGYuBAhIZa+vd3c3O753g2my0sLCwnJ2fbtm1z5sxxyt+hc8j5GhuJiGw2GjuW4uLo9GnatIkGD6bvv1dzlhMn6J//pJQUam5Wc1g7ZWTQ44//2+94e1N9PW3YQF98QXl5ZLF0dMjt27cDCA0Nbe6Sv1EHOT2s7Gzq2ZO2bSMiamykxERavJgSEtSsatUq6t2bduwgIoqOppdfpoYG1Qa3U3099exJtbUtNzMzKSysk0M2NzcPHDgQwK5duzq7eeI5NyyrlcLDCaB584jIgZ9au7zwAgG0YwfZbKTRkEZDNpuQidq2ejVNn05nztCxYxQeTrt3d37IzZs3Axg6dKitS/5GHdFOWFVVVWrOtnYtAdS7N928SVevUu/elJio5viKqVMJoM8/p4oKAsjXV/0p7PTZZ7R4Ma1cSadOqTKexWIJCQkBsFuNTIVq65X3mpqa4cOHz5w58+bNmyoczWVnY80aSBI2b4aXF158EUVFOHFChZHvUlkJAH5+t7/oKsnJ8PFBXJxap6Wurq4rV64EsGbNGurCV7bt0UZ0Bw8e1Gq1APr16/fll192KmCrlUaNIoD+8AciovfeI4B69aKKik4Ne0+DBhFAOTl09iwBNHq0+lPYo6qKJIk8PNQ9e2hsbAwODgZw4MABFYdVXTtPhdnZ2eHh4QAkSYqJialtPRrtoMYkAwHUvz/V1lJODnl4EEDJyY6N1o6AAAKovJwOHSKAJk8WMku7TpwggB57TPWBDQYDgMcee0yWZdUHV0v7B+9WqzU+Pl55lyokJOSrr77q6Bz19d+mp7sWbw6Xvz7e8ioDQC+95NAGt0eWqVs3AshioZ07CaDf/EbIRO3atIkAevFF1Qc2m829evUCcPjwYdUHV4u9Z4WZmZmjRo1q3XXV1dXZ+UBZbsrKGm40orBwCRE17f4vAqhPH1L3tKBVdTUB5OVFRLRx4+0nX+f74x8JoPfeEzH2unXrAERERIgYXBUdeLnBYrHExcW5uroCCA8fXlNz0p5HFRf/xWhERkZ/m63WbM46f15bmvi4nCLsR+3aNQIoJISIaM0aAugvfxE1V9vGjSOAjhwRMXZdXV1AQAAAB55AnKMD67FcXV1ff/319PT0ESNG/PWvvnl5YwsKfi/LDW08pKHhvMm0DtCEhGyVJG1+/ouy3GiZ8qgUOdmxU4323XkmqJzM+vqKmqttWVkA8PDDIsbW6XSLFy8GsGbNGhHjd16HF/o9/PDDp0+fHjFirCRpvv/+w0uXRtfXn7vnPYma8vPnEll79Fiu1z9pMr1dX3/OzS0kOPjdTm/2fV2trT0+YcLFkSMBmFxcasPC6gIDxU13X8XFqKjAAw+gZ09BMyxcuNDX1/fYsWNpaWmCpugMR1aQurm5BQe/OWSI0cPjkcbG7NzcJ4qLVxE13XW3pqarNlu1VjskKGi12fxdaembgNSvX6KLS3c1tvze0svLJ6SmvlldDeCVvDyvzMyjXl7ipruvjAxA1O5K4eXltXDhQgBr164VN4vDHF+a7OHxyODBp3v2jAXIZHrn0qXHGhqMd95Bqx0ydGjGgAH7JKlbfv7LRJbAwAVeXsKeBAEAlZWVAPz8/O762tnEhwVg6dKl3t7ehw8fPnv2rNCJHNCpNe8ajTY4OH7QoBNa7WCzOSsnJ6K4eBWRBYDZnFlTkyLL9VrtQ01NV6zWUnf30ODgt1Xa7PtSYvL19b3rayebl5MzYtCgY3cuZBXAx8dn/vz5AN58802hEzlAhYspdLoxQ4acDwxcQiSbTO98//1HRUXLioqW19YeLSxcAJBWO3jYsMwBA/ZqNGosaW+T8u7TnWF1yR7LeP78hdxcz4EDRU+0YsUKvV5/4MCB9Na1X/8hVDzDrK09/r//+2tZtn77rW9zs5iXqdrzu9/9DsA//vEPIlLejzKbzU7eBqvVqtVqJUmqqalxwnTLly8HMGPGDCfMZT81L//S68f17/+JJHXT68fk58+tq0sDnP1GaeteqqGhobGx0cPDQ+v0Be+XL19ubGx88MEHu3cXeJrS6k9/+pOrq+uePXv27dvnhOnsJGT1dP/+e27e/J+Skr8CLgMHHpIkVxGz3FPrcVUXPg9mZGQAeFjwkXsrs9ksyzKAV1999d133+3Ro4efn1/fvn379+8fEhISEBAQEBDg/H8HIWFpNFp//7n+/nNzch6vrz/b1HRFp4vQah8SMdddlGMsPz+/1i+cMOldnBnW5cuXJ02aZLPZfHx8jhw5kpeXt3PnzszMzOTk5PLyco1Go9frPT09q6vPyHLvfv3Qqxd0Ouh00OvRuzcGDMCDD2LAAJSUYMEC7NuHHj0AYPJkHDmCV17BsmV46CEAOH4cqamIi7N3w1QMiwBJ+aKy8r/1+nHNzTesVpMs1xUUzJOkbsHBbwUGLhJ97XVFRQWAZ5991mKx4KceVk5OzqRJk0pKSsaOHZucnOzl5RUUFDRhwgQA1dXVX3zxRXJy8tWrVwsKiiVJazbj+nUUFaGhAbJ8exAXF0RGYtUqFBZi+XJ8/DEAXLwIAHl5aLj1xkpVFfLzO7Btqn2bCwpeKSj4vSzXEVmt1vKiopXl5e+HhGzV6SL8/X8ry+br15fm5j7Z2Jin1ox3aWhoMBgMJpMJQFFRUVlZGYDKykr5zn9Fp7gzrMrKysjIyJSUFNVnuXDhwrhx40pKSsaPH3/w4EGvf38d2Nvb+/nnn//4449PnjyZlpa6cKH7lCno0weyDE9PeHnB9dbhic2G0FAAmDgRJhOOHlVp+1Q5BaiuPmw0SufPa83m7Pvc4eDFi72NRpw/71FaGk+k5pLturo6g8GgrCQBMHz48PXr10+dOlWSJAARERG5ubkqTtfuxmg0Gnd3d6vVSkSv37qgbeLEiWfOnFFrlvT0dH9/fwDPPPNMg92XijQ306lTtHAhjRtHHh6k1ZKrK0kSffopHTtGL7xAWVk0bBg1NlKPHkRETz1FjzxCEREUEUGDB3dsBZAKYTU3V1282NdohMm0jogKCxfl58fYbHevq7FaK65enW00wmhEbu5Es7mw81PX1NQYDIYeynEB8OijjyYlJbUufzt06FDv3r0BeHh4xMfHO+EChPz8/Dlz5nh7e3t6eiYlJRFRU1NTYmJi4K33KyMjI7/77rtOznLixAlvb28A06ZNa1Supeu42lr65BMaPZoCA+n69ZawiGjlSnr77dthfftty/337XN6WNeuvWg04tKlCFlurqk5ZjRq0tNdGxru/c9XVZX83XdB33wTGBbWZDCQw0sgKypo3bqtPj4+yjfsySefvOeqt6qqqpiYGOU+P/vZzy5fvuzgfO3Jzc2dO3euco1y6wscEyZMOHXqFBHV1tbGx8crrz5oNJqoqKirV686NtHx48eVcWbOnGlR7zKn1rDq6igsjPz8iO4flj3riDsbVlXVAaMR5897ms25NltdRkao0YiSktVtPMRqvfH++9kAAfT003T9esdmvHGD4uLIx4dGjjyi5LJ///62H5KcnBwUFATA09PTYDCou6I3KysrOjpaScrV1TU6OjojIyMxMbF1PxoZGXnhwgUiKi8vj42NVdbiurm5xcTEmEymDs116NAhDw8PALNmzVKeatXSGhYR/etf1L070X3CWriQ3niD5s9vZ8DOhXWzMufkEKMRZWXriaig4BWjEdnZI2S5/Z+kpKSWteleXvZeA1ZSQkuXkk5HSpTPPEOnTp23d0tv3mzddf385z8vLFThifjixYvR0dEuLi5KKNHR0Xl5ea1/quyllGNqZS915coVIsrPz4+JiVEepdfrY2Njq6ur7Znu888/V/aF8+bNU/1p3WqlOxcF37xJRGQ2374is7mZ7nzWjYpqZ8DOhTV7NvXqUb47mshWU3PUaJTS090bGi7a+eiyMpoxo6WSKVPa2nWZTBQb23IFBkCRkeTYcXBSUpKy8NLLyysxMdHhXdeFCxeioqKUkwNl33O/Um/cuBEbG6sE4erqGhMTU1paSkSZmZlRUVFK6A888EB8fHzbbz19+umnytrd+fPnd/k1FAcP0oYN7dynE2F99hkB5OlJly9TTfWl08OMRpSWvt3RYXbsIF9fAsjPjzZsoOnTWy6XunaN5s2j/HxatIi0WgJIkmjaNDp3zvFNJqKysrLnnntO+Y5OmTLlegefib/55ptp06YpSel0ukWLFhUVFbX7qIKCgta9lE6ni42NVa4EPnny5Pjx45WN6du3b2Ji4j0/l2HXrl3KU+3KlSs7tLUibNlC8fFUWdnO3RwN68YN6tGDANq4kYjo5Zfl4F5le34jy45cQ2cy0fTpNGsWJSRQr15kMBARXbpE48fTc88RQC4uNGsWZWU5uLE/lJSUpJyue3t7J9r3TJyWljZt2jQlAr1ev2jRopKSkg5NmpWV1bqf8/f3b91L7d+/PywsTBk5LCzsrkPGzZs3azQaALGxsR2aTgSLheLjW361zdGwZs4kgCZOJFmmI0dIksjdnTIzHRyNiIjMZkpIoDfeoMGDqaioJaz0dJo7l0S8DmUymX7xi18o386pU6cWFxff755paWmTbn1GXPfu3WNjYys6cZ3tqVOnnnrqKWW0Pn36JCYmWq1Wm82WlJQ0YMAAALNnz26986ZNm5SqVq9u63zoP5BDYe3dSwDpdHTlClVVUZ8+BFBCQue3JiGB3nuPdu6kX/2qJSzRkpKSlLd9fHx8frjrSklJGXPr6nh/f/+4uLjKdp8D7JOSkjJy5Ehl5MGDBysvvzU1NW3YsEE5xieihIQESZIkSVq/fr0qkzqTQ2EtW0ZAy7ncnDkEUESEKheSK2ER0cSJ9Pe/OyMsIiotLX322WeV73FUVFR5ebksy/v37x99a/1nQEBAXFycyp+PQiTLclJS0sBbiwHDw8Pv/ByD+Ph4AJIk/e1vf1N3Xudw9KkwLY1kmfbvbzl+v+M0uzNaw8rOpqAgJ4VFRLIsf/jhh8oLj25ubq0fIBsUFGQwGOrr68VNbbFYEhMTlZfZlBe9vv7661dffRWAi4vLli1bxE0tVAfDKi2ltDRqPbVesoQAev99tbamNSwiWrXKeWEp8vPzhw0b1rqXMhgM9r8N10l1dXVvvfVW6xsJSlU/ig9Yu5+OhLVqFY0ZQytW0IQJ9Nvftrx2dvSoih9rlp1N1661fF1fT6mpag1sL5vNtnHjxrVr1zr88SedUVFRMWfOHEmSNBrNn//8Z+dvgIrsDis19faBlCzT9Okk4OcpNvb2q/ClpTRkiOoz/AiUlZU5/Nbyfw6712MdO4Zf/rLlA7QlCVFRSE2197GsIwIDA39E/wPF/di9grSuDndeq67Xo6ZGxAalpyMpCQCqq0UMz5zE7rAeeggXLty+mZFx+yPLVVVVhZISAKitFTE8cxK7w5o1CwkJ2LMHkybhzBl89JGQjw8FJk2CsgrBZMKuXSJmYM5g9zGWXo/UVHz9NZ5/Hnv34vBh3FoKzNgPdeQqnaAgGAyiNgQAEB6OgICWrz09cWtdCfvx6dL/r5D9dHX1/7DKfqI4LCYEh8WE4LCYEBwWE4LDYkJwWEwIDosJwWExITgsJgSHxYTgsJgQHBYTgsNiQnBYTAgOiwnBYTEhOCwmBIfFhOCwmBAcFhOCw2JCcFhMCA6LCcFhMSE4LCYEh8WE4LCYEBwWE4LDYkJwWEwIDosJwWExITgsJgSHxYTgsJgQHBYTgsNiQnBYTAgOiwnBYTEhOCwmBIfFhOCwmBAcFhOCw2JCcFhMCA6LCcFhMSE4LCYEh8WE4LCYEBwWE4LDYkJwWEwIDosJwWExITgsJgSHxYTgsJgQHBYTgsNiQnBYTAgOiwnBYTEhOCwmBIfFhOCwmBAcFhOCw2JCcFhMCA6LCcFhMSE4LCbE/wEX+ViEKJBJ/AAAAABJRU5ErkJggg==\" style=\"width:200px;height:200px;\"></td>\n",
       "      <td>Both</td>\n",
       "    </tr>\n",
       "    <tr>\n",
       "      <td>NS5_ligand_15</td>\n",
       "      <td>COC(=O)c1cc([C@@H]2[C@H](O)[C@H](O)[C@@H]3CC=CCC[C@@]23F)ccc1S(O)(O)O</td>\n",
       "      <td><img src=\"data:image/png;base64,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\" style=\"width:200px;height:200px;\"></td>\n",
       "      <td>Generative Design</td>\n",
       "    </tr>\n",
       "    <tr>\n",
       "      <td>NS5_ligand_3</td>\n",
       "      <td>CCO[C@@H]1C[C@@]1(O)[C@H](OO)ON(C)CC[C@@H]1[C@@H]2C[C@]12OP(=O)(O)O</td>\n",
       "      <td><img src=\"data:image/png;base64,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\" style=\"width:200px;height:200px;\"></td>\n",
       "      <td>Generative Design</td>\n",
       "    </tr>\n",
       "    <tr>\n",
       "      <td>NS5_ligand_6</td>\n",
       "      <td>OC[C@H](COC[C@@H](OO)[C@@H]1C[C@@H](C(O)O)CO1)[C@@H](O)CO</td>\n",
       "      <td><img src=\"data:image/png;base64,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\" style=\"width:200px;height:200px;\"></td>\n",
       "      <td>Generative Design</td>\n",
       "    </tr>\n",
       "  </tbody>\n",
       "</table>"
      ],
      "text/plain": [
       "<IPython.core.display.HTML object>"
      ]
     },
     "metadata": {},
     "output_type": "display_data"
    }
   ],
   "source": [
    "from rdkit.Chem import Draw\n",
    "from io import BytesIO\n",
    "import base64\n",
    "from IPython.display import HTML, display\n",
    "\n",
    "def mol_to_img_html(smiles, size=(200,200)):\n",
    "    \"\"\"Converts a SMILES string to an HTML image tag using RDKit.\"\"\"\n",
    "    mol = Chem.MolFromSmiles(smiles)\n",
    "    if mol is None:\n",
    "        return \"\"\n",
    "    img = Draw.MolToImage(mol, size=size)\n",
    "    buffered = BytesIO()\n",
    "    img.save(buffered, format=\"PNG\")\n",
    "    img_str = base64.b64encode(buffered.getvalue()).decode(\"utf-8\")\n",
    "    html_img = f'<img src=\"data:image/png;base64,{img_str}\" style=\"width:{size[0]}px;height:{size[1]}px;\">'\n",
    "    return html_img\n",
    "\n",
    "def generative_passed_label(row):\n",
    "    passed_design = row[\"rule_of_generative_design\"] == 1\n",
    "    passed_strict = row[\"rule_of_generative_design_strict\"] == 1\n",
    "    if passed_design and passed_strict:\n",
    "        return \"Both\"\n",
    "    elif passed_design:\n",
    "        return \"Generative Design\"\n",
    "    elif passed_strict:\n",
    "        return \"Generative Design Strict\"\n",
    "    else:\n",
    "        return \"\"\n",
    "\n",
    "# Use the same ordering as the interactive heatmap's Generative Focus view.\n",
    "# That ordering sorts the full DataFrame by gen_design_score and n_filters_pass (both descending).\n",
    "df_sorted_gen = df.sort_values([\"gen_design_score\", \"n_filters_pass\"], ascending=[False, False])\n",
    "\n",
    "# Now filter for compounds that pass at least one generative filter.\n",
    "df_generative_ordered = df_sorted_gen[\n",
    "    (df_sorted_gen[\"rule_of_generative_design\"] == 1) | \n",
    "    (df_sorted_gen[\"rule_of_generative_design_strict\"] == 1)\n",
    "].copy()\n",
    "\n",
    "# Create a column with the label indicating which generative test(s) were passed.\n",
    "df_generative_ordered[\"Generative Test Passed\"] = df_generative_ordered.apply(generative_passed_label, axis=1)\n",
    "\n",
    "# Create a new column with the HTML 2D image.\n",
    "df_generative_ordered[\"Molecule Image\"] = df_generative_ordered[\"smiles\"].apply(mol_to_img_html)\n",
    "\n",
    "# Select the columns we want to display.\n",
    "df_display = df_generative_ordered[[\"compound_id\", \"smiles\", \"Molecule Image\", \"Generative Test Passed\"]]\n",
    "\n",
    "# Convert the DataFrame to HTML and display.\n",
    "html_table = df_display.to_html(escape=False, index=False)\n",
    "display(HTML(html_table))\n"
   ]
  },
  {
   "cell_type": "markdown",
   "id": "fcd70370",
   "metadata": {},
   "source": [
    "## Re-dock & Re-score the ligand to the pocket (potentially more realistic pose even with MM)"
   ]
  },
  {
   "cell_type": "markdown",
   "id": "c239e452",
   "metadata": {},
   "source": [
    "Prepare the receptor (pdb --> pdbqt) \n",
    "\n",
    "1. Copy the pdbqt file to /VFU/config\n",
    "2. Prepare the docking grid using MGLtools"
   ]
  },
  {
   "cell_type": "code",
   "execution_count": 11,
   "id": "126b9df7",
   "metadata": {},
   "outputs": [
    {
     "name": "stdout",
     "output_type": "stream",
     "text": [
      "Redocking compound NS5_ligand_10 with SMILES: O=C(O)[C@@H](CO)C[C@@H]1CCCOCC1\n",
      "Redocking compound NS5_ligand_14 with SMILES: CS(=O)(=O)NC(=O)CC1=C[C@H](N)CO1\n",
      "Redocking compound NS5_ligand_15 with SMILES: COC(=O)c1cc([C@@H]2[C@H](O)[C@H](O)[C@@H]3CC=CCC[C@@]23F)ccc1S(O)(O)O\n",
      "Redocking compound NS5_ligand_3 with SMILES: CCO[C@@H]1C[C@@]1(O)[C@H](OO)ON(C)CC[C@@H]1[C@@H]2C[C@]12OP(=O)(O)O\n",
      "Warning: Bad ligand conformer encountered (removing file): CCO[C@@H]1C[C@@]1(O)[C@H](OO)ON(C)CC[C@@H]1[C@@H]2C[C@]12OP(=O)(O)O\n",
      "Redocking compound NS5_ligand_6 with SMILES: OC[C@H](COC[C@@H](OO)[C@@H]1C[C@@H](C(O)O)CO1)[C@@H](O)CO\n",
      "Redocking results saved to redocking_results.csv\n"
     ]
    }
   ],
   "source": [
    "import os\n",
    "os.chdir('/home/conrad/virtual_screen/Development_modules/VFU')\n",
    "\n",
    "from run_vf_unity import main\n",
    "import pandas as pd\n",
    "\n",
    "# Redocking parameters\n",
    "program_choice   = 'qvina'\n",
    "scoring_function = ''\n",
    "center_x         = 114.817\n",
    "center_y         = 75.602\n",
    "center_z         = 82.416\n",
    "size_x           = 38\n",
    "size_y           = 70\n",
    "size_z           = 58\n",
    "exhaustiveness   = 10\n",
    "is_selfies       = False\n",
    "is_peptide       = False\n",
    "receptor         = './config/NS5_test.pdbqt'\n",
    "\n",
    "# List to store redocking results\n",
    "results = []\n",
    "\n",
    "# Loop over all compounds in the DataFrame (df_generative_ordered)\n",
    "for idx, row in df_generative_ordered.iterrows():\n",
    "    compound_id = row[\"compound_id\"]\n",
    "    smi = row[\"smiles\"]\n",
    "    \n",
    "    print(f\"Redocking compound {compound_id} with SMILES: {smi}\")\n",
    "    \n",
    "    try:\n",
    "        # Run the redocking process for the current compound\n",
    "        pose_pred_out, re_scored_values = main(\n",
    "            program_choice,\n",
    "            scoring_function,\n",
    "            center_x,\n",
    "            center_y,\n",
    "            center_z,\n",
    "            size_x,\n",
    "            size_y,\n",
    "            size_z,\n",
    "            exhaustiveness,\n",
    "            smi,\n",
    "            is_selfies,\n",
    "            is_peptide,\n",
    "            receptor\n",
    "        )\n",
    "    except Exception as e:\n",
    "        print(f\"Error redocking compound {compound_id}: {e}\")\n",
    "        pose_pred_out = None\n",
    "        re_scored_values = None\n",
    "        \n",
    "    # Remove ligands folder before copying new outputs.\n",
    "    os.system('rm -rf ligands')\n",
    "    \n",
    "    # Save the outputs in a unique folder named after the compound identifier\n",
    "    os.system(f'cp -a outputs outputs_{compound_id}')\n",
    "    \n",
    "    # Append the results along with compound information\n",
    "    results.append({\n",
    "        \"compound_id\": compound_id,\n",
    "        \"smiles\": smi,\n",
    "        \"pose_pred_out\": pose_pred_out,\n",
    "        \"re_scored_values\": re_scored_values\n",
    "    })\n",
    "\n",
    "# Convert the results list into a DataFrame\n",
    "results_df = pd.DataFrame(results)\n",
    "\n",
    "# Save the DataFrame to a CSV file\n",
    "results_df.to_csv(\"redocking_results.csv\", index=False)\n",
    "print(\"Redocking results saved to redocking_results.csv\")"
   ]
  },
  {
   "cell_type": "code",
   "execution_count": 13,
   "id": "417f9a3b",
   "metadata": {},
   "outputs": [
    {
     "data": {
      "application/vnd.plotly.v1+json": {
       "config": {
        "plotlyServerURL": "https://plot.ly"
       },
       "data": [
        {
         "alignmentgroup": "True",
         "boxmean": true,
         "hovertemplate": "Compound ID=%{x}<br>Docking Score=%{y}<extra></extra>",
         "legendgroup": "",
         "marker": {
          "color": "royalblue"
         },
         "name": "",
         "notched": false,
         "offsetgroup": "",
         "orientation": "v",
         "showlegend": false,
         "type": "box",
         "x": [
          "NS5_ligand_10",
          "NS5_ligand_10",
          "NS5_ligand_10",
          "NS5_ligand_10",
          "NS5_ligand_10",
          "NS5_ligand_10",
          "NS5_ligand_10",
          "NS5_ligand_10",
          "NS5_ligand_10",
          "NS5_ligand_10",
          "NS5_ligand_10",
          "NS5_ligand_10",
          "NS5_ligand_10",
          "NS5_ligand_10",
          "NS5_ligand_10",
          "NS5_ligand_10",
          "NS5_ligand_10",
          "NS5_ligand_10",
          "NS5_ligand_14",
          "NS5_ligand_14",
          "NS5_ligand_14",
          "NS5_ligand_14",
          "NS5_ligand_14",
          "NS5_ligand_14",
          "NS5_ligand_14",
          "NS5_ligand_14",
          "NS5_ligand_14",
          "NS5_ligand_14",
          "NS5_ligand_14",
          "NS5_ligand_14",
          "NS5_ligand_14",
          "NS5_ligand_14",
          "NS5_ligand_14",
          "NS5_ligand_14",
          "NS5_ligand_14",
          "NS5_ligand_14",
          "NS5_ligand_15",
          "NS5_ligand_15",
          "NS5_ligand_15",
          "NS5_ligand_15",
          "NS5_ligand_15",
          "NS5_ligand_15",
          "NS5_ligand_15",
          "NS5_ligand_15",
          "NS5_ligand_15",
          "NS5_ligand_3",
          "NS5_ligand_6",
          "NS5_ligand_6",
          "NS5_ligand_6",
          "NS5_ligand_6",
          "NS5_ligand_6",
          "NS5_ligand_6",
          "NS5_ligand_6",
          "NS5_ligand_6",
          "NS5_ligand_6"
         ],
         "x0": " ",
         "xaxis": "x",
         "y": {
          "bdata": "zczMzMzMFMAAAAAAAAAUwAAAAAAAABTAmpmZmZmZE8DNzMzMzMwSwM3MzMzMzBLAzczMzMzMEsBmZmZmZmYSwGZmZmZmZhLAMzMzMzMzFcDNzMzMzMwUwAAAAAAAABTAAAAAAAAAFMAAAAAAAAAUwJqZmZmZmRPAMzMzMzMzE8AzMzMzMzMTwM3MzMzMzBLAmpmZmZmZFcCamZmZmZkVwDMzMzMzMxXAMzMzMzMzFcAzMzMzMzMVwM3MzMzMzBTAzczMzMzMFMBmZmZmZmYUwGZmZmZmZhTAZmZmZmZmFMBmZmZmZmYUwDMzMzMzMxPAMzMzMzMzE8DNzMzMzMwSwM3MzMzMzBLAZmZmZmZmEsBmZmZmZmYSwAAAAAAAABLAzczMzMzMHMDNzMzMzMwcwGZmZmZmZhrAZmZmZmZmGsCamZmZmZkZwDMzMzMzMxnAzczMzMzMGMDNzMzMzMwYwM3MzMzMzBjAAAAAAAAA+H8AAAAAAAAUwAAAAAAAABTAAAAAAAAAFMAAAAAAAAAUwAAAAAAAABTAMzMzMzMzE8AzMzMzMzMTwDMzMzMzMxPAMzMzMzMzE8A=",
          "dtype": "f8"
         },
         "y0": " ",
         "yaxis": "y"
        },
        {
         "alignmentgroup": "True",
         "boxmean": true,
         "hovertemplate": "Compound ID=%{x}<br>pKd=%{y}<extra></extra>",
         "legendgroup": "",
         "marker": {
          "color": "darkorange"
         },
         "name": "",
         "notched": false,
         "offsetgroup": "",
         "orientation": "v",
         "showlegend": false,
         "type": "box",
         "x": [
          "NS5_ligand_10",
          "NS5_ligand_14",
          "NS5_ligand_15",
          "NS5_ligand_3",
          "NS5_ligand_6"
         ],
         "x0": " ",
         "xaxis": "x2",
         "y": [
          null,
          null,
          null,
          null,
          null
         ],
         "y0": " ",
         "yaxis": "y2"
        }
       ],
       "layout": {
        "annotations": [
         {
          "font": {
           "size": 16
          },
          "showarrow": false,
          "text": "Docking Scores per Compound",
          "x": 0.5,
          "xanchor": "center",
          "xref": "paper",
          "y": 1,
          "yanchor": "bottom",
          "yref": "paper"
         },
         {
          "font": {
           "size": 16
          },
          "showarrow": false,
          "text": "Redock Predicted Affinity (pKd) per Compound",
          "x": 0.5,
          "xanchor": "center",
          "xref": "paper",
          "y": 0.375,
          "yanchor": "bottom",
          "yref": "paper"
         }
        ],
        "height": 900,
        "showlegend": false,
        "template": {
         "data": {
          "bar": [
           {
            "error_x": {
             "color": "#2a3f5f"
            },
            "error_y": {
             "color": "#2a3f5f"
            },
            "marker": {
             "line": {
              "color": "#E5ECF6",
              "width": 0.5
             },
             "pattern": {
              "fillmode": "overlay",
              "size": 10,
              "solidity": 0.2
             }
            },
            "type": "bar"
           }
          ],
          "barpolar": [
           {
            "marker": {
             "line": {
              "color": "#E5ECF6",
              "width": 0.5
             },
             "pattern": {
              "fillmode": "overlay",
              "size": 10,
              "solidity": 0.2
             }
            },
            "type": "barpolar"
           }
          ],
          "carpet": [
           {
            "aaxis": {
             "endlinecolor": "#2a3f5f",
             "gridcolor": "white",
             "linecolor": "white",
             "minorgridcolor": "white",
             "startlinecolor": "#2a3f5f"
            },
            "baxis": {
             "endlinecolor": "#2a3f5f",
             "gridcolor": "white",
             "linecolor": "white",
             "minorgridcolor": "white",
             "startlinecolor": "#2a3f5f"
            },
            "type": "carpet"
           }
          ],
          "choropleth": [
           {
            "colorbar": {
             "outlinewidth": 0,
             "ticks": ""
            },
            "type": "choropleth"
           }
          ],
          "contour": [
           {
            "colorbar": {
             "outlinewidth": 0,
             "ticks": ""
            },
            "colorscale": [
             [
              0,
              "#0d0887"
             ],
             [
              0.1111111111111111,
              "#46039f"
             ],
             [
              0.2222222222222222,
              "#7201a8"
             ],
             [
              0.3333333333333333,
              "#9c179e"
             ],
             [
              0.4444444444444444,
              "#bd3786"
             ],
             [
              0.5555555555555556,
              "#d8576b"
             ],
             [
              0.6666666666666666,
              "#ed7953"
             ],
             [
              0.7777777777777778,
              "#fb9f3a"
             ],
             [
              0.8888888888888888,
              "#fdca26"
             ],
             [
              1,
              "#f0f921"
             ]
            ],
            "type": "contour"
           }
          ],
          "contourcarpet": [
           {
            "colorbar": {
             "outlinewidth": 0,
             "ticks": ""
            },
            "type": "contourcarpet"
           }
          ],
          "heatmap": [
           {
            "colorbar": {
             "outlinewidth": 0,
             "ticks": ""
            },
            "colorscale": [
             [
              0,
              "#0d0887"
             ],
             [
              0.1111111111111111,
              "#46039f"
             ],
             [
              0.2222222222222222,
              "#7201a8"
             ],
             [
              0.3333333333333333,
              "#9c179e"
             ],
             [
              0.4444444444444444,
              "#bd3786"
             ],
             [
              0.5555555555555556,
              "#d8576b"
             ],
             [
              0.6666666666666666,
              "#ed7953"
             ],
             [
              0.7777777777777778,
              "#fb9f3a"
             ],
             [
              0.8888888888888888,
              "#fdca26"
             ],
             [
              1,
              "#f0f921"
             ]
            ],
            "type": "heatmap"
           }
          ],
          "histogram": [
           {
            "marker": {
             "pattern": {
              "fillmode": "overlay",
              "size": 10,
              "solidity": 0.2
             }
            },
            "type": "histogram"
           }
          ],
          "histogram2d": [
           {
            "colorbar": {
             "outlinewidth": 0,
             "ticks": ""
            },
            "colorscale": [
             [
              0,
              "#0d0887"
             ],
             [
              0.1111111111111111,
              "#46039f"
             ],
             [
              0.2222222222222222,
              "#7201a8"
             ],
             [
              0.3333333333333333,
              "#9c179e"
             ],
             [
              0.4444444444444444,
              "#bd3786"
             ],
             [
              0.5555555555555556,
              "#d8576b"
             ],
             [
              0.6666666666666666,
              "#ed7953"
             ],
             [
              0.7777777777777778,
              "#fb9f3a"
             ],
             [
              0.8888888888888888,
              "#fdca26"
             ],
             [
              1,
              "#f0f921"
             ]
            ],
            "type": "histogram2d"
           }
          ],
          "histogram2dcontour": [
           {
            "colorbar": {
             "outlinewidth": 0,
             "ticks": ""
            },
            "colorscale": [
             [
              0,
              "#0d0887"
             ],
             [
              0.1111111111111111,
              "#46039f"
             ],
             [
              0.2222222222222222,
              "#7201a8"
             ],
             [
              0.3333333333333333,
              "#9c179e"
             ],
             [
              0.4444444444444444,
              "#bd3786"
             ],
             [
              0.5555555555555556,
              "#d8576b"
             ],
             [
              0.6666666666666666,
              "#ed7953"
             ],
             [
              0.7777777777777778,
              "#fb9f3a"
             ],
             [
              0.8888888888888888,
              "#fdca26"
             ],
             [
              1,
              "#f0f921"
             ]
            ],
            "type": "histogram2dcontour"
           }
          ],
          "mesh3d": [
           {
            "colorbar": {
             "outlinewidth": 0,
             "ticks": ""
            },
            "type": "mesh3d"
           }
          ],
          "parcoords": [
           {
            "line": {
             "colorbar": {
              "outlinewidth": 0,
              "ticks": ""
             }
            },
            "type": "parcoords"
           }
          ],
          "pie": [
           {
            "automargin": true,
            "type": "pie"
           }
          ],
          "scatter": [
           {
            "fillpattern": {
             "fillmode": "overlay",
             "size": 10,
             "solidity": 0.2
            },
            "type": "scatter"
           }
          ],
          "scatter3d": [
           {
            "line": {
             "colorbar": {
              "outlinewidth": 0,
              "ticks": ""
             }
            },
            "marker": {
             "colorbar": {
              "outlinewidth": 0,
              "ticks": ""
             }
            },
            "type": "scatter3d"
           }
          ],
          "scattercarpet": [
           {
            "marker": {
             "colorbar": {
              "outlinewidth": 0,
              "ticks": ""
             }
            },
            "type": "scattercarpet"
           }
          ],
          "scattergeo": [
           {
            "marker": {
             "colorbar": {
              "outlinewidth": 0,
              "ticks": ""
             }
            },
            "type": "scattergeo"
           }
          ],
          "scattergl": [
           {
            "marker": {
             "colorbar": {
              "outlinewidth": 0,
              "ticks": ""
             }
            },
            "type": "scattergl"
           }
          ],
          "scattermap": [
           {
            "marker": {
             "colorbar": {
              "outlinewidth": 0,
              "ticks": ""
             }
            },
            "type": "scattermap"
           }
          ],
          "scattermapbox": [
           {
            "marker": {
             "colorbar": {
              "outlinewidth": 0,
              "ticks": ""
             }
            },
            "type": "scattermapbox"
           }
          ],
          "scatterpolar": [
           {
            "marker": {
             "colorbar": {
              "outlinewidth": 0,
              "ticks": ""
             }
            },
            "type": "scatterpolar"
           }
          ],
          "scatterpolargl": [
           {
            "marker": {
             "colorbar": {
              "outlinewidth": 0,
              "ticks": ""
             }
            },
            "type": "scatterpolargl"
           }
          ],
          "scatterternary": [
           {
            "marker": {
             "colorbar": {
              "outlinewidth": 0,
              "ticks": ""
             }
            },
            "type": "scatterternary"
           }
          ],
          "surface": [
           {
            "colorbar": {
             "outlinewidth": 0,
             "ticks": ""
            },
            "colorscale": [
             [
              0,
              "#0d0887"
             ],
             [
              0.1111111111111111,
              "#46039f"
             ],
             [
              0.2222222222222222,
              "#7201a8"
             ],
             [
              0.3333333333333333,
              "#9c179e"
             ],
             [
              0.4444444444444444,
              "#bd3786"
             ],
             [
              0.5555555555555556,
              "#d8576b"
             ],
             [
              0.6666666666666666,
              "#ed7953"
             ],
             [
              0.7777777777777778,
              "#fb9f3a"
             ],
             [
              0.8888888888888888,
              "#fdca26"
             ],
             [
              1,
              "#f0f921"
             ]
            ],
            "type": "surface"
           }
          ],
          "table": [
           {
            "cells": {
             "fill": {
              "color": "#EBF0F8"
             },
             "line": {
              "color": "white"
             }
            },
            "header": {
             "fill": {
              "color": "#C8D4E3"
             },
             "line": {
              "color": "white"
             }
            },
            "type": "table"
           }
          ]
         },
         "layout": {
          "annotationdefaults": {
           "arrowcolor": "#2a3f5f",
           "arrowhead": 0,
           "arrowwidth": 1
          },
          "autotypenumbers": "strict",
          "coloraxis": {
           "colorbar": {
            "outlinewidth": 0,
            "ticks": ""
           }
          },
          "colorscale": {
           "diverging": [
            [
             0,
             "#8e0152"
            ],
            [
             0.1,
             "#c51b7d"
            ],
            [
             0.2,
             "#de77ae"
            ],
            [
             0.3,
             "#f1b6da"
            ],
            [
             0.4,
             "#fde0ef"
            ],
            [
             0.5,
             "#f7f7f7"
            ],
            [
             0.6,
             "#e6f5d0"
            ],
            [
             0.7,
             "#b8e186"
            ],
            [
             0.8,
             "#7fbc41"
            ],
            [
             0.9,
             "#4d9221"
            ],
            [
             1,
             "#276419"
            ]
           ],
           "sequential": [
            [
             0,
             "#0d0887"
            ],
            [
             0.1111111111111111,
             "#46039f"
            ],
            [
             0.2222222222222222,
             "#7201a8"
            ],
            [
             0.3333333333333333,
             "#9c179e"
            ],
            [
             0.4444444444444444,
             "#bd3786"
            ],
            [
             0.5555555555555556,
             "#d8576b"
            ],
            [
             0.6666666666666666,
             "#ed7953"
            ],
            [
             0.7777777777777778,
             "#fb9f3a"
            ],
            [
             0.8888888888888888,
             "#fdca26"
            ],
            [
             1,
             "#f0f921"
            ]
           ],
           "sequentialminus": [
            [
             0,
             "#0d0887"
            ],
            [
             0.1111111111111111,
             "#46039f"
            ],
            [
             0.2222222222222222,
             "#7201a8"
            ],
            [
             0.3333333333333333,
             "#9c179e"
            ],
            [
             0.4444444444444444,
             "#bd3786"
            ],
            [
             0.5555555555555556,
             "#d8576b"
            ],
            [
             0.6666666666666666,
             "#ed7953"
            ],
            [
             0.7777777777777778,
             "#fb9f3a"
            ],
            [
             0.8888888888888888,
             "#fdca26"
            ],
            [
             1,
             "#f0f921"
            ]
           ]
          },
          "colorway": [
           "#636efa",
           "#EF553B",
           "#00cc96",
           "#ab63fa",
           "#FFA15A",
           "#19d3f3",
           "#FF6692",
           "#B6E880",
           "#FF97FF",
           "#FECB52"
          ],
          "font": {
           "color": "#2a3f5f"
          },
          "geo": {
           "bgcolor": "white",
           "lakecolor": "white",
           "landcolor": "#E5ECF6",
           "showlakes": true,
           "showland": true,
           "subunitcolor": "white"
          },
          "hoverlabel": {
           "align": "left"
          },
          "hovermode": "closest",
          "mapbox": {
           "style": "light"
          },
          "paper_bgcolor": "white",
          "plot_bgcolor": "#E5ECF6",
          "polar": {
           "angularaxis": {
            "gridcolor": "white",
            "linecolor": "white",
            "ticks": ""
           },
           "bgcolor": "#E5ECF6",
           "radialaxis": {
            "gridcolor": "white",
            "linecolor": "white",
            "ticks": ""
           }
          },
          "scene": {
           "xaxis": {
            "backgroundcolor": "#E5ECF6",
            "gridcolor": "white",
            "gridwidth": 2,
            "linecolor": "white",
            "showbackground": true,
            "ticks": "",
            "zerolinecolor": "white"
           },
           "yaxis": {
            "backgroundcolor": "#E5ECF6",
            "gridcolor": "white",
            "gridwidth": 2,
            "linecolor": "white",
            "showbackground": true,
            "ticks": "",
            "zerolinecolor": "white"
           },
           "zaxis": {
            "backgroundcolor": "#E5ECF6",
            "gridcolor": "white",
            "gridwidth": 2,
            "linecolor": "white",
            "showbackground": true,
            "ticks": "",
            "zerolinecolor": "white"
           }
          },
          "shapedefaults": {
           "line": {
            "color": "#2a3f5f"
           }
          },
          "ternary": {
           "aaxis": {
            "gridcolor": "white",
            "linecolor": "white",
            "ticks": ""
           },
           "baxis": {
            "gridcolor": "white",
            "linecolor": "white",
            "ticks": ""
           },
           "bgcolor": "#E5ECF6",
           "caxis": {
            "gridcolor": "white",
            "linecolor": "white",
            "ticks": ""
           }
          },
          "title": {
           "x": 0.05
          },
          "xaxis": {
           "automargin": true,
           "gridcolor": "white",
           "linecolor": "white",
           "ticks": "",
           "title": {
            "standoff": 15
           },
           "zerolinecolor": "white",
           "zerolinewidth": 2
          },
          "yaxis": {
           "automargin": true,
           "gridcolor": "white",
           "linecolor": "white",
           "ticks": "",
           "title": {
            "standoff": 15
           },
           "zerolinecolor": "white",
           "zerolinewidth": 2
          }
         }
        },
        "xaxis": {
         "anchor": "y",
         "domain": [
          0,
          1
         ],
         "matches": "x2",
         "showticklabels": false,
         "tickangle": -45
        },
        "xaxis2": {
         "anchor": "y2",
         "domain": [
          0,
          1
         ],
         "tickangle": -45
        },
        "yaxis": {
         "anchor": "x",
         "domain": [
          0.625,
          1
         ]
        },
        "yaxis2": {
         "anchor": "x2",
         "domain": [
          0,
          0.375
         ]
        }
       }
      }
     },
     "metadata": {},
     "output_type": "display_data"
    }
   ],
   "source": [
    "import pandas as pd\n",
    "import ast\n",
    "import re\n",
    "import numpy as np\n",
    "import plotly.express as px\n",
    "from plotly.subplots import make_subplots\n",
    "\n",
    "# Read the CSV file\n",
    "df = pd.read_csv(\"/home/conrad/virtual_screen/Development_modules/VFU/redocking_results.csv\")\n",
    "\n",
    "# Get the complete list of compound IDs from the CSV so every compound appears on the x-axis\n",
    "all_compounds = df[\"compound_id\"].unique().tolist()\n",
    "\n",
    "#########################################\n",
    "# Process Docking Scores (Top Panel)\n",
    "#########################################\n",
    "docking_data = []\n",
    "for _, row in df.iterrows():\n",
    "    compound = row[\"compound_id\"]\n",
    "    pose_str = row[\"pose_pred_out\"]\n",
    "    # If the field is missing or empty, record a None value so the compound appears\n",
    "    if pd.isna(pose_str) or pose_str.strip() == \"\":\n",
    "        docking_data.append({\"compound_id\": compound, \"docking_score\": None})\n",
    "        continue\n",
    "    try:\n",
    "        # Convert the string representation to a dictionary\n",
    "        pose_dict = ast.literal_eval(pose_str)\n",
    "    except Exception as e:\n",
    "        print(f\"Error parsing pose_pred_out for {compound}: {e}\")\n",
    "        docking_data.append({\"compound_id\": compound, \"docking_score\": None})\n",
    "        continue\n",
    "    has_score = False\n",
    "    for pose_key, value in pose_dict.items():\n",
    "        # Expect value to be a list whose first element is a list of scores\n",
    "        if isinstance(value, list) and len(value) > 0 and isinstance(value[0], list):\n",
    "            scores = value[0]\n",
    "            for score in scores:\n",
    "                docking_data.append({\"compound_id\": compound, \"docking_score\": score})\n",
    "                has_score = True\n",
    "    if not has_score:\n",
    "        docking_data.append({\"compound_id\": compound, \"docking_score\": None})\n",
    "\n",
    "docking_df = pd.DataFrame(docking_data)\n",
    "\n",
    "#########################################\n",
    "# Process Redock Predicted Affinity (Bottom Panel)\n",
    "#########################################\n",
    "def parse_kd(kd_str):\n",
    "    \"\"\"\n",
    "    Parse a string like \"Kd = 10.16 uM\" (or with µM) and convert it to nM.\n",
    "    Conversions: mM -> 1e6 nM, uM -> 1e3 nM, nM -> 1, pM -> 1e-3 nM, fM -> 1e-6 nM.\n",
    "    \"\"\"\n",
    "    kd_str = kd_str.replace(\"µ\", \"u\")\n",
    "    pattern = r'Kd\\s*=\\s*([\\d\\.]+)\\s*([munpfM]+)'\n",
    "    match = re.search(pattern, kd_str)\n",
    "    if match:\n",
    "        value = float(match.group(1))\n",
    "        unit = match.group(2).lower()\n",
    "        if unit == \"mm\":\n",
    "            factor = 1e6\n",
    "        elif unit == \"um\":\n",
    "            factor = 1e3\n",
    "        elif unit == \"nm\":\n",
    "            factor = 1\n",
    "        elif unit == \"pm\":\n",
    "            factor = 1e-3\n",
    "        elif unit == \"fm\":\n",
    "            factor = 1e-6\n",
    "        else:\n",
    "            factor = 1\n",
    "        return value * factor\n",
    "    return None\n",
    "\n",
    "rescored_data = []\n",
    "for _, row in df.iterrows():\n",
    "    compound = row[\"compound_id\"]\n",
    "    rescore_str = row[\"re_scored_values\"]\n",
    "    # Handle missing affinity data\n",
    "    if pd.isna(rescore_str) or rescore_str.strip() == \"\":\n",
    "        rescored_data.append({\"compound_id\": compound, \"pose_file\": None, \"kd_nM\": None})\n",
    "        continue\n",
    "    try:\n",
    "        rescore_dict = ast.literal_eval(rescore_str)\n",
    "    except Exception as e:\n",
    "        print(f\"Error parsing re_scored_values for {compound}: {e}\")\n",
    "        rescored_data.append({\"compound_id\": compound, \"pose_file\": None, \"kd_nM\": None})\n",
    "        continue\n",
    "    has_val = False\n",
    "    for pose_file, kd_list in rescore_dict.items():\n",
    "        if isinstance(kd_list, list):\n",
    "            for kd_str in kd_list:\n",
    "                kd_value = parse_kd(kd_str)\n",
    "                if kd_value is not None:\n",
    "                    rescored_data.append({\"compound_id\": compound, \"pose_file\": pose_file, \"kd_nM\": kd_value})\n",
    "                    has_val = True\n",
    "    if not has_val:\n",
    "        rescored_data.append({\"compound_id\": compound, \"pose_file\": None, \"kd_nM\": None})\n",
    "\n",
    "rescored_df = pd.DataFrame(rescored_data)\n",
    "\n",
    "#########################################\n",
    "# Convert Kd (in nM) to pKd\n",
    "#########################################\n",
    "# pKd = -log10(Kd in M). Since Kd is in nM, then pKd = 9 - log10(Kd in nM)\n",
    "def compute_pKd(kd_nM):\n",
    "    if kd_nM is None or pd.isna(kd_nM) or kd_nM <= 0:\n",
    "        return None\n",
    "    return 9 - np.log10(kd_nM)\n",
    "\n",
    "rescored_df[\"pKd\"] = rescored_df[\"kd_nM\"].apply(compute_pKd)\n",
    "\n",
    "#########################################\n",
    "# Create Combined Interactive Plots with Shared X-axis\n",
    "#########################################\n",
    "combined_fig = make_subplots(\n",
    "    rows=2,\n",
    "    cols=1,\n",
    "    shared_xaxes=True,\n",
    "    subplot_titles=(\n",
    "        \"Docking Scores per Compound\",\n",
    "        \"Redock Predicted Affinity (pKd) per Compound\"\n",
    "    )\n",
    ")\n",
    "\n",
    "# Top Panel: Boxplot for docking scores\n",
    "fig_box = px.box(\n",
    "    docking_df,\n",
    "    x=\"compound_id\",\n",
    "    y=\"docking_score\",\n",
    "    category_orders={\"compound_id\": all_compounds},\n",
    "    labels={\"compound_id\": \"Compound ID\", \"docking_score\": \"Docking Score\"}\n",
    ")\n",
    "fig_box.update_traces(marker=dict(color='royalblue'), boxmean=True)\n",
    "\n",
    "# Bottom Panel: Boxplot for pKd values\n",
    "fig_pkd = px.box(\n",
    "    rescored_df,\n",
    "    x=\"compound_id\",\n",
    "    y=\"pKd\",\n",
    "    category_orders={\"compound_id\": all_compounds},\n",
    "    labels={\"compound_id\": \"Compound ID\", \"pKd\": \"pKd\"}\n",
    ")\n",
    "fig_pkd.update_traces(marker=dict(color='darkorange'), boxmean=True)\n",
    "\n",
    "# Add traces to the combined figure\n",
    "for trace in fig_box.data:\n",
    "    combined_fig.add_trace(trace, row=1, col=1)\n",
    "for trace in fig_pkd.data:\n",
    "    combined_fig.add_trace(trace, row=2, col=1)\n",
    "\n",
    "# Update layout: shared x-axis, rotated tick labels\n",
    "combined_fig.update_layout(height=900, showlegend=False)\n",
    "combined_fig.update_xaxes(tickangle=-45)\n",
    "combined_fig.show()\n"
   ]
  }
 ],
 "metadata": {
  "kernelspec": {
   "display_name": "sbdd-env-exp",
   "language": "python",
   "name": "python3"
  },
  "language_info": {
   "codemirror_mode": {
    "name": "ipython",
    "version": 3
   },
   "file_extension": ".py",
   "mimetype": "text/x-python",
   "name": "python",
   "nbconvert_exporter": "python",
   "pygments_lexer": "ipython3",
   "version": "3.10.16"
  }
 },
 "nbformat": 4,
 "nbformat_minor": 5
}
